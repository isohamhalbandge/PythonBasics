{
 "cells": [
  {
   "cell_type": "code",
   "execution_count": 5,
   "id": "81345372-b4bd-47e1-9a46-e1c5d22ba313",
   "metadata": {},
   "outputs": [],
   "source": [
    "class bankAccount:\n",
    "    def openAccount(self, name, email_id):\n",
    "        print(\"Open an account by taking name and mail id \")\n",
    "        return name + \" \" + email_id\n",
    "\n",
    "    def deposit(self, amount):\n",
    "        print(\"I am trying to deposit an amount in my account\")\n",
    "\n",
    "    def withdraw(self, amount):\n",
    "        print(\"I am trying to withdraw\")\n",
    "\n",
    "    def update_details(self, name_update, email_update):\n",
    "        print(\"this function will update my name and mail id for account\")"
   ]
  },
  {
   "cell_type": "code",
   "execution_count": 6,
   "id": "689a09f6-bc3d-4508-8c24-b88846b5acf7",
   "metadata": {},
   "outputs": [],
   "source": [
    "sudh_account = bankAccount()"
   ]
  },
  {
   "cell_type": "code",
   "execution_count": 7,
   "id": "2d4ae67b-5736-47cd-895b-3bd816ba50b0",
   "metadata": {},
   "outputs": [
    {
     "name": "stdout",
     "output_type": "stream",
     "text": [
      "Open an account by taking name and mail id \n"
     ]
    },
    {
     "data": {
      "text/plain": [
       "'sudh sudh123@gmail.com'"
      ]
     },
     "execution_count": 7,
     "metadata": {},
     "output_type": "execute_result"
    }
   ],
   "source": [
    "sudh_account.openAccount(\"sudh\", \"sudh123@gmail.com\")"
   ]
  },
  {
   "cell_type": "code",
   "execution_count": 8,
   "id": "7a83c4fd-8397-4787-9b5d-9cef8d0354ba",
   "metadata": {},
   "outputs": [
    {
     "name": "stdout",
     "output_type": "stream",
     "text": [
      "I am trying to deposit an amount in my account\n"
     ]
    }
   ],
   "source": [
    "sudh_account.deposit(12345)"
   ]
  },
  {
   "cell_type": "code",
   "execution_count": 9,
   "id": "710cb346-d9b9-4473-87b6-41b578e48621",
   "metadata": {},
   "outputs": [
    {
     "name": "stdout",
     "output_type": "stream",
     "text": [
      "I am trying to withdraw\n"
     ]
    }
   ],
   "source": [
    "sudh_account.withdraw(12312312)"
   ]
  },
  {
   "cell_type": "code",
   "execution_count": 14,
   "id": "59db1d6d-068a-4fb4-97d3-c85251b24198",
   "metadata": {},
   "outputs": [],
   "source": [
    "class list_ops:\n",
    "\n",
    "    a = 10\n",
    "    \n",
    "    def extractFromIndex(self, l: list, index):\n",
    "        return l[index]\n",
    "\n",
    "    def extractRangeData(self, l: list, start, end):\n",
    "        return l[start:end]\n",
    "\n",
    "    def extractEven(self, l:list):\n",
    "        l1 = []\n",
    "        for i in l:\n",
    "            if i % 2 == 0:\n",
    "                l1.append(i)\n",
    "            return l1"
   ]
  },
  {
   "cell_type": "code",
   "execution_count": 15,
   "id": "06e3821f-8492-4b5f-9bc8-bac5fcc8ce13",
   "metadata": {},
   "outputs": [],
   "source": [
    "first_obj = list_ops()"
   ]
  },
  {
   "cell_type": "code",
   "execution_count": 16,
   "id": "499575a9-bb30-4140-9c35-93a73f281adf",
   "metadata": {},
   "outputs": [
    {
     "data": {
      "text/plain": [
       "6"
      ]
     },
     "execution_count": 16,
     "metadata": {},
     "output_type": "execute_result"
    }
   ],
   "source": [
    "first_obj.extractFromIndex([2,3,4,5,6],4)"
   ]
  },
  {
   "cell_type": "code",
   "execution_count": 17,
   "id": "9283b827-0cc9-4bdd-a157-9ca12587affe",
   "metadata": {},
   "outputs": [
    {
     "data": {
      "text/plain": [
       "[2, 34, 5, 6]"
      ]
     },
     "execution_count": 17,
     "metadata": {},
     "output_type": "execute_result"
    }
   ],
   "source": [
    "first_obj.extractRangeData([2,34,5,6,7,8], 0, 4)"
   ]
  },
  {
   "cell_type": "code",
   "execution_count": 18,
   "id": "b0d3b4e7-1d2c-4157-8e34-2817edb21c55",
   "metadata": {},
   "outputs": [
    {
     "data": {
      "text/plain": [
       "10"
      ]
     },
     "execution_count": 18,
     "metadata": {},
     "output_type": "execute_result"
    }
   ],
   "source": [
    "first_obj.a"
   ]
  },
  {
   "cell_type": "code",
   "execution_count": 19,
   "id": "0d253524-05a6-4861-8e70-3ca6d1cc22ba",
   "metadata": {},
   "outputs": [],
   "source": [
    "class list_ops:\n",
    "\n",
    "    a = 10\n",
    "    l = [1,2,3,4,5]\n",
    "    \n",
    "    def extractFromIndex(self, l: list, index):\n",
    "        return l[index]\n",
    "\n",
    "    def extractRangeData(self, l: list, start, end):\n",
    "        return l[start:end]\n",
    "\n",
    "    def extractEven(self, l:list):\n",
    "        l1 = []\n",
    "        for i in l:\n",
    "            if i % 2 == 0:\n",
    "                l1.append(i)\n",
    "            return l1"
   ]
  },
  {
   "cell_type": "code",
   "execution_count": 20,
   "id": "9620fea0-84e3-498e-a294-4a42ed94f238",
   "metadata": {},
   "outputs": [
    {
     "data": {
      "text/plain": [
       "5"
      ]
     },
     "execution_count": 20,
     "metadata": {},
     "output_type": "execute_result"
    }
   ],
   "source": [
    "first_obj = list_ops()\n",
    "first_obj.extractFromIndex(first_obj.l, 4)"
   ]
  },
  {
   "cell_type": "code",
   "execution_count": null,
   "id": "8df49a5e-6d22-40b5-b588-50fa76fbf072",
   "metadata": {},
   "outputs": [],
   "source": []
  }
 ],
 "metadata": {
  "kernelspec": {
   "display_name": "Python 3 (ipykernel)",
   "language": "python",
   "name": "python3"
  },
  "language_info": {
   "codemirror_mode": {
    "name": "ipython",
    "version": 3
   },
   "file_extension": ".py",
   "mimetype": "text/x-python",
   "name": "python",
   "nbconvert_exporter": "python",
   "pygments_lexer": "ipython3",
   "version": "3.8.18"
  }
 },
 "nbformat": 4,
 "nbformat_minor": 5
}
