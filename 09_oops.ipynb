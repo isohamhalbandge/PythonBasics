{
 "cells": [
  {
   "cell_type": "code",
   "execution_count": 5,
   "id": "81345372-b4bd-47e1-9a46-e1c5d22ba313",
   "metadata": {},
   "outputs": [],
   "source": [
    "class bankAccount:\n",
    "    def openAccount(self, name, email_id):\n",
    "        print(\"Open an account by taking name and mail id \")\n",
    "        return name + \" \" + email_id\n",
    "\n",
    "    def deposit(self, amount):\n",
    "        print(\"I am trying to deposit an amount in my account\")\n",
    "\n",
    "    def withdraw(self, amount):\n",
    "        print(\"I am trying to withdraw\")\n",
    "\n",
    "    def update_details(self, name_update, email_update):\n",
    "        print(\"this function will update my name and mail id for account\")"
   ]
  },
  {
   "cell_type": "code",
   "execution_count": 6,
   "id": "689a09f6-bc3d-4508-8c24-b88846b5acf7",
   "metadata": {},
   "outputs": [],
   "source": [
    "sudh_account = bankAccount()"
   ]
  },
  {
   "cell_type": "code",
   "execution_count": 7,
   "id": "2d4ae67b-5736-47cd-895b-3bd816ba50b0",
   "metadata": {},
   "outputs": [
    {
     "name": "stdout",
     "output_type": "stream",
     "text": [
      "Open an account by taking name and mail id \n"
     ]
    },
    {
     "data": {
      "text/plain": [
       "'sudh sudh123@gmail.com'"
      ]
     },
     "execution_count": 7,
     "metadata": {},
     "output_type": "execute_result"
    }
   ],
   "source": [
    "sudh_account.openAccount(\"sudh\", \"sudh123@gmail.com\")"
   ]
  },
  {
   "cell_type": "code",
   "execution_count": 8,
   "id": "7a83c4fd-8397-4787-9b5d-9cef8d0354ba",
   "metadata": {},
   "outputs": [
    {
     "name": "stdout",
     "output_type": "stream",
     "text": [
      "I am trying to deposit an amount in my account\n"
     ]
    }
   ],
   "source": [
    "sudh_account.deposit(12345)"
   ]
  },
  {
   "cell_type": "code",
   "execution_count": 9,
   "id": "710cb346-d9b9-4473-87b6-41b578e48621",
   "metadata": {},
   "outputs": [
    {
     "name": "stdout",
     "output_type": "stream",
     "text": [
      "I am trying to withdraw\n"
     ]
    }
   ],
   "source": [
    "sudh_account.withdraw(12312312)"
   ]
  },
  {
   "cell_type": "code",
   "execution_count": 14,
   "id": "59db1d6d-068a-4fb4-97d3-c85251b24198",
   "metadata": {},
   "outputs": [],
   "source": [
    "class list_ops:\n",
    "\n",
    "    a = 10\n",
    "    \n",
    "    def extractFromIndex(self, l: list, index):\n",
    "        return l[index]\n",
    "\n",
    "    def extractRangeData(self, l: list, start, end):\n",
    "        return l[start:end]\n",
    "\n",
    "    def extractEven(self, l:list):\n",
    "        l1 = []\n",
    "        for i in l:\n",
    "            if i % 2 == 0:\n",
    "                l1.append(i)\n",
    "            return l1"
   ]
  },
  {
   "cell_type": "code",
   "execution_count": 15,
   "id": "06e3821f-8492-4b5f-9bc8-bac5fcc8ce13",
   "metadata": {},
   "outputs": [],
   "source": [
    "first_obj = list_ops()"
   ]
  },
  {
   "cell_type": "code",
   "execution_count": 16,
   "id": "499575a9-bb30-4140-9c35-93a73f281adf",
   "metadata": {},
   "outputs": [
    {
     "data": {
      "text/plain": [
       "6"
      ]
     },
     "execution_count": 16,
     "metadata": {},
     "output_type": "execute_result"
    }
   ],
   "source": [
    "first_obj.extractFromIndex([2,3,4,5,6],4)"
   ]
  },
  {
   "cell_type": "code",
   "execution_count": 17,
   "id": "9283b827-0cc9-4bdd-a157-9ca12587affe",
   "metadata": {},
   "outputs": [
    {
     "data": {
      "text/plain": [
       "[2, 34, 5, 6]"
      ]
     },
     "execution_count": 17,
     "metadata": {},
     "output_type": "execute_result"
    }
   ],
   "source": [
    "first_obj.extractRangeData([2,34,5,6,7,8], 0, 4)"
   ]
  },
  {
   "cell_type": "code",
   "execution_count": 18,
   "id": "b0d3b4e7-1d2c-4157-8e34-2817edb21c55",
   "metadata": {},
   "outputs": [
    {
     "data": {
      "text/plain": [
       "10"
      ]
     },
     "execution_count": 18,
     "metadata": {},
     "output_type": "execute_result"
    }
   ],
   "source": [
    "first_obj.a"
   ]
  },
  {
   "cell_type": "code",
   "execution_count": 19,
   "id": "0d253524-05a6-4861-8e70-3ca6d1cc22ba",
   "metadata": {},
   "outputs": [],
   "source": [
    "class list_ops:\n",
    "\n",
    "    a = 10\n",
    "    l = [1,2,3,4,5]\n",
    "    \n",
    "    def extractFromIndex(self, l: list, index):\n",
    "        return l[index]\n",
    "\n",
    "    def extractRangeData(self, l: list, start, end):\n",
    "        return l[start:end]\n",
    "\n",
    "    def extractEven(self, l:list):\n",
    "        l1 = []\n",
    "        for i in l:\n",
    "            if i % 2 == 0:\n",
    "                l1.append(i)\n",
    "            return l1"
   ]
  },
  {
   "cell_type": "code",
   "execution_count": 20,
   "id": "9620fea0-84e3-498e-a294-4a42ed94f238",
   "metadata": {},
   "outputs": [
    {
     "data": {
      "text/plain": [
       "5"
      ]
     },
     "execution_count": 20,
     "metadata": {},
     "output_type": "execute_result"
    }
   ],
   "source": [
    "first_obj = list_ops()\n",
    "first_obj.extractFromIndex(first_obj.l, 4)"
   ]
  },
  {
   "cell_type": "code",
   "execution_count": 21,
   "id": "8df49a5e-6d22-40b5-b588-50fa76fbf072",
   "metadata": {},
   "outputs": [
    {
     "data": {
      "text/plain": [
       "10"
      ]
     },
     "execution_count": 21,
     "metadata": {},
     "output_type": "execute_result"
    }
   ],
   "source": [
    "second_obj = list_ops()\n",
    "second_obj.a"
   ]
  },
  {
   "cell_type": "code",
   "execution_count": 22,
   "id": "ed18ff5c-8bbe-47f1-961d-69f449cfa7b3",
   "metadata": {},
   "outputs": [
    {
     "data": {
      "text/plain": [
       "[1, 2, 3, 4, 5]"
      ]
     },
     "execution_count": 22,
     "metadata": {},
     "output_type": "execute_result"
    }
   ],
   "source": [
    "second_obj.l"
   ]
  },
  {
   "cell_type": "code",
   "execution_count": 23,
   "id": "d9f01619-c61e-45fd-891f-1d7dcf9f3b8b",
   "metadata": {},
   "outputs": [],
   "source": [
    "class list_ops:\n",
    "\n",
    "    # a = 10\n",
    "    # l = [1,2,3,4,5]\n",
    "\n",
    "    # dunder function \n",
    "    def __init__(self,var):\n",
    "        self.var = var\n",
    "    \n",
    "    def extractFromIndex(self, l: list, index):\n",
    "        return l[index]\n",
    "\n",
    "    def extractRangeData(self, l: list, start, end):\n",
    "        return l[start:end]\n",
    "\n",
    "    def extractEven(self, l:list):\n",
    "        l1 = []\n",
    "        for i in l:\n",
    "            if i % 2 == 0:\n",
    "                l1.append(i)\n",
    "            return l1"
   ]
  },
  {
   "cell_type": "code",
   "execution_count": 24,
   "id": "5981f6bc-d12e-413f-8b4b-b9279d938716",
   "metadata": {},
   "outputs": [
    {
     "ename": "TypeError",
     "evalue": "__init__() missing 1 required positional argument: 'var'",
     "output_type": "error",
     "traceback": [
      "\u001b[0;31m---------------------------------------------------------------------------\u001b[0m",
      "\u001b[0;31mTypeError\u001b[0m                                 Traceback (most recent call last)",
      "Cell \u001b[0;32mIn[24], line 1\u001b[0m\n\u001b[0;32m----> 1\u001b[0m second_obj \u001b[38;5;241m=\u001b[39m \u001b[43mlist_ops\u001b[49m\u001b[43m(\u001b[49m\u001b[43m)\u001b[49m\n",
      "\u001b[0;31mTypeError\u001b[0m: __init__() missing 1 required positional argument: 'var'"
     ]
    }
   ],
   "source": [
    "second_obj = list_ops()"
   ]
  },
  {
   "cell_type": "code",
   "execution_count": 25,
   "id": "165553f3-32e4-44a1-94ce-c5f4c4c6c594",
   "metadata": {},
   "outputs": [],
   "source": [
    "second_obj = list_ops([1,2,3,4,5])"
   ]
  },
  {
   "cell_type": "code",
   "execution_count": 26,
   "id": "b51ef8f6-63f2-44c1-bdb7-29c1155f74d7",
   "metadata": {},
   "outputs": [
    {
     "ename": "TypeError",
     "evalue": "__init__() missing 1 required positional argument: 'var'",
     "output_type": "error",
     "traceback": [
      "\u001b[0;31m---------------------------------------------------------------------------\u001b[0m",
      "\u001b[0;31mTypeError\u001b[0m                                 Traceback (most recent call last)",
      "Cell \u001b[0;32mIn[26], line 1\u001b[0m\n\u001b[0;32m----> 1\u001b[0m third_obj \u001b[38;5;241m=\u001b[39m \u001b[43mlist_ops\u001b[49m\u001b[43m(\u001b[49m\u001b[43m)\u001b[49m\n",
      "\u001b[0;31mTypeError\u001b[0m: __init__() missing 1 required positional argument: 'var'"
     ]
    }
   ],
   "source": [
    "third_obj = list_ops()"
   ]
  },
  {
   "cell_type": "code",
   "execution_count": 27,
   "id": "24605228-e2ca-4f4e-8cfa-7b821e1046a0",
   "metadata": {},
   "outputs": [],
   "source": [
    "third_obj = list_ops('sudh')"
   ]
  },
  {
   "cell_type": "code",
   "execution_count": 28,
   "id": "225b87f9-2185-482c-92af-a8a2d75268e4",
   "metadata": {},
   "outputs": [
    {
     "data": {
      "text/plain": [
       "[1, 2, 3, 4, 5]"
      ]
     },
     "execution_count": 28,
     "metadata": {},
     "output_type": "execute_result"
    }
   ],
   "source": [
    "second_obj.var"
   ]
  },
  {
   "cell_type": "code",
   "execution_count": 29,
   "id": "7bf4b428-cbb9-45a8-b630-d7d58d1e4b46",
   "metadata": {},
   "outputs": [
    {
     "data": {
      "text/plain": [
       "'sudh'"
      ]
     },
     "execution_count": 29,
     "metadata": {},
     "output_type": "execute_result"
    }
   ],
   "source": [
    "third_obj.var"
   ]
  },
  {
   "cell_type": "code",
   "execution_count": 30,
   "id": "e148b483-5acd-4730-9f42-d475061b9625",
   "metadata": {},
   "outputs": [],
   "source": [
    "class list_ops:\n",
    "\n",
    "    # a = 10\n",
    "    # l = [1,2,3,4,5]\n",
    "\n",
    "    # dunder function \n",
    "    # constructor\n",
    "    def __init__(self,var):\n",
    "        self.var1 = var\n",
    "    \n",
    "    def extractFromIndex(self, l: list, index):\n",
    "        return l[index]\n",
    "\n",
    "    def extractRangeData(self, l: list, start, end):\n",
    "        return l[start:end]\n",
    "\n",
    "    def extractEven(self, l:list):\n",
    "        l1 = []\n",
    "        for i in l:\n",
    "            if i % 2 == 0:\n",
    "                l1.append(i)\n",
    "            return l1"
   ]
  },
  {
   "cell_type": "code",
   "execution_count": 31,
   "id": "c82df796-91f2-4876-a608-42932cb2afcb",
   "metadata": {},
   "outputs": [],
   "source": [
    "second_obj = list_ops('sudh')"
   ]
  },
  {
   "cell_type": "code",
   "execution_count": 33,
   "id": "df8a7dac-f88a-4542-884e-ca2ece9f7f6f",
   "metadata": {},
   "outputs": [
    {
     "ename": "AttributeError",
     "evalue": "'list_ops' object has no attribute 'var'",
     "output_type": "error",
     "traceback": [
      "\u001b[0;31m---------------------------------------------------------------------------\u001b[0m",
      "\u001b[0;31mAttributeError\u001b[0m                            Traceback (most recent call last)",
      "Cell \u001b[0;32mIn[33], line 1\u001b[0m\n\u001b[0;32m----> 1\u001b[0m \u001b[43msecond_obj\u001b[49m\u001b[38;5;241;43m.\u001b[39;49m\u001b[43mvar\u001b[49m\n",
      "\u001b[0;31mAttributeError\u001b[0m: 'list_ops' object has no attribute 'var'"
     ]
    }
   ],
   "source": [
    "second_obj.var"
   ]
  },
  {
   "cell_type": "code",
   "execution_count": 34,
   "id": "474b0214-a793-4a3e-be8c-7b2cd8f80caf",
   "metadata": {},
   "outputs": [
    {
     "data": {
      "text/plain": [
       "'sudh'"
      ]
     },
     "execution_count": 34,
     "metadata": {},
     "output_type": "execute_result"
    }
   ],
   "source": [
    "second_obj.var1"
   ]
  },
  {
   "cell_type": "code",
   "execution_count": 39,
   "id": "4e738a7f-b9c9-4050-91dc-cf77a351c835",
   "metadata": {},
   "outputs": [],
   "source": [
    "class list_ops:\n",
    "\n",
    "    # a = 10\n",
    "    # l = [1,2,3,4,5]\n",
    "\n",
    "    # dunder function \n",
    "    # constructor\n",
    "    def __init__(self,var):\n",
    "\n",
    "        # this will be different for all the objects based on their parameter\n",
    "        self.var1 = var\n",
    "\n",
    "        # var2 to var4 will be same for all the objects\n",
    "        self.var2 = 10\n",
    "        self.var3 = 20\n",
    "        self.var4 = 'home'\n",
    "    \n",
    "    def extractFromIndex(self, l: list, index):\n",
    "        return l[index]\n",
    "\n",
    "    def extractRangeData(self, l: list, start, end):\n",
    "        return l[start:end]\n",
    "\n",
    "    def extractEven(self, l:list):\n",
    "        l1 = []\n",
    "        for i in l:\n",
    "            if i % 2 == 0:\n",
    "                l1.append(i)\n",
    "            return l1"
   ]
  },
  {
   "cell_type": "code",
   "execution_count": 40,
   "id": "3a5a1945-675f-48f3-aa14-1015f3daea37",
   "metadata": {},
   "outputs": [],
   "source": [
    "third_obj = list_ops('hello')"
   ]
  },
  {
   "cell_type": "code",
   "execution_count": 41,
   "id": "3ba208cb-f839-4548-a057-373e4e2cdbed",
   "metadata": {},
   "outputs": [
    {
     "data": {
      "text/plain": [
       "'home'"
      ]
     },
     "execution_count": 41,
     "metadata": {},
     "output_type": "execute_result"
    }
   ],
   "source": [
    "third_obj.var4"
   ]
  },
  {
   "cell_type": "code",
   "execution_count": 42,
   "id": "6458d5d6-b28a-4bb4-9271-fda84c8cf74f",
   "metadata": {},
   "outputs": [],
   "source": [
    "class Book:\n",
    "\n",
    "    def __init__(self, name: str, title: str, pageno: int):\n",
    "        self.name = name\n",
    "        self.title = title\n",
    "        self.pageno = pageno\n",
    "\n",
    "    def extract_details(self):\n",
    "        print(self.name, self.title)\n",
    "\n",
    "    def print_page_no(self):\n",
    "        print(self.pageno)"
   ]
  },
  {
   "cell_type": "code",
   "execution_count": 43,
   "id": "33303f4f-da08-49bf-9c2b-3504c8d57527",
   "metadata": {},
   "outputs": [],
   "source": [
    "sudhanshu = Book('DSA', 'Practical DSA', 456)"
   ]
  },
  {
   "cell_type": "code",
   "execution_count": 44,
   "id": "f244f207-548c-495e-816f-0d8b66a2eea2",
   "metadata": {},
   "outputs": [],
   "source": [
    "ronik = Book('Data  Science', 'Implementation of Data Science', 345)"
   ]
  },
  {
   "cell_type": "code",
   "execution_count": 45,
   "id": "60648868-2bf2-4eb6-9a6b-3d187089c899",
   "metadata": {},
   "outputs": [],
   "source": [
    "wasim = Book(\"Big Data\", \"Invention with Big Data\", 434)"
   ]
  },
  {
   "cell_type": "code",
   "execution_count": 47,
   "id": "55870f63-23d2-4369-849f-0fa9b4ecbe31",
   "metadata": {},
   "outputs": [
    {
     "name": "stdout",
     "output_type": "stream",
     "text": [
      "DSA Practical DSA\n"
     ]
    }
   ],
   "source": [
    "sudhanshu.extract_details()"
   ]
  },
  {
   "cell_type": "code",
   "execution_count": 48,
   "id": "0e8139bf-c98a-4ba9-9097-e257a1cb6083",
   "metadata": {},
   "outputs": [
    {
     "name": "stdout",
     "output_type": "stream",
     "text": [
      "Data  Science Implementation of Data Science\n"
     ]
    }
   ],
   "source": [
    "ronik.extract_details()"
   ]
  },
  {
   "cell_type": "code",
   "execution_count": 49,
   "id": "8df93e51-1bc6-4e8b-8328-4ac7ca6f9a17",
   "metadata": {},
   "outputs": [
    {
     "name": "stdout",
     "output_type": "stream",
     "text": [
      "Big Data Invention with Big Data\n"
     ]
    }
   ],
   "source": [
    "wasim.extract_details()"
   ]
  },
  {
   "cell_type": "code",
   "execution_count": 50,
   "id": "7a5dcb18-7728-41a1-bf5c-1542c349390f",
   "metadata": {},
   "outputs": [],
   "source": [
    "class Book:\n",
    "\n",
    "    def __init__(self):\n",
    "        self.name = \"sudh\"\n",
    "        self.title = \"DSA\"\n",
    "        self.pageno = 123123\n",
    "\n",
    "    def extract_details(self):\n",
    "        print(self.name, self.title)\n",
    "\n",
    "    def print_page_no(self):\n",
    "        print(self.pageno)"
   ]
  },
  {
   "cell_type": "code",
   "execution_count": 51,
   "id": "be19eeaa-b452-4319-9c55-53809882ada8",
   "metadata": {},
   "outputs": [],
   "source": [
    "student1 = Book()"
   ]
  },
  {
   "cell_type": "code",
   "execution_count": 52,
   "id": "d4e542ba-b806-4903-8cef-4e65b1a0c2df",
   "metadata": {},
   "outputs": [
    {
     "data": {
      "text/plain": [
       "'sudh'"
      ]
     },
     "execution_count": 52,
     "metadata": {},
     "output_type": "execute_result"
    }
   ],
   "source": [
    "student1.name"
   ]
  },
  {
   "cell_type": "code",
   "execution_count": 53,
   "id": "12ee7171-0eda-41f5-95dc-298e24a4b839",
   "metadata": {},
   "outputs": [],
   "source": [
    "student2 = Book()"
   ]
  },
  {
   "cell_type": "code",
   "execution_count": 54,
   "id": "f34eefca-a607-45a1-8ef7-1e81b3db783b",
   "metadata": {},
   "outputs": [
    {
     "data": {
      "text/plain": [
       "'sudh'"
      ]
     },
     "execution_count": 54,
     "metadata": {},
     "output_type": "execute_result"
    }
   ],
   "source": [
    "student2.name"
   ]
  },
  {
   "cell_type": "code",
   "execution_count": 74,
   "id": "0cf1c7ad-a6cf-4e7b-a963-1104926204a8",
   "metadata": {},
   "outputs": [],
   "source": [
    "class gmailOps:\n",
    "    def __init__(self, username: str, password: str):\n",
    "        self.username = username\n",
    "        self.password = password\n",
    "        self.url = 'https://www.gmail.com'\n",
    "\n",
    "    def login(self):\n",
    "        print(\"Take userid \" + self.username + \" take password \" + self.password + \" hit url \" + self.url)\n",
    "        print(\"login\")\n",
    "\n",
    "    def readMail(self):\n",
    "        print(\"Read mail for : \" + self.username + \" \" + self.password)\n",
    "\n",
    "    def reply_mail(self):\n",
    "        print(\"Reply mail for : \" + self.username + \" \" + self.password)"
   ]
  },
  {
   "cell_type": "code",
   "execution_count": 75,
   "id": "253bfcd3-f468-4554-bf17-cbec6c5f5f25",
   "metadata": {},
   "outputs": [],
   "source": [
    "user1 = gmailOps(\"user1\", \"password\")"
   ]
  },
  {
   "cell_type": "code",
   "execution_count": 76,
   "id": "6375273f-a4de-4b2d-816f-1f5243821843",
   "metadata": {},
   "outputs": [
    {
     "name": "stdout",
     "output_type": "stream",
     "text": [
      "Take userid user1 take password password hit url https://www.gmail.com\n",
      "login\n"
     ]
    }
   ],
   "source": [
    "user1.login()"
   ]
  },
  {
   "cell_type": "code",
   "execution_count": 77,
   "id": "337bcf2b-2fa3-4340-aaab-5e3a08eb0a80",
   "metadata": {},
   "outputs": [],
   "source": [
    "user2 = gmailOps(\"user2\", \"password\")"
   ]
  },
  {
   "cell_type": "code",
   "execution_count": 78,
   "id": "c79720ac-4423-4f86-85e2-fa2f038bb492",
   "metadata": {},
   "outputs": [
    {
     "name": "stdout",
     "output_type": "stream",
     "text": [
      "Take userid user2 take password password hit url https://www.gmail.com\n",
      "login\n"
     ]
    }
   ],
   "source": [
    "user2.login()"
   ]
  },
  {
   "cell_type": "code",
   "execution_count": 80,
   "id": "8e6df1fd-a986-4d67-8376-be3331aae711",
   "metadata": {},
   "outputs": [],
   "source": [
    "from functools import reduce\n",
    "class Calculator:\n",
    "    def add(self, *args):\n",
    "        return sum(args)\n",
    "\n",
    "    def subtraction(self, *args):\n",
    "        return reduce(lambda a, b : a - b, args)\n",
    "\n",
    "    def mul(self, *args):\n",
    "        return reduce(lambda a,b : a * b, args)\n",
    "\n",
    "    def div(self, *args):\n",
    "        return reduce(lambda a,b : a / b, args)       "
   ]
  },
  {
   "cell_type": "code",
   "execution_count": 81,
   "id": "c850e5ab-8a45-4869-bce5-f7098bfaa84e",
   "metadata": {},
   "outputs": [],
   "source": [
    "sudh = Calculator()"
   ]
  },
  {
   "cell_type": "code",
   "execution_count": 82,
   "id": "f3529b3a-4c9b-49fd-9bc7-8de175afb5c4",
   "metadata": {},
   "outputs": [
    {
     "data": {
      "text/plain": [
       "6"
      ]
     },
     "execution_count": 82,
     "metadata": {},
     "output_type": "execute_result"
    }
   ],
   "source": [
    "sudh.add(1,2,3)"
   ]
  },
  {
   "cell_type": "code",
   "execution_count": 83,
   "id": "7734e6af-a6c4-43d2-954d-a697b802d3b2",
   "metadata": {},
   "outputs": [
    {
     "data": {
      "text/plain": [
       "-8"
      ]
     },
     "execution_count": 83,
     "metadata": {},
     "output_type": "execute_result"
    }
   ],
   "source": [
    "sudh.subtraction(1,2,3,4)"
   ]
  },
  {
   "cell_type": "code",
   "execution_count": 84,
   "id": "0cf6f088-3210-42e1-a55d-290548ce0db1",
   "metadata": {},
   "outputs": [
    {
     "data": {
      "text/plain": [
       "84"
      ]
     },
     "execution_count": 84,
     "metadata": {},
     "output_type": "execute_result"
    }
   ],
   "source": [
    "sudh.mul(2,3,14)"
   ]
  },
  {
   "cell_type": "code",
   "execution_count": 85,
   "id": "ae4e0d49-6cce-4758-be31-dfefbddb33b2",
   "metadata": {},
   "outputs": [
    {
     "data": {
      "text/plain": [
       "0.5"
      ]
     },
     "execution_count": 85,
     "metadata": {},
     "output_type": "execute_result"
    }
   ],
   "source": [
    "sudh.div(1,1,2)"
   ]
  },
  {
   "cell_type": "code",
   "execution_count": null,
   "id": "5ce32795-7093-4aec-bd54-b299a4eabbc4",
   "metadata": {},
   "outputs": [],
   "source": []
  }
 ],
 "metadata": {
  "kernelspec": {
   "display_name": "Python 3 (ipykernel)",
   "language": "python",
   "name": "python3"
  },
  "language_info": {
   "codemirror_mode": {
    "name": "ipython",
    "version": 3
   },
   "file_extension": ".py",
   "mimetype": "text/x-python",
   "name": "python",
   "nbconvert_exporter": "python",
   "pygments_lexer": "ipython3",
   "version": "3.8.18"
  }
 },
 "nbformat": 4,
 "nbformat_minor": 5
}
