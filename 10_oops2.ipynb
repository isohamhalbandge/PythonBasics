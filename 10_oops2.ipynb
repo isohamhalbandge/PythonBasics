{
 "cells": [
  {
   "cell_type": "code",
   "execution_count": 12,
   "id": "5ab89fa6-069e-431c-8897-f9ee92aeba90",
   "metadata": {},
   "outputs": [],
   "source": [
    "class A:\n",
    "    def test(self):\n",
    "        print(\"this test method is part of class NewClass\")\n",
    "\n",
    "    def test1(self):\n",
    "        print(\"this is test1 from class A\")"
   ]
  },
  {
   "cell_type": "code",
   "execution_count": 13,
   "id": "0d0cc8ea-8dec-4381-8e22-2ae9d46ad87c",
   "metadata": {},
   "outputs": [],
   "source": [
    "obj = A()"
   ]
  },
  {
   "cell_type": "code",
   "execution_count": 14,
   "id": "d4531501-74df-4068-b94c-1d1bbc937001",
   "metadata": {},
   "outputs": [
    {
     "name": "stdout",
     "output_type": "stream",
     "text": [
      "this test method is part of class NewClass\n"
     ]
    }
   ],
   "source": [
    "obj.test()"
   ]
  },
  {
   "cell_type": "code",
   "execution_count": 15,
   "id": "5cde73fe-4d06-4f81-baa2-0f9c76d2cbf1",
   "metadata": {},
   "outputs": [],
   "source": [
    "class B:\n",
    "    def test(self):\n",
    "        print(\"this test method is part of class NewClass\")"
   ]
  },
  {
   "cell_type": "code",
   "execution_count": 20,
   "id": "f50a9b3b-ad7a-45b5-bcc4-6c604b26ede4",
   "metadata": {},
   "outputs": [],
   "source": [
    "# inheritance\n",
    "class B(A):\n",
    "    def test1b(self):\n",
    "        print(\"this is part of class b\")"
   ]
  },
  {
   "cell_type": "code",
   "execution_count": 21,
   "id": "b1e1b53f-3428-455e-98f8-66835af0afba",
   "metadata": {},
   "outputs": [],
   "source": [
    "obj2 = B()"
   ]
  },
  {
   "cell_type": "code",
   "execution_count": 22,
   "id": "186b0cd3-3320-403a-8f94-1c0123c47f2b",
   "metadata": {},
   "outputs": [
    {
     "name": "stdout",
     "output_type": "stream",
     "text": [
      "this test method is part of class NewClass\n"
     ]
    }
   ],
   "source": [
    "obj2.test() # was able to call test function from class A"
   ]
  },
  {
   "cell_type": "code",
   "execution_count": 23,
   "id": "9955db08-e714-46a9-9866-57979d594885",
   "metadata": {},
   "outputs": [
    {
     "name": "stdout",
     "output_type": "stream",
     "text": [
      "this is test1 from class A\n"
     ]
    }
   ],
   "source": [
    "obj2.test1()"
   ]
  },
  {
   "cell_type": "code",
   "execution_count": 24,
   "id": "c7868306-0a79-48ff-8060-2f12199d4ae2",
   "metadata": {},
   "outputs": [
    {
     "name": "stdout",
     "output_type": "stream",
     "text": [
      "this is part of class b\n"
     ]
    }
   ],
   "source": [
    "obj2.test1b()"
   ]
  },
  {
   "cell_type": "code",
   "execution_count": 29,
   "id": "91e6f310-19ef-47af-8f95-3f2e2661ca9a",
   "metadata": {},
   "outputs": [],
   "source": [
    "class Lecture:\n",
    "    def topic(self):\n",
    "        print(\"todays class we are discussing about inheritance concept in oops\")\n",
    "\n",
    "    def timing(self):\n",
    "        print(\"timing for today's class is 9 am ist\")\n",
    "\n",
    "    def end_time(self):\n",
    "        print(\"today i will try to end class bit early\")"
   ]
  },
  {
   "cell_type": "code",
   "execution_count": 31,
   "id": "77d11b81-4d64-475d-8280-63e1267627fb",
   "metadata": {},
   "outputs": [],
   "source": [
    "class Student(Lecture):\n",
    "    def student_details(self):\n",
    "        print(\"this class will give you student details\")"
   ]
  },
  {
   "cell_type": "code",
   "execution_count": 32,
   "id": "88af0479-f3eb-4b09-ba3c-fb41ab27b7ce",
   "metadata": {},
   "outputs": [],
   "source": [
    "student_obj = Student()"
   ]
  },
  {
   "cell_type": "code",
   "execution_count": 33,
   "id": "a7d87000-e428-4f0a-a449-16b0d5a529cf",
   "metadata": {},
   "outputs": [
    {
     "name": "stdout",
     "output_type": "stream",
     "text": [
      "this class will give you student details\n"
     ]
    }
   ],
   "source": [
    "student_obj.student_details()"
   ]
  },
  {
   "cell_type": "code",
   "execution_count": 34,
   "id": "b2bdde43-b39e-43fb-b3c7-7c699514cfae",
   "metadata": {},
   "outputs": [
    {
     "name": "stdout",
     "output_type": "stream",
     "text": [
      "todays class we are discussing about inheritance concept in oops\n"
     ]
    }
   ],
   "source": [
    "student_obj.topic()"
   ]
  },
  {
   "cell_type": "code",
   "execution_count": 35,
   "id": "461a5c40-52eb-4c95-b1b5-e2c5a4489d48",
   "metadata": {},
   "outputs": [
    {
     "name": "stdout",
     "output_type": "stream",
     "text": [
      "timing for today's class is 9 am ist\n"
     ]
    }
   ],
   "source": [
    "student_obj.timing()"
   ]
  },
  {
   "cell_type": "code",
   "execution_count": 36,
   "id": "0b5ee545-cfef-4439-a92b-c43cc7edc77f",
   "metadata": {},
   "outputs": [
    {
     "name": "stdout",
     "output_type": "stream",
     "text": [
      "today i will try to end class bit early\n"
     ]
    }
   ],
   "source": [
    "student_obj.end_time()"
   ]
  },
  {
   "cell_type": "code",
   "execution_count": 38,
   "id": "b41284f2-5a92-4e82-900b-5bb3e5ec183c",
   "metadata": {},
   "outputs": [],
   "source": [
    "# inherited from student which was inherited from lecture\n",
    "class Teacher(Student):\n",
    "    def details(self):\n",
    "        print(\"this will you details about teacher\")"
   ]
  },
  {
   "cell_type": "code",
   "execution_count": 39,
   "id": "6460bb1f-e340-41f4-8224-fe981837061d",
   "metadata": {},
   "outputs": [],
   "source": [
    "sudh = Teacher()"
   ]
  },
  {
   "cell_type": "code",
   "execution_count": 40,
   "id": "a3c9e377-a205-46c6-8029-12036dca3dcd",
   "metadata": {},
   "outputs": [
    {
     "name": "stdout",
     "output_type": "stream",
     "text": [
      "this will you details about teacher\n"
     ]
    }
   ],
   "source": [
    "sudh.details()"
   ]
  },
  {
   "cell_type": "code",
   "execution_count": 41,
   "id": "7d7e1341-362c-4b7e-ad7c-0cc7d2062fe3",
   "metadata": {},
   "outputs": [
    {
     "name": "stdout",
     "output_type": "stream",
     "text": [
      "today i will try to end class bit early\n"
     ]
    }
   ],
   "source": [
    "sudh.end_time()"
   ]
  },
  {
   "cell_type": "code",
   "execution_count": 42,
   "id": "4a270eed-8534-4019-ab0b-dc9023638f86",
   "metadata": {},
   "outputs": [
    {
     "name": "stdout",
     "output_type": "stream",
     "text": [
      "this class will give you student details\n"
     ]
    }
   ],
   "source": [
    "sudh.student_details()"
   ]
  },
  {
   "cell_type": "code",
   "execution_count": 43,
   "id": "657b3757-9ad7-4099-a973-d17e2107c3c1",
   "metadata": {},
   "outputs": [
    {
     "name": "stdout",
     "output_type": "stream",
     "text": [
      "timing for today's class is 9 am ist\n"
     ]
    }
   ],
   "source": [
    "sudh.timing()"
   ]
  },
  {
   "cell_type": "code",
   "execution_count": 44,
   "id": "b3a8ce13-93a3-4d65-85dd-f3cb25653aee",
   "metadata": {},
   "outputs": [
    {
     "name": "stdout",
     "output_type": "stream",
     "text": [
      "todays class we are discussing about inheritance concept in oops\n"
     ]
    }
   ],
   "source": [
    "sudh.topic()"
   ]
  },
  {
   "cell_type": "raw",
   "id": "8462d93c-1b7e-4e07-abb5-9358538e10de",
   "metadata": {},
   "source": [
    "'''\n",
    "multilevel inheritance\n",
    "\n",
    "Lecture\n",
    "   |\n",
    "Student\n",
    "   |\n",
    "Teacher\n",
    "\n",
    "'''"
   ]
  },
  {
   "cell_type": "code",
   "execution_count": 45,
   "id": "ee0965af-10bb-4c83-b448-04f1676281a7",
   "metadata": {},
   "outputs": [],
   "source": [
    "class Lecture:\n",
    "    def topic(self):\n",
    "        print(\"todays class we are discussing about inheritance concept in oops\")\n",
    "\n",
    "    def timing(self):\n",
    "        print(\"timing for today's class is 9 am ist\")\n",
    "\n",
    "    def end_time(self):\n",
    "        print(\"today i will try to end class bit early\")"
   ]
  },
  {
   "cell_type": "code",
   "execution_count": 54,
   "id": "107e301a-39fb-41f0-8963-dc991fcdd7c6",
   "metadata": {},
   "outputs": [],
   "source": [
    "class Student():\n",
    "    def student_details(self):\n",
    "        print(\"this class will give you student details\")\n",
    "\n",
    "    def timing(self):\n",
    "        print(\"this is timing function from student class\")"
   ]
  },
  {
   "cell_type": "code",
   "execution_count": 55,
   "id": "be6244c8-082f-4b83-a3c8-dd6cd04ca150",
   "metadata": {},
   "outputs": [],
   "source": [
    "class Teacher(Student, Lecture):\n",
    "    def details(self):\n",
    "        print(\"this will you details about teacher\")"
   ]
  },
  {
   "cell_type": "code",
   "execution_count": 56,
   "id": "7a598255-5f57-4abf-a0b6-de432148627d",
   "metadata": {},
   "outputs": [],
   "source": [
    "krish = Teacher()"
   ]
  },
  {
   "cell_type": "code",
   "execution_count": 57,
   "id": "73d889e9-6999-4f76-8a22-27f12e52bb29",
   "metadata": {},
   "outputs": [
    {
     "name": "stdout",
     "output_type": "stream",
     "text": [
      "todays class we are discussing about inheritance concept in oops\n"
     ]
    }
   ],
   "source": [
    "krish.topic()"
   ]
  },
  {
   "cell_type": "code",
   "execution_count": 62,
   "id": "d2dd4870-e5ca-4c08-9537-94391f832880",
   "metadata": {},
   "outputs": [
    {
     "name": "stdout",
     "output_type": "stream",
     "text": [
      "this is timing function from student class\n"
     ]
    }
   ],
   "source": [
    "krish.timing() # took timing from student class reason because 1st argument was Student then Lecture"
   ]
  },
  {
   "cell_type": "code",
   "execution_count": 59,
   "id": "4c23b074-2700-4b60-80f0-38b9332ef40c",
   "metadata": {},
   "outputs": [
    {
     "name": "stdout",
     "output_type": "stream",
     "text": [
      "today i will try to end class bit early\n"
     ]
    }
   ],
   "source": [
    "krish.end_time()"
   ]
  },
  {
   "cell_type": "code",
   "execution_count": 60,
   "id": "abcad963-1172-4017-a769-90710bc05c55",
   "metadata": {},
   "outputs": [
    {
     "name": "stdout",
     "output_type": "stream",
     "text": [
      "this class will give you student details\n"
     ]
    }
   ],
   "source": [
    "krish.student_details()"
   ]
  },
  {
   "cell_type": "code",
   "execution_count": 61,
   "id": "60897125-ba7c-4e63-b9b0-108ce9306a45",
   "metadata": {},
   "outputs": [
    {
     "name": "stdout",
     "output_type": "stream",
     "text": [
      "this will you details about teacher\n"
     ]
    }
   ],
   "source": [
    "krish.details()"
   ]
  },
  {
   "cell_type": "raw",
   "id": "306a1aa2-0e73-4927-8327-cbf18951ead3",
   "metadata": {},
   "source": [
    "'''\n",
    "multiple inheritance\n",
    "\n",
    "Lecture   Student\n",
    "  |----------|\n",
    "        |\n",
    "      Teacher\n",
    "\n",
    "'''"
   ]
  },
  {
   "cell_type": "code",
   "execution_count": 63,
   "id": "e8d496a4-3619-4644-865e-a7e33d3636e5",
   "metadata": {},
   "outputs": [],
   "source": [
    "class Teacher(Lecture, Student):\n",
    "    def details(self):\n",
    "        print(\"this will you details about teacher\")"
   ]
  },
  {
   "cell_type": "code",
   "execution_count": 64,
   "id": "e99b8cb0-3a87-4166-98ed-10d194c5b044",
   "metadata": {},
   "outputs": [],
   "source": [
    "krish = Teacher()"
   ]
  },
  {
   "cell_type": "code",
   "execution_count": 66,
   "id": "efe70418-6951-495c-9c71-122b40f26a47",
   "metadata": {},
   "outputs": [
    {
     "name": "stdout",
     "output_type": "stream",
     "text": [
      "timing for today's class is 9 am ist\n"
     ]
    }
   ],
   "source": [
    "krish.timing() # this function is called from lecture now and not student, \n",
    "# thus it depends on the order of argumentsss"
   ]
  }
 ],
 "metadata": {
  "kernelspec": {
   "display_name": "Python 3 (ipykernel)",
   "language": "python",
   "name": "python3"
  },
  "language_info": {
   "codemirror_mode": {
    "name": "ipython",
    "version": 3
   },
   "file_extension": ".py",
   "mimetype": "text/x-python",
   "name": "python",
   "nbconvert_exporter": "python",
   "pygments_lexer": "ipython3",
   "version": "3.8.18"
  }
 },
 "nbformat": 4,
 "nbformat_minor": 5
}
