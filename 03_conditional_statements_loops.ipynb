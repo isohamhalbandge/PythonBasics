{
 "cells": [
  {
   "cell_type": "code",
   "execution_count": 5,
   "id": "f1c140a5-7832-4eb7-873b-e191b6409351",
   "metadata": {
    "tags": []
   },
   "outputs": [
    {
     "name": "stdout",
     "output_type": "stream",
     "text": [
      "yes i will be able to buy\n"
     ]
    }
   ],
   "source": [
    "a = 500\n",
    "price = 450\n",
    "if price <= 500:\n",
    "    print(\"yes i will be able to buy\")"
   ]
  },
  {
   "cell_type": "code",
   "execution_count": 6,
   "id": "b0022ed6-4180-4268-b1a7-ce425d194790",
   "metadata": {
    "tags": []
   },
   "outputs": [],
   "source": [
    "a = 500\n",
    "price = 850\n",
    "if price <= 500:\n",
    "    print(\"yes i will be able to buy\")"
   ]
  },
  {
   "cell_type": "code",
   "execution_count": 7,
   "id": "0227071b-42f1-43d7-b90b-b301147bd6b2",
   "metadata": {
    "tags": []
   },
   "outputs": [
    {
     "name": "stdout",
     "output_type": "stream",
     "text": [
      "i wont be able to buy\n"
     ]
    }
   ],
   "source": [
    "a = 500\n",
    "price = 850\n",
    "if price <= 500:\n",
    "    print(\"yes i will be able to buy\")\n",
    "else:\n",
    "    print(\"i wont be able to buy\")"
   ]
  },
  {
   "cell_type": "code",
   "execution_count": 8,
   "id": "3436fc8d-3b3e-4dd5-86b2-2058c7e1f0d9",
   "metadata": {
    "tags": []
   },
   "outputs": [
    {
     "name": "stdout",
     "output_type": "stream",
     "text": [
      "i will try to buy shirt\n"
     ]
    }
   ],
   "source": [
    "a = 500\n",
    "shirt_price = 200\n",
    "pant_price = 500\n",
    "coat_price = 800\n",
    "\n",
    "if coat_price <= a:\n",
    "    print(\"yes i will be able to buy\")\n",
    "elif pant_price < a:\n",
    "    print(\"i will try to buy pant\")\n",
    "elif shirt_price < a:\n",
    "    print(\"i will try to buy shirt\")\n",
    "else:\n",
    "    print(\"i wont be able to buy\")"
   ]
  },
  {
   "cell_type": "code",
   "execution_count": 9,
   "id": "e1f4d43c-b74e-41d2-a9b8-589b4122d89a",
   "metadata": {
    "tags": []
   },
   "outputs": [
    {
     "name": "stdout",
     "output_type": "stream",
     "text": [
      "Yes its available under my budget\n"
     ]
    }
   ],
   "source": [
    "a = 500\n",
    "shirt_price = 200\n",
    "pant_price = 500\n",
    "coat_price = 800\n",
    "my_size = 'M'\n",
    "size_store = 'L'\n",
    "\n",
    "if coat_price <= a:\n",
    "    print(\"yes i will be able to buy\")\n",
    "elif pant_price < a:\n",
    "    print(\"i will try to buy pant\")\n",
    "elif shirt_price < a:\n",
    "    print(\"Yes its available under my budget\")\n",
    "    if my_size == size_store:\n",
    "        print(\"i will try to buy shirt\")\n",
    "else:\n",
    "    print(\"i wont be able to buy\")"
   ]
  },
  {
   "cell_type": "code",
   "execution_count": 12,
   "id": "4a18780e-6a30-4111-9df6-86570edb2e13",
   "metadata": {
    "tags": []
   },
   "outputs": [
    {
     "name": "stdout",
     "output_type": "stream",
     "text": [
      "Yes its available under my budget\n",
      "my size is not available\n"
     ]
    }
   ],
   "source": [
    "a = 500\n",
    "shirt_price = 200\n",
    "pant_price = 500\n",
    "coat_price = 800\n",
    "my_size = 'M'\n",
    "size_store = ['L','XL','S','XXL','XXXL']\n",
    "\n",
    "if coat_price <= a:\n",
    "    print(\"yes i will be able to buy\")\n",
    "elif pant_price < a:\n",
    "    print(\"i will try to buy pant\")\n",
    "elif shirt_price < a:\n",
    "    print(\"Yes its available under my budget\")\n",
    "    if my_size in size_store:\n",
    "        print(\"i will try to buy shirt\")\n",
    "    else:\n",
    "        print(\"my size is not available\")\n",
    "else:\n",
    "    print(\"i wont be able to buy\")"
   ]
  },
  {
   "cell_type": "code",
   "execution_count": 13,
   "id": "6d26ef83-d073-4765-9f5f-3760ef6d31ec",
   "metadata": {
    "tags": []
   },
   "outputs": [
    {
     "name": "stdout",
     "output_type": "stream",
     "text": [
      "Yes its available under my budget\n",
      "i will try to buy shirt\n"
     ]
    }
   ],
   "source": [
    "a = 500\n",
    "shirt_price = 200\n",
    "pant_price = 500\n",
    "coat_price = 800\n",
    "my_size = 'M'\n",
    "size_store = ['L','XL','S','XXL','XXXL','M']\n",
    "\n",
    "if coat_price <= a:\n",
    "    print(\"yes i will be able to buy\")\n",
    "elif pant_price < a:\n",
    "    print(\"i will try to buy pant\")\n",
    "elif shirt_price < a:\n",
    "    print(\"Yes its available under my budget\")\n",
    "    if my_size in size_store:\n",
    "        print(\"i will try to buy shirt\")\n",
    "    else:\n",
    "        print(\"my size is not available\")\n",
    "else:\n",
    "    print(\"i wont be able to buy\")"
   ]
  },
  {
   "cell_type": "code",
   "execution_count": 14,
   "id": "f9aed234-9b4b-4b73-a9c5-5548ad05261b",
   "metadata": {
    "tags": []
   },
   "outputs": [
    {
     "name": "stdout",
     "output_type": "stream",
     "text": [
      "Yes its available under my budget\n",
      "i will try to buy shirt\n",
      "i will try to choose it\n"
     ]
    }
   ],
   "source": [
    "a = 500\n",
    "shirt_price = 200\n",
    "pant_price = 500\n",
    "coat_price = 800\n",
    "my_size = 'M'\n",
    "size_store = ['L','XL','S','XXL','XXXL','M']\n",
    "my_fav_clr = 'white'\n",
    "store_clr = ['white', 'red', 'blue', 'orange']\n",
    "\n",
    "if coat_price <= a:\n",
    "    print(\"yes i will be able to buy\")\n",
    "elif pant_price < a:\n",
    "    print(\"i will try to buy pant\")\n",
    "elif shirt_price < a:\n",
    "    print(\"Yes its available under my budget\")\n",
    "    if my_size in size_store:\n",
    "        print(\"i will try to buy shirt\")\n",
    "        if my_fav_clr in store_clr:\n",
    "            print(\"i will try to choose it\")\n",
    "        else:\n",
    "            print(\"my fav clr is not available. i will move to another store\")\n",
    "    else:\n",
    "        print(\"my size is not available\")\n",
    "else:\n",
    "    print(\"i wont be able to buy\")"
   ]
  },
  {
   "cell_type": "code",
   "execution_count": null,
   "id": "5662b1e9-3bc5-43c7-a0d5-dd99dfae7c40",
   "metadata": {},
   "outputs": [],
   "source": []
  }
 ],
 "metadata": {
  "kernelspec": {
   "display_name": "Python 3 (ipykernel)",
   "language": "python",
   "name": "python3"
  },
  "language_info": {
   "codemirror_mode": {
    "name": "ipython",
    "version": 3
   },
   "file_extension": ".py",
   "mimetype": "text/x-python",
   "name": "python",
   "nbconvert_exporter": "python",
   "pygments_lexer": "ipython3",
   "version": "3.11.5"
  }
 },
 "nbformat": 4,
 "nbformat_minor": 5
}
