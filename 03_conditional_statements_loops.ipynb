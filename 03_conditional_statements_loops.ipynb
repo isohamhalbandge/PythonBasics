{
 "cells": [
  {
   "cell_type": "code",
   "execution_count": 42,
   "id": "f1c140a5-7832-4eb7-873b-e191b6409351",
   "metadata": {
    "tags": []
   },
   "outputs": [
    {
     "name": "stdout",
     "output_type": "stream",
     "text": [
      "yes i will be able to buy\n"
     ]
    }
   ],
   "source": [
    "a = 500\n",
    "price = 450\n",
    "if price <= 500:\n",
    "    print(\"yes i will be able to buy\")"
   ]
  },
  {
   "cell_type": "code",
   "execution_count": 43,
   "id": "b0022ed6-4180-4268-b1a7-ce425d194790",
   "metadata": {
    "tags": []
   },
   "outputs": [],
   "source": [
    "a = 500\n",
    "price = 850\n",
    "if price <= 500:\n",
    "    print(\"yes i will be able to buy\")"
   ]
  },
  {
   "cell_type": "code",
   "execution_count": 44,
   "id": "0227071b-42f1-43d7-b90b-b301147bd6b2",
   "metadata": {
    "tags": []
   },
   "outputs": [
    {
     "name": "stdout",
     "output_type": "stream",
     "text": [
      "i wont be able to buy\n"
     ]
    }
   ],
   "source": [
    "a = 500\n",
    "price = 850\n",
    "if price <= 500:\n",
    "    print(\"yes i will be able to buy\")\n",
    "else:\n",
    "    print(\"i wont be able to buy\")"
   ]
  },
  {
   "cell_type": "code",
   "execution_count": 45,
   "id": "3436fc8d-3b3e-4dd5-86b2-2058c7e1f0d9",
   "metadata": {
    "tags": []
   },
   "outputs": [
    {
     "name": "stdout",
     "output_type": "stream",
     "text": [
      "i will try to buy shirt\n"
     ]
    }
   ],
   "source": [
    "a = 500\n",
    "shirt_price = 200\n",
    "pant_price = 500\n",
    "coat_price = 800\n",
    "\n",
    "if coat_price <= a:\n",
    "    print(\"yes i will be able to buy\")\n",
    "elif pant_price < a:\n",
    "    print(\"i will try to buy pant\")\n",
    "elif shirt_price < a:\n",
    "    print(\"i will try to buy shirt\")\n",
    "else:\n",
    "    print(\"i wont be able to buy\")"
   ]
  },
  {
   "cell_type": "code",
   "execution_count": 46,
   "id": "e1f4d43c-b74e-41d2-a9b8-589b4122d89a",
   "metadata": {
    "tags": []
   },
   "outputs": [
    {
     "name": "stdout",
     "output_type": "stream",
     "text": [
      "Yes its available under my budget\n"
     ]
    }
   ],
   "source": [
    "a = 500\n",
    "shirt_price = 200\n",
    "pant_price = 500\n",
    "coat_price = 800\n",
    "my_size = 'M'\n",
    "size_store = 'L'\n",
    "\n",
    "if coat_price <= a:\n",
    "    print(\"yes i will be able to buy\")\n",
    "elif pant_price < a:\n",
    "    print(\"i will try to buy pant\")\n",
    "elif shirt_price < a:\n",
    "    print(\"Yes its available under my budget\")\n",
    "    if my_size == size_store:\n",
    "        print(\"i will try to buy shirt\")\n",
    "else:\n",
    "    print(\"i wont be able to buy\")"
   ]
  },
  {
   "cell_type": "code",
   "execution_count": 47,
   "id": "4a18780e-6a30-4111-9df6-86570edb2e13",
   "metadata": {
    "tags": []
   },
   "outputs": [
    {
     "name": "stdout",
     "output_type": "stream",
     "text": [
      "Yes its available under my budget\n",
      "my size is not available\n"
     ]
    }
   ],
   "source": [
    "a = 500\n",
    "shirt_price = 200\n",
    "pant_price = 500\n",
    "coat_price = 800\n",
    "my_size = 'M'\n",
    "size_store = ['L','XL','S','XXL','XXXL']\n",
    "\n",
    "if coat_price <= a:\n",
    "    print(\"yes i will be able to buy\")\n",
    "elif pant_price < a:\n",
    "    print(\"i will try to buy pant\")\n",
    "elif shirt_price < a:\n",
    "    print(\"Yes its available under my budget\")\n",
    "    if my_size in size_store:\n",
    "        print(\"i will try to buy shirt\")\n",
    "    else:\n",
    "        print(\"my size is not available\")\n",
    "else:\n",
    "    print(\"i wont be able to buy\")"
   ]
  },
  {
   "cell_type": "code",
   "execution_count": 48,
   "id": "6d26ef83-d073-4765-9f5f-3760ef6d31ec",
   "metadata": {
    "tags": []
   },
   "outputs": [
    {
     "name": "stdout",
     "output_type": "stream",
     "text": [
      "Yes its available under my budget\n",
      "i will try to buy shirt\n"
     ]
    }
   ],
   "source": [
    "a = 500\n",
    "shirt_price = 200\n",
    "pant_price = 500\n",
    "coat_price = 800\n",
    "my_size = 'M'\n",
    "size_store = ['L','XL','S','XXL','XXXL','M']\n",
    "\n",
    "if coat_price <= a:\n",
    "    print(\"yes i will be able to buy\")\n",
    "elif pant_price < a:\n",
    "    print(\"i will try to buy pant\")\n",
    "elif shirt_price < a:\n",
    "    print(\"Yes its available under my budget\")\n",
    "    if my_size in size_store:\n",
    "        print(\"i will try to buy shirt\")\n",
    "    else:\n",
    "        print(\"my size is not available\")\n",
    "else:\n",
    "    print(\"i wont be able to buy\")"
   ]
  },
  {
   "cell_type": "code",
   "execution_count": 49,
   "id": "f9aed234-9b4b-4b73-a9c5-5548ad05261b",
   "metadata": {
    "tags": []
   },
   "outputs": [
    {
     "name": "stdout",
     "output_type": "stream",
     "text": [
      "Yes its available under my budget\n",
      "i will try to buy shirt\n",
      "i will try to choose it\n"
     ]
    }
   ],
   "source": [
    "a = 500\n",
    "shirt_price = 200\n",
    "pant_price = 500\n",
    "coat_price = 800\n",
    "my_size = 'M'\n",
    "size_store = ['L','XL','S','XXL','XXXL','M']\n",
    "my_fav_clr = 'white'\n",
    "store_clr = ['white', 'red', 'blue', 'orange']\n",
    "\n",
    "if coat_price <= a:\n",
    "    print(\"yes i will be able to buy\")\n",
    "elif pant_price < a:\n",
    "    print(\"i will try to buy pant\")\n",
    "elif shirt_price < a:\n",
    "    print(\"Yes its available under my budget\")\n",
    "    if my_size in size_store:\n",
    "        print(\"i will try to buy shirt\")\n",
    "        if my_fav_clr in store_clr:\n",
    "            print(\"i will try to choose it\")\n",
    "        else:\n",
    "            print(\"my fav clr is not available. i will move to another store\")\n",
    "    else:\n",
    "        print(\"my size is not available\")\n",
    "else:\n",
    "    print(\"i wont be able to buy\")"
   ]
  },
  {
   "cell_type": "code",
   "execution_count": 50,
   "id": "5662b1e9-3bc5-43c7-a0d5-dd99dfae7c40",
   "metadata": {
    "tags": []
   },
   "outputs": [
    {
     "name": "stdout",
     "output_type": "stream",
     "text": [
      "yes i am doing this course\n"
     ]
    }
   ],
   "source": [
    "course = ['DSM', 'DSA', 'JAVA', 'Big Data', 'DA']\n",
    "price = 20000\n",
    "mentor = 'sudhanshu kumar'\n",
    "\n",
    "if 'DSM' in course and price == 20000 and \"sudhanshu kumar\" == mentor:\n",
    "    print(\"yes i am doing this course\")"
   ]
  },
  {
   "cell_type": "code",
   "execution_count": 51,
   "id": "b6bdd393-f460-4461-a850-600071392d80",
   "metadata": {
    "tags": []
   },
   "outputs": [
    {
     "name": "stdout",
     "output_type": "stream",
     "text": [
      "its out of my budget\n"
     ]
    }
   ],
   "source": [
    "course_price = 20000\n",
    "\n",
    "if 10000 <= course_price <= 15000:\n",
    "    print(\"i will try to buy a course\")\n",
    "else:\n",
    "    print(\"its out of my budget\")"
   ]
  },
  {
   "cell_type": "code",
   "execution_count": 52,
   "id": "88ff7761-aaa1-4a0d-85b4-8fd6be3ef615",
   "metadata": {
    "tags": []
   },
   "outputs": [
    {
     "name": "stdin",
     "output_type": "stream",
     "text": [
      "Enter your username sudh\n",
      "Enter your password sudh@1234\n"
     ]
    },
    {
     "name": "stdout",
     "output_type": "stream",
     "text": [
      "You have logged in successfully\n"
     ]
    }
   ],
   "source": [
    "user_name = 'sudh'\n",
    "password = 'sudh@1234'\n",
    "\n",
    "if user_name == input(\"Enter your username\") and password == input(\"Enter your password\"):\n",
    "    print(\"You have logged in successfully\")\n",
    "else:\n",
    "    print(\"Enter correct username and password\")"
   ]
  },
  {
   "cell_type": "code",
   "execution_count": 27,
   "id": "2725c0db-0dd9-4409-b82b-7157170f6e92",
   "metadata": {
    "tags": []
   },
   "outputs": [
    {
     "name": "stdin",
     "output_type": "stream",
     "text": [
      "Enter your registered mobile number 123456\n"
     ]
    },
    {
     "name": "stdout",
     "output_type": "stream",
     "text": [
      "yes you are registred user\n"
     ]
    },
    {
     "name": "stdin",
     "output_type": "stream",
     "text": [
      "enter otp that we have sent on your mobile number 1234\n"
     ]
    },
    {
     "name": "stdout",
     "output_type": "stream",
     "text": [
      "you have logged in successfully\n"
     ]
    }
   ],
   "source": [
    "mobile_no = 123456\n",
    "otp = 1234\n",
    "if mobile_no == int(input(\"Enter your registered mobile number\")):\n",
    "    print(\"yes you are registred user\")\n",
    "    if otp == int(input(\"enter otp that we have sent on your mobile number\")):\n",
    "        print(\"you have logged in successfully\")\n",
    "    else:\n",
    "        print(\"otp is not correct please try to enter again\")\n",
    "else:\n",
    "    print(\"you have not entered valid mobile number\")"
   ]
  },
  {
   "cell_type": "code",
   "execution_count": 30,
   "id": "0be44a36-0e34-4a51-ab5b-788e5270d48c",
   "metadata": {
    "tags": []
   },
   "outputs": [
    {
     "name": "stdin",
     "output_type": "stream",
     "text": [
      "Enter your registered mobile number 6534\n"
     ]
    },
    {
     "name": "stdout",
     "output_type": "stream",
     "text": [
      "yes you are registred user\n"
     ]
    },
    {
     "name": "stdin",
     "output_type": "stream",
     "text": [
      "enter otp that we have sent on your mobile number 123\n"
     ]
    },
    {
     "name": "stdout",
     "output_type": "stream",
     "text": [
      "otp is not correct please try to enter again\n"
     ]
    }
   ],
   "source": [
    "mobile_no = {12312312,423534,123,2534,6534,6,54654,75687,568,675}\n",
    "otp = 1234\n",
    "if int(input(\"Enter your registered mobile number\")) in mobile_no:\n",
    "    print(\"yes you are registred user\")\n",
    "    if otp == int(input(\"enter otp that we have sent on your mobile number\")):\n",
    "        print(\"you have logged in successfully\")\n",
    "    else:\n",
    "        print(\"otp is not correct please try to enter again\")\n",
    "else:\n",
    "    print(\"you have not entered valid mobile number\")"
   ]
  },
  {
   "cell_type": "code",
   "execution_count": 35,
   "id": "41e4655c-9b76-48cd-b7b0-75142ed8657d",
   "metadata": {
    "tags": []
   },
   "outputs": [
    {
     "name": "stdout",
     "output_type": "stream",
     "text": [
      "12\n",
      "3\n",
      "3\n",
      "4\n",
      "5\n",
      "6\n",
      "6\n"
     ]
    }
   ],
   "source": [
    "l = [12,3,3,4,5,6,6]\n",
    "\n",
    "for i in l:\n",
    "    print(i)"
   ]
  },
  {
   "cell_type": "code",
   "execution_count": 40,
   "id": "7e58331e-03f3-4b24-b31d-7ccc5fdba86a",
   "metadata": {
    "tags": []
   },
   "outputs": [
    {
     "name": "stdout",
     "output_type": "stream",
     "text": [
      "12312312\n",
      "423534\n",
      "123\n",
      "2534\n",
      "6534\n",
      "6\n",
      "54654\n",
      "yes user is registered\n",
      "yes student details are available in db\n",
      "course access to this user is  ['dsa', 'dsm', 'big data']\n",
      "75687\n",
      "568\n",
      "675\n"
     ]
    }
   ],
   "source": [
    "l = [12,3,3,4,5,6,6]\n",
    "mobile_no = [12312312,423534,123,2534,6534,6,54654,75687,568,675]\n",
    "stud_mo = 54654\n",
    "stud_details = {\n",
    "    'mobile_no' : 54654,\n",
    "    'courses' : ['dsa', 'dsm', 'big data']\n",
    "}\n",
    "\n",
    "for i in mobile_no:\n",
    "    print(i)\n",
    "    if i == stud_mo:\n",
    "        print(\"yes user is registered\")\n",
    "        if stud_details['mobile_no'] == i:\n",
    "            print(\"yes student details are available in db\")\n",
    "            print(\"course access to this user is \", stud_details['courses'])"
   ]
  },
  {
   "cell_type": "code",
   "execution_count": 41,
   "id": "e955f692-1f6b-469a-b3f9-6ce0f9e3c203",
   "metadata": {
    "tags": []
   },
   "outputs": [
    {
     "name": "stdout",
     "output_type": "stream",
     "text": [
      "1\n",
      "2\n",
      "3\n",
      "4\n",
      "5\n",
      "6\n"
     ]
    }
   ],
   "source": [
    "t = (1,2,3,4,5,6)\n",
    "for i in t:\n",
    "    print(i)"
   ]
  },
  {
   "cell_type": "code",
   "execution_count": 53,
   "id": "d17dd754-2f14-4823-bc74-7f61c3d45530",
   "metadata": {
    "tags": []
   },
   "outputs": [
    {
     "name": "stdout",
     "output_type": "stream",
     "text": [
      "sudh\n",
      "kumar\n"
     ]
    }
   ],
   "source": [
    "t = (1,2,3,4,5,6,'sudh','kumar')\n",
    "for i in t:\n",
    "    if type(i) == str:\n",
    "        print(i)"
   ]
  },
  {
   "cell_type": "code",
   "execution_count": 56,
   "id": "e7759318-cb6d-406d-9728-d1e02683add8",
   "metadata": {
    "tags": []
   },
   "outputs": [
    {
     "name": "stdout",
     "output_type": "stream",
     "text": [
      "integer list :  [1, 2, 3, 4, 5, 6]\n",
      "str list :  ['sudh', 'kumar']\n"
     ]
    }
   ],
   "source": [
    "t = (1,2,3,4,5,6,'sudh','kumar')\n",
    "int_list = []\n",
    "str_list = []\n",
    "\n",
    "for i in t:\n",
    "    if type(i) == str:\n",
    "        str_list.append(i)\n",
    "    else:\n",
    "        int_list.append(i)\n",
    "    \n",
    "print(\"integer list : \", int_list)\n",
    "print(\"str list : \", str_list)"
   ]
  },
  {
   "cell_type": "code",
   "execution_count": 57,
   "id": "73b0c066-6304-44d5-a8bb-f458085736f3",
   "metadata": {
    "tags": []
   },
   "outputs": [
    {
     "name": "stdout",
     "output_type": "stream",
     "text": [
      "2\n",
      "3\n",
      "4\n",
      "5\n",
      "6\n",
      "7\n",
      "8\n",
      "9\n",
      "10\n",
      "43\n",
      "1231\n",
      "23\n"
     ]
    }
   ],
   "source": [
    "s = {3,4,5,6,7,8,9,10,1231,23,43,2,4}\n",
    "for i in s:\n",
    "    print(i)"
   ]
  },
  {
   "cell_type": "code",
   "execution_count": 58,
   "id": "34b338a7-37de-420a-bae6-0f3cf47b68da",
   "metadata": {
    "tags": []
   },
   "outputs": [],
   "source": [
    "d = {'name' : 'sudh', 'class' : ['big data', 'data analytics', 'data science', 'dsa', 'architecture', 'system design'],\n",
    "     'mobile no' : 2312432423 , 'email_id' : 'sudh1234@gmail.com'}"
   ]
  },
  {
   "cell_type": "code",
   "execution_count": 59,
   "id": "3bccd182-e818-4b2f-9960-9adbb64c3769",
   "metadata": {
    "tags": []
   },
   "outputs": [
    {
     "data": {
      "text/plain": [
       "{'name': 'sudh',\n",
       " 'class': ['big data',\n",
       "  'data analytics',\n",
       "  'data science',\n",
       "  'dsa',\n",
       "  'architecture',\n",
       "  'system design'],\n",
       " 'mobile no': 2312432423,\n",
       " 'email_id': 'sudh1234@gmail.com'}"
      ]
     },
     "execution_count": 59,
     "metadata": {},
     "output_type": "execute_result"
    }
   ],
   "source": [
    "d"
   ]
  },
  {
   "cell_type": "code",
   "execution_count": 60,
   "id": "92e6f6bb-b0b1-40d2-925b-e618df82532b",
   "metadata": {
    "tags": []
   },
   "outputs": [
    {
     "name": "stdout",
     "output_type": "stream",
     "text": [
      "sudh\n",
      "['big data', 'data analytics', 'data science', 'dsa', 'architecture', 'system design']\n",
      "2312432423\n",
      "sudh1234@gmail.com\n"
     ]
    }
   ],
   "source": [
    "for i in d.values():\n",
    "    print(i)"
   ]
  },
  {
   "cell_type": "code",
   "execution_count": 61,
   "id": "2135bf58-4eb5-40c0-9b72-2e2a9e018a77",
   "metadata": {
    "tags": []
   },
   "outputs": [
    {
     "name": "stdout",
     "output_type": "stream",
     "text": [
      "name\n",
      "class\n",
      "mobile no\n",
      "email_id\n"
     ]
    }
   ],
   "source": [
    "for i in d.keys():\n",
    "    print(i)"
   ]
  },
  {
   "cell_type": "code",
   "execution_count": 64,
   "id": "dbf9f53e-d8f1-4ef1-9537-6b2d91547ec2",
   "metadata": {
    "tags": []
   },
   "outputs": [
    {
     "name": "stdout",
     "output_type": "stream",
     "text": [
      "yes this mentor teaches system design\n"
     ]
    }
   ],
   "source": [
    "for i in d.values():\n",
    "    if type(i) == list:\n",
    "        if 'system design' in i:\n",
    "            print(\"yes this mentor teaches system design\")\n",
    "        # print(i)"
   ]
  },
  {
   "cell_type": "code",
   "execution_count": null,
   "id": "fa7304e1-549a-4f89-a3c1-2225bab35232",
   "metadata": {},
   "outputs": [],
   "source": []
  }
 ],
 "metadata": {
  "kernelspec": {
   "display_name": "Python 3 (ipykernel)",
   "language": "python",
   "name": "python3"
  },
  "language_info": {
   "codemirror_mode": {
    "name": "ipython",
    "version": 3
   },
   "file_extension": ".py",
   "mimetype": "text/x-python",
   "name": "python",
   "nbconvert_exporter": "python",
   "pygments_lexer": "ipython3",
   "version": "3.11.5"
  }
 },
 "nbformat": 4,
 "nbformat_minor": 5
}
