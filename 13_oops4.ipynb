{
 "cells": [
  {
   "cell_type": "code",
   "execution_count": 14,
   "id": "99bbded9-a8e5-4d02-8cd9-67f4d631729f",
   "metadata": {},
   "outputs": [],
   "source": [
    "# Polymorphism"
   ]
  },
  {
   "cell_type": "code",
   "execution_count": 5,
   "id": "7ff5fda4-55ad-4855-b81a-80a5e1d16282",
   "metadata": {},
   "outputs": [],
   "source": [
    "def test(a, b):\n",
    "    return a + b # '+' operator performs polymorphism"
   ]
  },
  {
   "cell_type": "code",
   "execution_count": 6,
   "id": "1a1d4416-290e-4661-9955-83bd54cc1afc",
   "metadata": {},
   "outputs": [
    {
     "data": {
      "text/plain": [
       "7"
      ]
     },
     "execution_count": 6,
     "metadata": {},
     "output_type": "execute_result"
    }
   ],
   "source": [
    "test(3, 4)"
   ]
  },
  {
   "cell_type": "code",
   "execution_count": 7,
   "id": "1b33cb4c-fb90-4c09-aae7-b3035aae9fa1",
   "metadata": {},
   "outputs": [
    {
     "data": {
      "text/plain": [
       "'sudhkumar'"
      ]
     },
     "execution_count": 7,
     "metadata": {},
     "output_type": "execute_result"
    }
   ],
   "source": [
    "test('sudh', 'kumar')"
   ]
  },
  {
   "cell_type": "code",
   "execution_count": 15,
   "id": "45774290-c931-4730-9a52-2f9f14eb3ccc",
   "metadata": {},
   "outputs": [],
   "source": [
    "# method overiding -> same method but different functionalities\n",
    "\n",
    "class Pwskills:\n",
    "    def student(self):\n",
    "        pass\n",
    "\n",
    "class DataScience(Pwskills):\n",
    "    def student(self):\n",
    "        print(\"this will give me detail about data science student\")\n",
    "\n",
    "class BigData(Pwskills):\n",
    "    def student(self):\n",
    "        print(\"this will give me detail about big data student\")"
   ]
  },
  {
   "cell_type": "code",
   "execution_count": 16,
   "id": "59d50006-dcf4-4b72-b372-d5fef4e9616d",
   "metadata": {},
   "outputs": [],
   "source": [
    "yash = DataScience()"
   ]
  },
  {
   "cell_type": "code",
   "execution_count": 17,
   "id": "e98aa51c-9981-4ac6-811f-09f74b2da93b",
   "metadata": {},
   "outputs": [],
   "source": [
    "farhana = BigData()"
   ]
  },
  {
   "cell_type": "code",
   "execution_count": 18,
   "id": "4720c485-3f57-4b3c-b2f6-475db77c15cd",
   "metadata": {},
   "outputs": [
    {
     "name": "stdout",
     "output_type": "stream",
     "text": [
      "this will give me detail about data science student\n"
     ]
    }
   ],
   "source": [
    "yash.student()"
   ]
  },
  {
   "cell_type": "code",
   "execution_count": 19,
   "id": "0730ec8c-4308-4a7b-97ad-1267278817b7",
   "metadata": {},
   "outputs": [
    {
     "name": "stdout",
     "output_type": "stream",
     "text": [
      "this will give me detail about big data student\n"
     ]
    }
   ],
   "source": [
    "farhana.student()"
   ]
  },
  {
   "cell_type": "code",
   "execution_count": 27,
   "id": "c3eef43e-b10b-4ab6-b9ab-2a7dd7a24192",
   "metadata": {},
   "outputs": [],
   "source": [
    "# method overloading\n",
    "# __add__\n",
    "\n",
    "class BigData():\n",
    "    def __init__(self, number_of_class, number_of_student):\n",
    "        self.number_of_class = number_of_class\n",
    "        self.number_of_student = number_of_student\n",
    "\n",
    "    def __add__(self, other):\n",
    "        return BigData(self.number_of_class + other.number_of_class, self.number_of_student + other.number_of_student)"
   ]
  },
  {
   "cell_type": "code",
   "execution_count": 28,
   "id": "4283d455-8af7-4ee7-9799-d713979fbdd2",
   "metadata": {},
   "outputs": [
    {
     "name": "stdout",
     "output_type": "stream",
     "text": [
      "5 34\n"
     ]
    }
   ],
   "source": [
    "c1 = BigData(1, 10)\n",
    "c2 = BigData(2, 12)\n",
    "c3 = BigData(2, 12)\n",
    "result = c1 + c2 + c3\n",
    "print(result.number_of_class, result.number_of_student)"
   ]
  },
  {
   "cell_type": "code",
   "execution_count": 29,
   "id": "b8e52412-8afe-4393-b4a9-f8562f41dde8",
   "metadata": {},
   "outputs": [],
   "source": [
    "class DataScience(Pwskills):\n",
    "    def student(self):\n",
    "        print(\"this will give me detail about data science student\")"
   ]
  },
  {
   "cell_type": "code",
   "execution_count": 30,
   "id": "56765082-f257-4e81-bb5a-455ea789188f",
   "metadata": {},
   "outputs": [
    {
     "ename": "TypeError",
     "evalue": "unsupported operand type(s) for +: 'DataScience' and 'DataScience'",
     "output_type": "error",
     "traceback": [
      "\u001b[0;31m---------------------------------------------------------------------------\u001b[0m",
      "\u001b[0;31mTypeError\u001b[0m                                 Traceback (most recent call last)",
      "Cell \u001b[0;32mIn[30], line 4\u001b[0m\n\u001b[1;32m      2\u001b[0m o2 \u001b[38;5;241m=\u001b[39m DataScience()\n\u001b[1;32m      3\u001b[0m o3 \u001b[38;5;241m=\u001b[39m DataScience()\n\u001b[0;32m----> 4\u001b[0m r \u001b[38;5;241m=\u001b[39m \u001b[43mo1\u001b[49m\u001b[43m \u001b[49m\u001b[38;5;241;43m+\u001b[39;49m\u001b[43m \u001b[49m\u001b[43mo2\u001b[49m \u001b[38;5;241m+\u001b[39m o3\n",
      "\u001b[0;31mTypeError\u001b[0m: unsupported operand type(s) for +: 'DataScience' and 'DataScience'"
     ]
    }
   ],
   "source": [
    "o1 = DataScience()\n",
    "o2 = DataScience()\n",
    "o3 = DataScience()\n",
    "r = o1 + o2 + o3"
   ]
  },
  {
   "cell_type": "code",
   "execution_count": 32,
   "id": "74b57a96-cfe4-4ac2-9f8c-a7da3283711c",
   "metadata": {},
   "outputs": [],
   "source": [
    "class DataScience:\n",
    "    def student(self):\n",
    "        print(\"this will give me detail about data science student\")\n",
    "\n",
    "class BigData:\n",
    "    def student(self):\n",
    "        print(\"this will give me detail about big data student\")\n",
    "\n",
    "# duck typing\n",
    "def output_class(class_obj):\n",
    "    return class_obj.student()"
   ]
  },
  {
   "cell_type": "code",
   "execution_count": 33,
   "id": "290ba0f9-5327-4f10-a5a3-33ca276f9f77",
   "metadata": {},
   "outputs": [],
   "source": [
    "sesha = DataScience()\n",
    "sashi = BigData()"
   ]
  },
  {
   "cell_type": "code",
   "execution_count": 34,
   "id": "340dc083-ab67-4c82-9a48-46389884a721",
   "metadata": {},
   "outputs": [
    {
     "name": "stdout",
     "output_type": "stream",
     "text": [
      "this will give me detail about data science student\n"
     ]
    }
   ],
   "source": [
    "output_class(sesha)"
   ]
  },
  {
   "cell_type": "code",
   "execution_count": 35,
   "id": "181acc49-fc78-4aff-8ef4-98d5fd5ddd63",
   "metadata": {},
   "outputs": [
    {
     "name": "stdout",
     "output_type": "stream",
     "text": [
      "this will give me detail about big data student\n"
     ]
    }
   ],
   "source": [
    "output_class(sashi)"
   ]
  },
  {
   "cell_type": "code",
   "execution_count": 36,
   "id": "12cdc7b1-86fc-4f7f-a486-871d62272b72",
   "metadata": {},
   "outputs": [],
   "source": [
    "class Pwskills:\n",
    "    def student(self):\n",
    "        return \"this is a pwskills student\"\n",
    "\n",
    "class DataScience(Pwskills):\n",
    "    def student(self):\n",
    "        print(\"this will give me detail about data science student\")"
   ]
  },
  {
   "cell_type": "code",
   "execution_count": 37,
   "id": "3d916134-7fd6-46d4-97ca-47cbe3656384",
   "metadata": {},
   "outputs": [],
   "source": [
    "ujwal = DataScience()"
   ]
  },
  {
   "cell_type": "code",
   "execution_count": 38,
   "id": "1ec7850d-8b78-45d1-b059-4b71ead43350",
   "metadata": {},
   "outputs": [
    {
     "name": "stdout",
     "output_type": "stream",
     "text": [
      "this will give me detail about data science student\n"
     ]
    }
   ],
   "source": [
    "ujwal.student()"
   ]
  },
  {
   "cell_type": "code",
   "execution_count": 39,
   "id": "a9209a3a-efbf-4ec9-9571-5878ab43714f",
   "metadata": {},
   "outputs": [
    {
     "data": {
      "text/plain": [
       "4"
      ]
     },
     "execution_count": 39,
     "metadata": {},
     "output_type": "execute_result"
    }
   ],
   "source": [
    "len('sudh')"
   ]
  },
  {
   "cell_type": "code",
   "execution_count": 40,
   "id": "37ed82f8-30a6-4ee5-9204-c9b8aeb0ecac",
   "metadata": {},
   "outputs": [
    {
     "data": {
      "text/plain": [
       "5"
      ]
     },
     "execution_count": 40,
     "metadata": {},
     "output_type": "execute_result"
    }
   ],
   "source": [
    "len([2,3,4,5,6])"
   ]
  },
  {
   "cell_type": "code",
   "execution_count": 41,
   "id": "76cc925e-3e5d-4579-8be9-cde329958964",
   "metadata": {},
   "outputs": [],
   "source": [
    "# encapsulation"
   ]
  },
  {
   "cell_type": "code",
   "execution_count": null,
   "id": "03341739-aa5c-4ca2-9f8d-f152fc14f761",
   "metadata": {},
   "outputs": [],
   "source": []
  }
 ],
 "metadata": {
  "kernelspec": {
   "display_name": "Python 3 (ipykernel)",
   "language": "python",
   "name": "python3"
  },
  "language_info": {
   "codemirror_mode": {
    "name": "ipython",
    "version": 3
   },
   "file_extension": ".py",
   "mimetype": "text/x-python",
   "name": "python",
   "nbconvert_exporter": "python",
   "pygments_lexer": "ipython3",
   "version": "3.8.18"
  }
 },
 "nbformat": 4,
 "nbformat_minor": 5
}
