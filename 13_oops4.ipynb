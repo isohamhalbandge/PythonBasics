{
 "cells": [
  {
   "cell_type": "code",
   "execution_count": 14,
   "id": "99bbded9-a8e5-4d02-8cd9-67f4d631729f",
   "metadata": {},
   "outputs": [],
   "source": [
    "# Polymorphism"
   ]
  },
  {
   "cell_type": "code",
   "execution_count": 5,
   "id": "7ff5fda4-55ad-4855-b81a-80a5e1d16282",
   "metadata": {},
   "outputs": [],
   "source": [
    "def test(a, b):\n",
    "    return a + b # '+' operator performs polymorphism"
   ]
  },
  {
   "cell_type": "code",
   "execution_count": 6,
   "id": "1a1d4416-290e-4661-9955-83bd54cc1afc",
   "metadata": {},
   "outputs": [
    {
     "data": {
      "text/plain": [
       "7"
      ]
     },
     "execution_count": 6,
     "metadata": {},
     "output_type": "execute_result"
    }
   ],
   "source": [
    "test(3, 4)"
   ]
  },
  {
   "cell_type": "code",
   "execution_count": 7,
   "id": "1b33cb4c-fb90-4c09-aae7-b3035aae9fa1",
   "metadata": {},
   "outputs": [
    {
     "data": {
      "text/plain": [
       "'sudhkumar'"
      ]
     },
     "execution_count": 7,
     "metadata": {},
     "output_type": "execute_result"
    }
   ],
   "source": [
    "test('sudh', 'kumar')"
   ]
  },
  {
   "cell_type": "code",
   "execution_count": 15,
   "id": "45774290-c931-4730-9a52-2f9f14eb3ccc",
   "metadata": {},
   "outputs": [],
   "source": [
    "# method overiding -> same method but different functionalities\n",
    "\n",
    "class Pwskills:\n",
    "    def student(self):\n",
    "        pass\n",
    "\n",
    "class DataScience(Pwskills):\n",
    "    def student(self):\n",
    "        print(\"this will give me detail about data science student\")\n",
    "\n",
    "class BigData(Pwskills):\n",
    "    def student(self):\n",
    "        print(\"this will give me detail about big data student\")"
   ]
  },
  {
   "cell_type": "code",
   "execution_count": 16,
   "id": "59d50006-dcf4-4b72-b372-d5fef4e9616d",
   "metadata": {},
   "outputs": [],
   "source": [
    "yash = DataScience()"
   ]
  },
  {
   "cell_type": "code",
   "execution_count": 17,
   "id": "e98aa51c-9981-4ac6-811f-09f74b2da93b",
   "metadata": {},
   "outputs": [],
   "source": [
    "farhana = BigData()"
   ]
  },
  {
   "cell_type": "code",
   "execution_count": 18,
   "id": "4720c485-3f57-4b3c-b2f6-475db77c15cd",
   "metadata": {},
   "outputs": [
    {
     "name": "stdout",
     "output_type": "stream",
     "text": [
      "this will give me detail about data science student\n"
     ]
    }
   ],
   "source": [
    "yash.student()"
   ]
  },
  {
   "cell_type": "code",
   "execution_count": 19,
   "id": "0730ec8c-4308-4a7b-97ad-1267278817b7",
   "metadata": {},
   "outputs": [
    {
     "name": "stdout",
     "output_type": "stream",
     "text": [
      "this will give me detail about big data student\n"
     ]
    }
   ],
   "source": [
    "farhana.student()"
   ]
  },
  {
   "cell_type": "code",
   "execution_count": 27,
   "id": "c3eef43e-b10b-4ab6-b9ab-2a7dd7a24192",
   "metadata": {},
   "outputs": [],
   "source": [
    "# method overloading\n",
    "# __add__\n",
    "\n",
    "class BigData():\n",
    "    def __init__(self, number_of_class, number_of_student):\n",
    "        self.number_of_class = number_of_class\n",
    "        self.number_of_student = number_of_student\n",
    "\n",
    "    def __add__(self, other):\n",
    "        return BigData(self.number_of_class + other.number_of_class, self.number_of_student + other.number_of_student)"
   ]
  },
  {
   "cell_type": "code",
   "execution_count": 28,
   "id": "4283d455-8af7-4ee7-9799-d713979fbdd2",
   "metadata": {},
   "outputs": [
    {
     "name": "stdout",
     "output_type": "stream",
     "text": [
      "5 34\n"
     ]
    }
   ],
   "source": [
    "c1 = BigData(1, 10)\n",
    "c2 = BigData(2, 12)\n",
    "c3 = BigData(2, 12)\n",
    "result = c1 + c2 + c3\n",
    "print(result.number_of_class, result.number_of_student)"
   ]
  },
  {
   "cell_type": "code",
   "execution_count": 29,
   "id": "b8e52412-8afe-4393-b4a9-f8562f41dde8",
   "metadata": {},
   "outputs": [],
   "source": [
    "class DataScience(Pwskills):\n",
    "    def student(self):\n",
    "        print(\"this will give me detail about data science student\")"
   ]
  },
  {
   "cell_type": "code",
   "execution_count": 30,
   "id": "56765082-f257-4e81-bb5a-455ea789188f",
   "metadata": {},
   "outputs": [
    {
     "ename": "TypeError",
     "evalue": "unsupported operand type(s) for +: 'DataScience' and 'DataScience'",
     "output_type": "error",
     "traceback": [
      "\u001b[0;31m---------------------------------------------------------------------------\u001b[0m",
      "\u001b[0;31mTypeError\u001b[0m                                 Traceback (most recent call last)",
      "Cell \u001b[0;32mIn[30], line 4\u001b[0m\n\u001b[1;32m      2\u001b[0m o2 \u001b[38;5;241m=\u001b[39m DataScience()\n\u001b[1;32m      3\u001b[0m o3 \u001b[38;5;241m=\u001b[39m DataScience()\n\u001b[0;32m----> 4\u001b[0m r \u001b[38;5;241m=\u001b[39m \u001b[43mo1\u001b[49m\u001b[43m \u001b[49m\u001b[38;5;241;43m+\u001b[39;49m\u001b[43m \u001b[49m\u001b[43mo2\u001b[49m \u001b[38;5;241m+\u001b[39m o3\n",
      "\u001b[0;31mTypeError\u001b[0m: unsupported operand type(s) for +: 'DataScience' and 'DataScience'"
     ]
    }
   ],
   "source": [
    "o1 = DataScience()\n",
    "o2 = DataScience()\n",
    "o3 = DataScience()\n",
    "r = o1 + o2 + o3"
   ]
  },
  {
   "cell_type": "code",
   "execution_count": 32,
   "id": "74b57a96-cfe4-4ac2-9f8c-a7da3283711c",
   "metadata": {},
   "outputs": [],
   "source": [
    "class DataScience:\n",
    "    def student(self):\n",
    "        print(\"this will give me detail about data science student\")\n",
    "\n",
    "class BigData:\n",
    "    def student(self):\n",
    "        print(\"this will give me detail about big data student\")\n",
    "\n",
    "# duck typing\n",
    "def output_class(class_obj):\n",
    "    return class_obj.student()"
   ]
  },
  {
   "cell_type": "code",
   "execution_count": 33,
   "id": "290ba0f9-5327-4f10-a5a3-33ca276f9f77",
   "metadata": {},
   "outputs": [],
   "source": [
    "sesha = DataScience()\n",
    "sashi = BigData()"
   ]
  },
  {
   "cell_type": "code",
   "execution_count": 34,
   "id": "340dc083-ab67-4c82-9a48-46389884a721",
   "metadata": {},
   "outputs": [
    {
     "name": "stdout",
     "output_type": "stream",
     "text": [
      "this will give me detail about data science student\n"
     ]
    }
   ],
   "source": [
    "output_class(sesha)"
   ]
  },
  {
   "cell_type": "code",
   "execution_count": 35,
   "id": "181acc49-fc78-4aff-8ef4-98d5fd5ddd63",
   "metadata": {},
   "outputs": [
    {
     "name": "stdout",
     "output_type": "stream",
     "text": [
      "this will give me detail about big data student\n"
     ]
    }
   ],
   "source": [
    "output_class(sashi)"
   ]
  },
  {
   "cell_type": "code",
   "execution_count": 36,
   "id": "12cdc7b1-86fc-4f7f-a486-871d62272b72",
   "metadata": {},
   "outputs": [],
   "source": [
    "class Pwskills:\n",
    "    def student(self):\n",
    "        return \"this is a pwskills student\"\n",
    "\n",
    "class DataScience(Pwskills):\n",
    "    def student(self):\n",
    "        print(\"this will give me detail about data science student\")"
   ]
  },
  {
   "cell_type": "code",
   "execution_count": 37,
   "id": "3d916134-7fd6-46d4-97ca-47cbe3656384",
   "metadata": {},
   "outputs": [],
   "source": [
    "ujwal = DataScience()"
   ]
  },
  {
   "cell_type": "code",
   "execution_count": 38,
   "id": "1ec7850d-8b78-45d1-b059-4b71ead43350",
   "metadata": {},
   "outputs": [
    {
     "name": "stdout",
     "output_type": "stream",
     "text": [
      "this will give me detail about data science student\n"
     ]
    }
   ],
   "source": [
    "ujwal.student()"
   ]
  },
  {
   "cell_type": "code",
   "execution_count": 39,
   "id": "a9209a3a-efbf-4ec9-9571-5878ab43714f",
   "metadata": {},
   "outputs": [
    {
     "data": {
      "text/plain": [
       "4"
      ]
     },
     "execution_count": 39,
     "metadata": {},
     "output_type": "execute_result"
    }
   ],
   "source": [
    "len('sudh')"
   ]
  },
  {
   "cell_type": "code",
   "execution_count": 40,
   "id": "37ed82f8-30a6-4ee5-9204-c9b8aeb0ecac",
   "metadata": {},
   "outputs": [
    {
     "data": {
      "text/plain": [
       "5"
      ]
     },
     "execution_count": 40,
     "metadata": {},
     "output_type": "execute_result"
    }
   ],
   "source": [
    "len([2,3,4,5,6])"
   ]
  },
  {
   "cell_type": "code",
   "execution_count": 41,
   "id": "76cc925e-3e5d-4579-8be9-cde329958964",
   "metadata": {},
   "outputs": [],
   "source": [
    "# encapsulation"
   ]
  },
  {
   "cell_type": "code",
   "execution_count": 42,
   "id": "03341739-aa5c-4ca2-9f8d-f152fc14f761",
   "metadata": {},
   "outputs": [],
   "source": [
    "class Test:\n",
    "    def __init__(self):\n",
    "        self.x = 'sudh'"
   ]
  },
  {
   "cell_type": "code",
   "execution_count": 43,
   "id": "53d75908-a79d-457a-8031-5aeabdd95a4d",
   "metadata": {},
   "outputs": [],
   "source": [
    "t1 = Test()"
   ]
  },
  {
   "cell_type": "code",
   "execution_count": 44,
   "id": "581056d0-0ca1-46d0-9306-2eb1e89a8a2a",
   "metadata": {},
   "outputs": [
    {
     "data": {
      "text/plain": [
       "'sudh'"
      ]
     },
     "execution_count": 44,
     "metadata": {},
     "output_type": "execute_result"
    }
   ],
   "source": [
    "t1.x"
   ]
  },
  {
   "cell_type": "code",
   "execution_count": 55,
   "id": "f7cb62da-9e76-49be-9d16-e63c9c937a26",
   "metadata": {},
   "outputs": [],
   "source": [
    "# x -> public variable\n",
    "# _x -> protected variable\n",
    "# __x -> private variable\n",
    "\n",
    "class Test:\n",
    "    def __init__(self):\n",
    "        self.__x = 'sudh' # private variable"
   ]
  },
  {
   "cell_type": "code",
   "execution_count": 56,
   "id": "f679b9fc-6f2a-45c1-b832-8fd4c36dd146",
   "metadata": {},
   "outputs": [],
   "source": [
    "t1 = Test()"
   ]
  },
  {
   "cell_type": "code",
   "execution_count": 57,
   "id": "64389c4e-750d-4531-b175-880d720c28b2",
   "metadata": {},
   "outputs": [
    {
     "ename": "AttributeError",
     "evalue": "'Test' object has no attribute 'x'",
     "output_type": "error",
     "traceback": [
      "\u001b[0;31m---------------------------------------------------------------------------\u001b[0m",
      "\u001b[0;31mAttributeError\u001b[0m                            Traceback (most recent call last)",
      "Cell \u001b[0;32mIn[57], line 1\u001b[0m\n\u001b[0;32m----> 1\u001b[0m \u001b[43mt1\u001b[49m\u001b[38;5;241;43m.\u001b[39;49m\u001b[43mx\u001b[49m\n",
      "\u001b[0;31mAttributeError\u001b[0m: 'Test' object has no attribute 'x'"
     ]
    }
   ],
   "source": [
    "t1.x"
   ]
  },
  {
   "cell_type": "code",
   "execution_count": 58,
   "id": "b71f229a-4368-45f6-aced-5981e41b8e61",
   "metadata": {},
   "outputs": [
    {
     "ename": "AttributeError",
     "evalue": "'Test' object has no attribute '__x'",
     "output_type": "error",
     "traceback": [
      "\u001b[0;31m---------------------------------------------------------------------------\u001b[0m",
      "\u001b[0;31mAttributeError\u001b[0m                            Traceback (most recent call last)",
      "Cell \u001b[0;32mIn[58], line 1\u001b[0m\n\u001b[0;32m----> 1\u001b[0m \u001b[43mt1\u001b[49m\u001b[38;5;241;43m.\u001b[39;49m\u001b[43m__x\u001b[49m\n",
      "\u001b[0;31mAttributeError\u001b[0m: 'Test' object has no attribute '__x'"
     ]
    }
   ],
   "source": [
    "t1.__x"
   ]
  },
  {
   "cell_type": "code",
   "execution_count": 61,
   "id": "e4197215-2206-48b8-b7a3-7280eb81ada6",
   "metadata": {},
   "outputs": [
    {
     "data": {
      "text/plain": [
       "'sudh'"
      ]
     },
     "execution_count": 61,
     "metadata": {},
     "output_type": "execute_result"
    }
   ],
   "source": [
    "t1._Test__x # syntax -> _className__privateVariable"
   ]
  },
  {
   "cell_type": "code",
   "execution_count": 62,
   "id": "3251376b-e8bc-492d-bdd6-068375f88b60",
   "metadata": {},
   "outputs": [],
   "source": [
    "class Test:\n",
    "    def __init__(self):\n",
    "        self.__x = 'sudh'\n",
    "\n",
    "    def test_meth(self):\n",
    "        return \"this is just a test\""
   ]
  },
  {
   "cell_type": "code",
   "execution_count": 63,
   "id": "ea502cc1-cdbe-4569-8c27-9077a5241eb0",
   "metadata": {},
   "outputs": [],
   "source": [
    "t1 = Test()"
   ]
  },
  {
   "cell_type": "code",
   "execution_count": 64,
   "id": "32aba69c-900b-418c-9793-e3a2613d52f7",
   "metadata": {},
   "outputs": [
    {
     "data": {
      "text/plain": [
       "'this is just a test'"
      ]
     },
     "execution_count": 64,
     "metadata": {},
     "output_type": "execute_result"
    }
   ],
   "source": [
    "t1.test_meth()"
   ]
  },
  {
   "cell_type": "code",
   "execution_count": 65,
   "id": "3847561c-b281-470d-b009-0c2ced6f4df2",
   "metadata": {},
   "outputs": [],
   "source": [
    "class Test:\n",
    "    def __init__(self):\n",
    "        self.__x = 'sudh'\n",
    "\n",
    "    def __test_meth(self):\n",
    "        return \"this is just a test\""
   ]
  },
  {
   "cell_type": "code",
   "execution_count": 66,
   "id": "4b805cd3-deae-47a0-864a-bbb454de3436",
   "metadata": {},
   "outputs": [],
   "source": [
    "t1 = Test()"
   ]
  },
  {
   "cell_type": "code",
   "execution_count": 68,
   "id": "952b7d52-a48c-44b1-8250-afdc81018c64",
   "metadata": {},
   "outputs": [
    {
     "ename": "AttributeError",
     "evalue": "'Test' object has no attribute 'test_meth'",
     "output_type": "error",
     "traceback": [
      "\u001b[0;31m---------------------------------------------------------------------------\u001b[0m",
      "\u001b[0;31mAttributeError\u001b[0m                            Traceback (most recent call last)",
      "Cell \u001b[0;32mIn[68], line 1\u001b[0m\n\u001b[0;32m----> 1\u001b[0m \u001b[43mt1\u001b[49m\u001b[38;5;241;43m.\u001b[39;49m\u001b[43mtest_meth\u001b[49m()\n",
      "\u001b[0;31mAttributeError\u001b[0m: 'Test' object has no attribute 'test_meth'"
     ]
    }
   ],
   "source": [
    "t1.test_meth()"
   ]
  },
  {
   "cell_type": "code",
   "execution_count": 69,
   "id": "6ba82c03-dd1d-4d07-89d8-9d655910ca36",
   "metadata": {},
   "outputs": [
    {
     "data": {
      "text/plain": [
       "'this is just a test'"
      ]
     },
     "execution_count": 69,
     "metadata": {},
     "output_type": "execute_result"
    }
   ],
   "source": [
    "t1._Test__test_meth()"
   ]
  },
  {
   "cell_type": "code",
   "execution_count": 70,
   "id": "ce907c78-a7bc-4fb6-9513-7d3d952f3e93",
   "metadata": {},
   "outputs": [],
   "source": [
    "class Test:\n",
    "    def __init__(self):\n",
    "        self.__x = 'sudh'\n",
    "\n",
    "    def access_var(self):\n",
    "        return self.__x\n",
    "\n",
    "    def update_var(self, data):\n",
    "        self.__x = data"
   ]
  },
  {
   "cell_type": "code",
   "execution_count": 73,
   "id": "787ed645-37e5-477d-b0f9-c58702996c20",
   "metadata": {},
   "outputs": [],
   "source": [
    "t1 = Test()"
   ]
  },
  {
   "cell_type": "code",
   "execution_count": 74,
   "id": "3c430651-8f50-4674-815f-b9d06ddb5418",
   "metadata": {},
   "outputs": [
    {
     "data": {
      "text/plain": [
       "'sudh'"
      ]
     },
     "execution_count": 74,
     "metadata": {},
     "output_type": "execute_result"
    }
   ],
   "source": [
    "t1.access_var()"
   ]
  },
  {
   "cell_type": "code",
   "execution_count": 75,
   "id": "8dcf7174-216b-421c-8e32-468aba28b04e",
   "metadata": {},
   "outputs": [],
   "source": [
    "t1.update_var(2312341232)"
   ]
  },
  {
   "cell_type": "code",
   "execution_count": 76,
   "id": "7c1cd52f-8cdb-4941-8f2e-99c25fb6e0fa",
   "metadata": {},
   "outputs": [
    {
     "data": {
      "text/plain": [
       "2312341232"
      ]
     },
     "execution_count": 76,
     "metadata": {},
     "output_type": "execute_result"
    }
   ],
   "source": [
    "t1.access_var()"
   ]
  },
  {
   "cell_type": "code",
   "execution_count": 77,
   "id": "2db62210-4694-43d8-a1bb-2fe39cbbd93b",
   "metadata": {},
   "outputs": [],
   "source": [
    "class Bank:\n",
    "    def __init__(self, account_number, balance):\n",
    "        self._account_number = account_number\n",
    "        self.__balance = balance\n",
    "\n",
    "    def check_balance(self, password):\n",
    "        if password == \"mysecurepass\":\n",
    "            return self.__balance\n",
    "        else:\n",
    "            return \"incorrect password\""
   ]
  },
  {
   "cell_type": "code",
   "execution_count": 78,
   "id": "bf9c0f3b-1a31-4e62-9bcc-b5e9dfa5e803",
   "metadata": {},
   "outputs": [],
   "source": [
    "sudh = Bank(23432, 12000)"
   ]
  },
  {
   "cell_type": "code",
   "execution_count": 80,
   "id": "40d6ab4c-fe98-43d8-82c7-1614c0358199",
   "metadata": {},
   "outputs": [
    {
     "data": {
      "text/plain": [
       "'incorrect password'"
      ]
     },
     "execution_count": 80,
     "metadata": {},
     "output_type": "execute_result"
    }
   ],
   "source": [
    "sudh.check_balance('pass')"
   ]
  },
  {
   "cell_type": "code",
   "execution_count": 81,
   "id": "89ad4a28-fad9-4876-a68d-1614c108b5cc",
   "metadata": {},
   "outputs": [
    {
     "data": {
      "text/plain": [
       "12000"
      ]
     },
     "execution_count": 81,
     "metadata": {},
     "output_type": "execute_result"
    }
   ],
   "source": [
    "sudh.check_balance('mysecurepass')"
   ]
  },
  {
   "cell_type": "code",
   "execution_count": 88,
   "id": "8303f5ef-fa95-4453-bda4-7ba5526a882e",
   "metadata": {},
   "outputs": [],
   "source": [
    "class Queue:\n",
    "    def __init__(self):\n",
    "        self._queue = []\n",
    "\n",
    "    def enqueue(self, data):\n",
    "        self._queue.append(data)\n",
    "\n",
    "    def dequeue(self):\n",
    "        if self._queue:\n",
    "            return self._queue.pop(0)\n",
    "        else:\n",
    "            return \"It's Empty\"\n",
    "\n",
    "    def access_queue(self):\n",
    "        return self._queue"
   ]
  },
  {
   "cell_type": "code",
   "execution_count": 89,
   "id": "817b4e03-eeea-432e-8a05-0a7ccdd50821",
   "metadata": {},
   "outputs": [],
   "source": [
    "q = Queue()"
   ]
  },
  {
   "cell_type": "code",
   "execution_count": 90,
   "id": "40abd2a0-f5d8-424d-8579-3e80a523bdcf",
   "metadata": {},
   "outputs": [
    {
     "data": {
      "text/plain": [
       "\"It's Empty\""
      ]
     },
     "execution_count": 90,
     "metadata": {},
     "output_type": "execute_result"
    }
   ],
   "source": [
    "q.dequeue()"
   ]
  },
  {
   "cell_type": "code",
   "execution_count": 91,
   "id": "50f5a88e-2675-447b-891a-b4dd32270249",
   "metadata": {},
   "outputs": [],
   "source": [
    "q.enqueue(40)"
   ]
  },
  {
   "cell_type": "code",
   "execution_count": 93,
   "id": "bbe78133-dd6a-4056-b44e-3092dac7d2d5",
   "metadata": {},
   "outputs": [
    {
     "data": {
      "text/plain": [
       "[40]"
      ]
     },
     "execution_count": 93,
     "metadata": {},
     "output_type": "execute_result"
    }
   ],
   "source": [
    "q.access_queue()"
   ]
  },
  {
   "cell_type": "code",
   "execution_count": 94,
   "id": "512dfb7d-3402-49ca-a236-7514c7068015",
   "metadata": {},
   "outputs": [],
   "source": [
    "# Abstraction"
   ]
  },
  {
   "cell_type": "code",
   "execution_count": 95,
   "id": "43e073ca-a8a3-4e6d-8d14-1578fade5abe",
   "metadata": {},
   "outputs": [],
   "source": [
    "class Pwskills:\n",
    "    def student_details(self):\n",
    "        return \"this will give you student details\""
   ]
  },
  {
   "cell_type": "code",
   "execution_count": 113,
   "id": "ee5085e0-a245-4f4e-bc3b-e5257e440e34",
   "metadata": {},
   "outputs": [],
   "source": [
    "from abc import ABC, abstractmethod\n",
    "\n",
    "class Pwskills(ABC):\n",
    "\n",
    "    @abstractmethod\n",
    "    def databaseConnection(self):\n",
    "        pass\n",
    "    @abstractmethod\n",
    "    def checkUserEnrollment(self, user_mailid):\n",
    "        pass\n",
    "    @abstractmethod    \n",
    "    def checkCompletedLectures(self, user_id, class_id):\n",
    "        pass\n",
    "    @abstractmethod\n",
    "    def check_lab_uses(self, user_id):\n",
    "        pass\n",
    "    @abstractmethod\n",
    "    def check_internship(self, user_id):\n",
    "        pass"
   ]
  },
  {
   "cell_type": "code",
   "execution_count": 116,
   "id": "2e01e905-8473-4b3f-8873-80e3812d83eb",
   "metadata": {},
   "outputs": [],
   "source": [
    "class databaseConnection(Pwskills):\n",
    "    def databaseConnection(self):\n",
    "        print(\"this is implementation of database connect\")"
   ]
  },
  {
   "cell_type": "code",
   "execution_count": 117,
   "id": "ae2b6e14-b17a-4748-8220-a0fbf8256957",
   "metadata": {},
   "outputs": [
    {
     "ename": "TypeError",
     "evalue": "Can't instantiate abstract class databaseConnection with abstract methods checkCompletedLectures, checkUserEnrollment, check_internship, check_lab_uses",
     "output_type": "error",
     "traceback": [
      "\u001b[0;31m---------------------------------------------------------------------------\u001b[0m",
      "\u001b[0;31mTypeError\u001b[0m                                 Traceback (most recent call last)",
      "Cell \u001b[0;32mIn[117], line 1\u001b[0m\n\u001b[0;32m----> 1\u001b[0m db1 \u001b[38;5;241m=\u001b[39m \u001b[43mdatabaseConnection\u001b[49m\u001b[43m(\u001b[49m\u001b[43m)\u001b[49m\n",
      "\u001b[0;31mTypeError\u001b[0m: Can't instantiate abstract class databaseConnection with abstract methods checkCompletedLectures, checkUserEnrollment, check_internship, check_lab_uses"
     ]
    }
   ],
   "source": [
    "db1 = databaseConnection()"
   ]
  },
  {
   "cell_type": "code",
   "execution_count": 118,
   "id": "be2e0bcd-59ac-4d62-878f-9db6291470d6",
   "metadata": {},
   "outputs": [],
   "source": [
    "from abc import ABC, abstractmethod\n",
    "\n",
    "class Pwskills(ABC):\n",
    "\n",
    "    @abstractmethod\n",
    "    def databaseConnection(self):\n",
    "        pass\n",
    "    @abstractmethod\n",
    "    def checkUserEnrollment(self, user_mailid):\n",
    "        pass\n",
    "    @abstractmethod    \n",
    "    def checkCompletedLectures(self, user_id, class_id):\n",
    "        pass\n",
    "    @abstractmethod\n",
    "    def check_lab_uses(self, user_id):\n",
    "        pass\n",
    "    @abstractmethod\n",
    "    def check_internship(self, user_id):\n",
    "        pass"
   ]
  },
  {
   "cell_type": "code",
   "execution_count": 119,
   "id": "9484994b-f1c2-4d25-b135-2c0865c9ab20",
   "metadata": {},
   "outputs": [],
   "source": [
    "class databaseConnection(Pwskills):\n",
    "    def databaseConnection(self):\n",
    "        print(\"this is implementation of database connect\")\n",
    "\n",
    "    def checkUserEnrollment(self):\n",
    "        return \"test\"\n",
    "\n",
    "    def checkCompletedLectures(self):\n",
    "        return \"test\"\n",
    "\n",
    "    def check_lab_uses(self):\n",
    "        return \"test\"\n",
    "\n",
    "    def check_internship(self):\n",
    "        return \"test\""
   ]
  },
  {
   "cell_type": "code",
   "execution_count": 120,
   "id": "d9fb3813-4304-4bef-944e-e1136d509dfb",
   "metadata": {},
   "outputs": [],
   "source": [
    "db1 = databaseConnection()"
   ]
  },
  {
   "cell_type": "code",
   "execution_count": 121,
   "id": "35a2b440-85aa-4b37-a624-e0bb1c28620d",
   "metadata": {},
   "outputs": [
    {
     "name": "stdout",
     "output_type": "stream",
     "text": [
      "this is implementation of database connect\n"
     ]
    }
   ],
   "source": [
    "db1.databaseConnection()"
   ]
  },
  {
   "cell_type": "code",
   "execution_count": 123,
   "id": "be1ed76a-31ac-4834-84fe-cd5fcdacaf67",
   "metadata": {},
   "outputs": [
    {
     "data": {
      "text/plain": [
       "'test'"
      ]
     },
     "execution_count": 123,
     "metadata": {},
     "output_type": "execute_result"
    }
   ],
   "source": [
    "db1.check_lab_uses()"
   ]
  },
  {
   "cell_type": "code",
   "execution_count": 128,
   "id": "2ec0b32a-e4fa-4cc5-a86a-6fa4d0389ca0",
   "metadata": {},
   "outputs": [],
   "source": [
    "class Calculation:\n",
    "    def add(x, y):\n",
    "        return x + y\n",
    "\n",
    "    def sub(x, y):\n",
    "        return x - y\n",
    "\n",
    "    def div(self, x, y):\n",
    "        return x / y"
   ]
  },
  {
   "cell_type": "code",
   "execution_count": 129,
   "id": "ba051063-c0a3-4720-aa57-a4f16d93b115",
   "metadata": {},
   "outputs": [
    {
     "data": {
      "text/plain": [
       "0.75"
      ]
     },
     "execution_count": 129,
     "metadata": {},
     "output_type": "execute_result"
    }
   ],
   "source": [
    "a = Calculation()\n",
    "a.div(3, 4)"
   ]
  },
  {
   "cell_type": "code",
   "execution_count": 132,
   "id": "c9778add-ff70-4738-812c-e9517260c72a",
   "metadata": {},
   "outputs": [
    {
     "data": {
      "text/plain": [
       "0.6"
      ]
     },
     "execution_count": 132,
     "metadata": {},
     "output_type": "execute_result"
    }
   ],
   "source": [
    "b = Calculation()\n",
    "b.div(3,5)"
   ]
  },
  {
   "cell_type": "code",
   "execution_count": 133,
   "id": "3af4ea14-3189-4c71-9f91-e3fade1ade11",
   "metadata": {},
   "outputs": [
    {
     "data": {
      "text/plain": [
       "8"
      ]
     },
     "execution_count": 133,
     "metadata": {},
     "output_type": "execute_result"
    }
   ],
   "source": [
    "Calculation.add(3,5)"
   ]
  },
  {
   "cell_type": "code",
   "execution_count": 134,
   "id": "51de1668-7db6-4354-affd-36a536d3000c",
   "metadata": {},
   "outputs": [
    {
     "data": {
      "text/plain": [
       "-2"
      ]
     },
     "execution_count": 134,
     "metadata": {},
     "output_type": "execute_result"
    }
   ],
   "source": [
    "Calculation.sub(3,5)"
   ]
  },
  {
   "cell_type": "code",
   "execution_count": 135,
   "id": "869bfd27-7aeb-45d5-9189-13c18be10430",
   "metadata": {},
   "outputs": [
    {
     "ename": "TypeError",
     "evalue": "div() missing 1 required positional argument: 'y'",
     "output_type": "error",
     "traceback": [
      "\u001b[0;31m---------------------------------------------------------------------------\u001b[0m",
      "\u001b[0;31mTypeError\u001b[0m                                 Traceback (most recent call last)",
      "Cell \u001b[0;32mIn[135], line 1\u001b[0m\n\u001b[0;32m----> 1\u001b[0m \u001b[43mCalculation\u001b[49m\u001b[38;5;241;43m.\u001b[39;49m\u001b[43mdiv\u001b[49m\u001b[43m(\u001b[49m\u001b[38;5;241;43m3\u001b[39;49m\u001b[43m,\u001b[49m\u001b[38;5;241;43m5\u001b[39;49m\u001b[43m)\u001b[49m\n",
      "\u001b[0;31mTypeError\u001b[0m: div() missing 1 required positional argument: 'y'"
     ]
    }
   ],
   "source": [
    "Calculation.div(3,5)"
   ]
  },
  {
   "cell_type": "code",
   "execution_count": 136,
   "id": "a2bf61b7-fe62-400e-b26c-2661864d7bfe",
   "metadata": {},
   "outputs": [],
   "source": [
    "class Calculation:\n",
    "\n",
    "    @staticmethod\n",
    "    def add(x, y):\n",
    "        return x + y\n",
    "\n",
    "    @staticmethod\n",
    "    def sub(x, y):\n",
    "        return x - y\n",
    "\n",
    "    def div(self, x, y):\n",
    "        return x / y"
   ]
  },
  {
   "cell_type": "code",
   "execution_count": 138,
   "id": "f5f3a1cb-2f72-47b0-b1fb-e259a15f3947",
   "metadata": {},
   "outputs": [
    {
     "data": {
      "text/plain": [
       "8"
      ]
     },
     "execution_count": 138,
     "metadata": {},
     "output_type": "execute_result"
    }
   ],
   "source": [
    "Calculation.add(3,5)"
   ]
  },
  {
   "cell_type": "code",
   "execution_count": 139,
   "id": "04e90981-612e-4196-ae80-713723a41dd0",
   "metadata": {},
   "outputs": [
    {
     "data": {
      "text/plain": [
       "3"
      ]
     },
     "execution_count": 139,
     "metadata": {},
     "output_type": "execute_result"
    }
   ],
   "source": [
    "Calculation.sub(3,0)"
   ]
  },
  {
   "cell_type": "code",
   "execution_count": 159,
   "id": "c1c2ac22-fb9b-4874-905a-9c23ccb7048d",
   "metadata": {},
   "outputs": [],
   "source": [
    "class Cal(Calculation):\n",
    "    pass"
   ]
  },
  {
   "cell_type": "code",
   "execution_count": 160,
   "id": "5b6ae686-9a57-4f09-b5e2-760661d56eb9",
   "metadata": {},
   "outputs": [],
   "source": [
    "c1 = Cal()"
   ]
  },
  {
   "cell_type": "code",
   "execution_count": 142,
   "id": "fde9efad-66e7-4e91-9a0b-47e7daa7b9b5",
   "metadata": {},
   "outputs": [
    {
     "data": {
      "text/plain": [
       "5"
      ]
     },
     "execution_count": 142,
     "metadata": {},
     "output_type": "execute_result"
    }
   ],
   "source": [
    "c1.add(2,3)"
   ]
  },
  {
   "cell_type": "code",
   "execution_count": 143,
   "id": "7be383dd-c38d-4ebe-8533-e07134f6e139",
   "metadata": {},
   "outputs": [
    {
     "data": {
      "text/plain": [
       "-9"
      ]
     },
     "execution_count": 143,
     "metadata": {},
     "output_type": "execute_result"
    }
   ],
   "source": [
    "c1.sub(0,9)"
   ]
  },
  {
   "cell_type": "code",
   "execution_count": 145,
   "id": "90e72abe-889d-408d-be0c-2a9f199c1068",
   "metadata": {},
   "outputs": [
    {
     "data": {
      "text/plain": [
       "0.0"
      ]
     },
     "execution_count": 145,
     "metadata": {},
     "output_type": "execute_result"
    }
   ],
   "source": [
    "c1.div(0,4)"
   ]
  },
  {
   "cell_type": "code",
   "execution_count": 146,
   "id": "b19f3c1f-94e3-4f08-9e94-c862416d1d3f",
   "metadata": {},
   "outputs": [
    {
     "data": {
      "text/plain": [
       "7"
      ]
     },
     "execution_count": 146,
     "metadata": {},
     "output_type": "execute_result"
    }
   ],
   "source": [
    "Cal.add(2,5)"
   ]
  },
  {
   "cell_type": "code",
   "execution_count": 147,
   "id": "b9b3fb3a-b592-4f94-a00c-bb39c13c2445",
   "metadata": {},
   "outputs": [
    {
     "data": {
      "text/plain": [
       "4.4"
      ]
     },
     "execution_count": 147,
     "metadata": {},
     "output_type": "execute_result"
    }
   ],
   "source": [
    "Cal.sub(9.4,5)"
   ]
  },
  {
   "cell_type": "code",
   "execution_count": 149,
   "id": "73bd3351-70e3-4dd0-90d0-c5a0e50dbf54",
   "metadata": {},
   "outputs": [
    {
     "ename": "TypeError",
     "evalue": "div() missing 1 required positional argument: 'y'",
     "output_type": "error",
     "traceback": [
      "\u001b[0;31m---------------------------------------------------------------------------\u001b[0m",
      "\u001b[0;31mTypeError\u001b[0m                                 Traceback (most recent call last)",
      "Cell \u001b[0;32mIn[149], line 1\u001b[0m\n\u001b[0;32m----> 1\u001b[0m \u001b[43mCal\u001b[49m\u001b[38;5;241;43m.\u001b[39;49m\u001b[43mdiv\u001b[49m\u001b[43m(\u001b[49m\u001b[38;5;241;43m9\u001b[39;49m\u001b[43m,\u001b[49m\u001b[38;5;241;43m32\u001b[39;49m\u001b[43m)\u001b[49m\n",
      "\u001b[0;31mTypeError\u001b[0m: div() missing 1 required positional argument: 'y'"
     ]
    }
   ],
   "source": [
    "Cal.div(9,32)"
   ]
  },
  {
   "cell_type": "code",
   "execution_count": 157,
   "id": "74575da1-98eb-49a4-b166-1e754075cd43",
   "metadata": {},
   "outputs": [],
   "source": [
    "class Calculation:\n",
    "\n",
    "    @staticmethod\n",
    "    def add(x, y):\n",
    "        return x + y\n",
    "\n",
    "    @staticmethod\n",
    "    def sub(x, y):\n",
    "        return x - y\n",
    "\n",
    "    @staticmethod\n",
    "    def div( x, y):\n",
    "        return x / y"
   ]
  },
  {
   "cell_type": "code",
   "execution_count": 161,
   "id": "c5c61213-2dbe-4731-af3e-f475386f90bc",
   "metadata": {},
   "outputs": [
    {
     "data": {
      "text/plain": [
       "0.75"
      ]
     },
     "execution_count": 161,
     "metadata": {},
     "output_type": "execute_result"
    }
   ],
   "source": [
    "Cal.div(3,4)"
   ]
  },
  {
   "cell_type": "code",
   "execution_count": 162,
   "id": "6ef52e13-6d31-451e-828b-7185895bed81",
   "metadata": {},
   "outputs": [],
   "source": [
    "class FileOperation:\n",
    "    def __init__(self, filename):\n",
    "        self.filename = filename\n",
    "\n",
    "    def readFile(self, filename):\n",
    "        with open(self.filename, 'r') as file:\n",
    "            return file.read()\n",
    "\n",
    "    def writeFile(self, data):\n",
    "        with open(self.filename, 'w') as file:\n",
    "            file.write(data)"
   ]
  },
  {
   "cell_type": "code",
   "execution_count": 163,
   "id": "96a48160-72a0-48a4-8aff-4faa2e79cf93",
   "metadata": {},
   "outputs": [],
   "source": [
    "sudh_op_file = FileOperation('staticfile.txt')\n",
    "sudh_op_file.writeFile(\"this is beting written\")"
   ]
  },
  {
   "cell_type": "code",
   "execution_count": 164,
   "id": "ba6ed4dd-7da4-4042-8010-19b37bc4907a",
   "metadata": {},
   "outputs": [],
   "source": [
    "kapil = FileOperation(\"kapil.txt\")\n",
    "kapil.writeFile(\"This is kapil's file\")"
   ]
  },
  {
   "cell_type": "code",
   "execution_count": 166,
   "id": "0e45af70-9558-4df2-9ab9-3037b4bb557d",
   "metadata": {},
   "outputs": [],
   "source": [
    "sachin = FileOperation(\"sachin.txt\")\n",
    "sachin.writeFile(\"this is sachin's file\")"
   ]
  },
  {
   "cell_type": "code",
   "execution_count": 167,
   "id": "cf33e6c5-1b7a-442b-9bc0-0805dbf849b7",
   "metadata": {},
   "outputs": [],
   "source": [
    "# Composition"
   ]
  },
  {
   "cell_type": "code",
   "execution_count": 172,
   "id": "37040551-13b4-4116-bfba-000532378e0f",
   "metadata": {},
   "outputs": [],
   "source": [
    "class Pwskills:\n",
    "    def student(self):\n",
    "        return \"student details\"\n",
    "\n",
    "class DataScience:\n",
    "    def __init__(self):\n",
    "        self.student = Pwskills()"
   ]
  },
  {
   "cell_type": "code",
   "execution_count": 173,
   "id": "8ff4618c-f640-4374-92cf-b7edd490c7a7",
   "metadata": {},
   "outputs": [],
   "source": [
    "ds = DataScience()"
   ]
  },
  {
   "cell_type": "code",
   "execution_count": 175,
   "id": "ae7e7e1a-6636-4712-b93b-4e752f3f1e7d",
   "metadata": {},
   "outputs": [
    {
     "data": {
      "text/plain": [
       "'student details'"
      ]
     },
     "execution_count": 175,
     "metadata": {},
     "output_type": "execute_result"
    }
   ],
   "source": [
    "ds.student.student()"
   ]
  },
  {
   "cell_type": "code",
   "execution_count": 177,
   "id": "2ed36fa2-2d32-431b-90d9-dd7e1a31fd36",
   "metadata": {},
   "outputs": [],
   "source": [
    "class Data:\n",
    "    def __init__(self, mentor_name):\n",
    "        self.mentor_name = mentor_name\n",
    "\n",
    "class WebDev:\n",
    "    def __init__(self, mentor, lecture_name):\n",
    "        self.mentor = mentor\n",
    "        self.lecture_name = lecture_name"
   ]
  },
  {
   "cell_type": "code",
   "execution_count": 178,
   "id": "4a2951a1-e839-4874-8a47-37557032eadd",
   "metadata": {},
   "outputs": [],
   "source": [
    "d = Data('sudh')\n",
    "w = WebDev('Krish', 'css')"
   ]
  },
  {
   "cell_type": "code",
   "execution_count": 179,
   "id": "bd76ca2b-a582-459f-8964-98b9a237c16c",
   "metadata": {},
   "outputs": [
    {
     "data": {
      "text/plain": [
       "'sudh'"
      ]
     },
     "execution_count": 179,
     "metadata": {},
     "output_type": "execute_result"
    }
   ],
   "source": [
    "d.mentor_name"
   ]
  },
  {
   "cell_type": "code",
   "execution_count": 180,
   "id": "8936290c-0848-485e-9356-7a0b445bc96a",
   "metadata": {},
   "outputs": [
    {
     "data": {
      "text/plain": [
       "'Krish'"
      ]
     },
     "execution_count": 180,
     "metadata": {},
     "output_type": "execute_result"
    }
   ],
   "source": [
    "w.mentor"
   ]
  },
  {
   "cell_type": "code",
   "execution_count": 181,
   "id": "a5a537bc-5202-4b5a-ab5d-fe0349568225",
   "metadata": {},
   "outputs": [],
   "source": [
    "w = WebDev(d, 'css')"
   ]
  },
  {
   "cell_type": "code",
   "execution_count": 183,
   "id": "d726c255-6e40-4c24-b649-37b56536b0ab",
   "metadata": {},
   "outputs": [
    {
     "data": {
      "text/plain": [
       "'sudh'"
      ]
     },
     "execution_count": 183,
     "metadata": {},
     "output_type": "execute_result"
    }
   ],
   "source": [
    "w.mentor.mentor_name"
   ]
  }
 ],
 "metadata": {
  "kernelspec": {
   "display_name": "Python 3 (ipykernel)",
   "language": "python",
   "name": "python3"
  },
  "language_info": {
   "codemirror_mode": {
    "name": "ipython",
    "version": 3
   },
   "file_extension": ".py",
   "mimetype": "text/x-python",
   "name": "python",
   "nbconvert_exporter": "python",
   "pygments_lexer": "ipython3",
   "version": "3.8.18"
  }
 },
 "nbformat": 4,
 "nbformat_minor": 5
}
