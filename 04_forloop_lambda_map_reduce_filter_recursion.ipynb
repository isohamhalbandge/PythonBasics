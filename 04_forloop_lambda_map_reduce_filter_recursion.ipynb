{
 "cells": [
  {
   "cell_type": "code",
   "execution_count": 1,
   "id": "6c451680-2d80-410e-9062-69b736c5ca10",
   "metadata": {
    "tags": []
   },
   "outputs": [],
   "source": [
    "def test():\n",
    "    print(\"this is my first function\")"
   ]
  },
  {
   "cell_type": "code",
   "execution_count": 2,
   "id": "fa0924f1-34c1-4a48-bff0-04797fec67c4",
   "metadata": {
    "tags": []
   },
   "outputs": [
    {
     "name": "stdout",
     "output_type": "stream",
     "text": [
      "this is my first function\n"
     ]
    }
   ],
   "source": [
    "test()"
   ]
  },
  {
   "cell_type": "code",
   "execution_count": 3,
   "id": "711e4a24-956b-4359-a579-6cba7a7dfd7e",
   "metadata": {
    "tags": []
   },
   "outputs": [
    {
     "name": "stdout",
     "output_type": "stream",
     "text": [
      "this is my first function\n"
     ]
    }
   ],
   "source": [
    "test()"
   ]
  },
  {
   "cell_type": "code",
   "execution_count": 4,
   "id": "7c28dcf2-cc01-4595-8658-e37153f6d7de",
   "metadata": {
    "tags": []
   },
   "outputs": [],
   "source": [
    "def test1():\n",
    "    print(\"test\")"
   ]
  },
  {
   "cell_type": "code",
   "execution_count": 5,
   "id": "712c822a-64ca-4d24-8412-9236aab3e097",
   "metadata": {
    "tags": []
   },
   "outputs": [
    {
     "name": "stdout",
     "output_type": "stream",
     "text": [
      "test\n"
     ]
    },
    {
     "ename": "TypeError",
     "evalue": "unsupported operand type(s) for +: 'NoneType' and 'str'",
     "output_type": "error",
     "traceback": [
      "\u001b[1;31m---------------------------------------------------------------------------\u001b[0m",
      "\u001b[1;31mTypeError\u001b[0m                                 Traceback (most recent call last)",
      "Cell \u001b[1;32mIn[5], line 1\u001b[0m\n\u001b[1;32m----> 1\u001b[0m test1() \u001b[38;5;241m+\u001b[39m \u001b[38;5;124m\"\u001b[39m\u001b[38;5;124msudh\u001b[39m\u001b[38;5;124m\"\u001b[39m\n",
      "\u001b[1;31mTypeError\u001b[0m: unsupported operand type(s) for +: 'NoneType' and 'str'"
     ]
    }
   ],
   "source": [
    "test1() + \"sudh\""
   ]
  },
  {
   "cell_type": "code",
   "execution_count": null,
   "id": "b6112f1f-de7b-487f-91ce-2d36539c772e",
   "metadata": {
    "tags": []
   },
   "outputs": [],
   "source": [
    "test1()"
   ]
  },
  {
   "cell_type": "code",
   "execution_count": null,
   "id": "40adfa45-ebfc-43e7-8588-06359424ee47",
   "metadata": {
    "tags": []
   },
   "outputs": [],
   "source": [
    "type(test1()) # there was no return type in function so thats why it will give nonetype"
   ]
  },
  {
   "cell_type": "code",
   "execution_count": null,
   "id": "e0355f18-3a39-4215-9b3c-7c424419f222",
   "metadata": {
    "tags": []
   },
   "outputs": [],
   "source": [
    "def test2():\n",
    "    print(1 + 2)"
   ]
  },
  {
   "cell_type": "code",
   "execution_count": null,
   "id": "6dcbf653-5aef-42e2-8fea-96eed19767e3",
   "metadata": {
    "tags": []
   },
   "outputs": [],
   "source": [
    "test2()"
   ]
  },
  {
   "cell_type": "code",
   "execution_count": null,
   "id": "dfb2b411-6721-4ac6-9def-20772e3a71d5",
   "metadata": {
    "tags": []
   },
   "outputs": [],
   "source": [
    "test2() + 10"
   ]
  },
  {
   "cell_type": "code",
   "execution_count": null,
   "id": "551efcb4-f84c-4319-bdc7-f7a215dd2b56",
   "metadata": {},
   "outputs": [],
   "source": [
    "def test3():\n",
    "    return 1+2"
   ]
  },
  {
   "cell_type": "code",
   "execution_count": null,
   "id": "37348633-5a1d-44d0-8eef-e0ad1252510e",
   "metadata": {
    "tags": []
   },
   "outputs": [],
   "source": [
    "test3() + 10"
   ]
  },
  {
   "cell_type": "code",
   "execution_count": null,
   "id": "7e5f3dbe-9d4a-4c9f-95e2-5c1b0f270a45",
   "metadata": {
    "tags": []
   },
   "outputs": [],
   "source": [
    "type(test3())"
   ]
  },
  {
   "cell_type": "code",
   "execution_count": 6,
   "id": "b5038ae3-afb9-4659-8a69-886ef882b7a1",
   "metadata": {
    "tags": []
   },
   "outputs": [],
   "source": [
    "def test4():\n",
    "    return 2, \"sudh\", True, [1,2,3,4,5]"
   ]
  },
  {
   "cell_type": "code",
   "execution_count": 7,
   "id": "586f565c-4064-458e-8db2-35f5e3e99c53",
   "metadata": {
    "tags": []
   },
   "outputs": [
    {
     "data": {
      "text/plain": [
       "(2, 'sudh', True, [1, 2, 3, 4, 5])"
      ]
     },
     "execution_count": 7,
     "metadata": {},
     "output_type": "execute_result"
    }
   ],
   "source": [
    "test4()"
   ]
  },
  {
   "cell_type": "code",
   "execution_count": 8,
   "id": "038d2c18-d5f1-4578-a68d-58a994f22f23",
   "metadata": {
    "tags": []
   },
   "outputs": [],
   "source": [
    "a,b,c,d = 1,'sudh',34,45"
   ]
  },
  {
   "cell_type": "code",
   "execution_count": 9,
   "id": "a8ca2805-69ee-4b8b-8681-9a1b447df54a",
   "metadata": {
    "tags": []
   },
   "outputs": [
    {
     "data": {
      "text/plain": [
       "tuple"
      ]
     },
     "execution_count": 9,
     "metadata": {},
     "output_type": "execute_result"
    }
   ],
   "source": [
    "type(test4())"
   ]
  },
  {
   "cell_type": "code",
   "execution_count": 10,
   "id": "0f3af448-9d3f-4610-bead-4bd9ee8f3097",
   "metadata": {
    "tags": []
   },
   "outputs": [],
   "source": [
    "m,n,o,p = test4()"
   ]
  },
  {
   "cell_type": "code",
   "execution_count": 11,
   "id": "b126db8b-4906-414c-938d-6227f1ade12f",
   "metadata": {
    "tags": []
   },
   "outputs": [
    {
     "data": {
      "text/plain": [
       "2"
      ]
     },
     "execution_count": 11,
     "metadata": {},
     "output_type": "execute_result"
    }
   ],
   "source": [
    "m"
   ]
  },
  {
   "cell_type": "code",
   "execution_count": 12,
   "id": "298e3062-d3c4-48d8-9a89-40939f61d997",
   "metadata": {
    "tags": []
   },
   "outputs": [
    {
     "data": {
      "text/plain": [
       "'sudh'"
      ]
     },
     "execution_count": 12,
     "metadata": {},
     "output_type": "execute_result"
    }
   ],
   "source": [
    "n"
   ]
  },
  {
   "cell_type": "code",
   "execution_count": 13,
   "id": "0eefcb6a-b9f3-4b99-9144-d8c6bfce3389",
   "metadata": {
    "tags": []
   },
   "outputs": [
    {
     "data": {
      "text/plain": [
       "True"
      ]
     },
     "execution_count": 13,
     "metadata": {},
     "output_type": "execute_result"
    }
   ],
   "source": [
    "o"
   ]
  },
  {
   "cell_type": "code",
   "execution_count": 14,
   "id": "c1f76585-e21f-433e-9ee2-f1b0a51a0fd5",
   "metadata": {
    "tags": []
   },
   "outputs": [
    {
     "data": {
      "text/plain": [
       "[1, 2, 3, 4, 5]"
      ]
     },
     "execution_count": 14,
     "metadata": {},
     "output_type": "execute_result"
    }
   ],
   "source": [
    "p"
   ]
  },
  {
   "cell_type": "code",
   "execution_count": 15,
   "id": "2956528e-92dd-496c-b823-a2c993f68b0a",
   "metadata": {
    "tags": []
   },
   "outputs": [],
   "source": [
    "def test5(x):\n",
    "    return x"
   ]
  },
  {
   "cell_type": "code",
   "execution_count": 16,
   "id": "2150074b-6725-4bff-95bd-0b3455b5d061",
   "metadata": {
    "tags": []
   },
   "outputs": [
    {
     "data": {
      "text/plain": [
       "5"
      ]
     },
     "execution_count": 16,
     "metadata": {},
     "output_type": "execute_result"
    }
   ],
   "source": [
    "test5(5)"
   ]
  },
  {
   "cell_type": "code",
   "execution_count": 17,
   "id": "86230af1-d228-4e18-b615-10f8f71de4be",
   "metadata": {
    "tags": []
   },
   "outputs": [
    {
     "data": {
      "text/plain": [
       "'sudh'"
      ]
     },
     "execution_count": 17,
     "metadata": {},
     "output_type": "execute_result"
    }
   ],
   "source": [
    "test5('sudh')"
   ]
  },
  {
   "cell_type": "code",
   "execution_count": 18,
   "id": "3e43dc6b-6046-4eb1-a89b-dd857a787dc4",
   "metadata": {
    "tags": []
   },
   "outputs": [
    {
     "data": {
      "text/plain": [
       "[1, 2, 3, 4, 5]"
      ]
     },
     "execution_count": 18,
     "metadata": {},
     "output_type": "execute_result"
    }
   ],
   "source": [
    "test5([1,2,3,4,5])"
   ]
  },
  {
   "cell_type": "code",
   "execution_count": 19,
   "id": "75c2f2ad-96f5-4aa2-be85-9529c1404878",
   "metadata": {
    "tags": []
   },
   "outputs": [
    {
     "ename": "TypeError",
     "evalue": "test5() takes 1 positional argument but 2 were given",
     "output_type": "error",
     "traceback": [
      "\u001b[1;31m---------------------------------------------------------------------------\u001b[0m",
      "\u001b[1;31mTypeError\u001b[0m                                 Traceback (most recent call last)",
      "Cell \u001b[1;32mIn[19], line 1\u001b[0m\n\u001b[1;32m----> 1\u001b[0m test5(\u001b[38;5;241m4\u001b[39m,\u001b[38;5;241m5\u001b[39m)\n",
      "\u001b[1;31mTypeError\u001b[0m: test5() takes 1 positional argument but 2 were given"
     ]
    }
   ],
   "source": [
    "test5(4,5)"
   ]
  },
  {
   "cell_type": "code",
   "execution_count": 20,
   "id": "1c871020-de7e-426d-80f2-577ee7cb7a97",
   "metadata": {
    "tags": []
   },
   "outputs": [
    {
     "ename": "TypeError",
     "evalue": "test5() missing 1 required positional argument: 'x'",
     "output_type": "error",
     "traceback": [
      "\u001b[1;31m---------------------------------------------------------------------------\u001b[0m",
      "\u001b[1;31mTypeError\u001b[0m                                 Traceback (most recent call last)",
      "Cell \u001b[1;32mIn[20], line 1\u001b[0m\n\u001b[1;32m----> 1\u001b[0m test5()\n",
      "\u001b[1;31mTypeError\u001b[0m: test5() missing 1 required positional argument: 'x'"
     ]
    }
   ],
   "source": [
    "test5()"
   ]
  },
  {
   "cell_type": "code",
   "execution_count": 21,
   "id": "9884c129-6eee-48a4-9016-3be862aeec0a",
   "metadata": {
    "tags": []
   },
   "outputs": [],
   "source": [
    "def test6(x, y):\n",
    "    return x,y"
   ]
  },
  {
   "cell_type": "code",
   "execution_count": 22,
   "id": "678e925b-bb71-4b52-989f-f89e1730647d",
   "metadata": {
    "tags": []
   },
   "outputs": [
    {
     "data": {
      "text/plain": [
       "(3, 5)"
      ]
     },
     "execution_count": 22,
     "metadata": {},
     "output_type": "execute_result"
    }
   ],
   "source": [
    "test6(3,5)"
   ]
  },
  {
   "cell_type": "code",
   "execution_count": 23,
   "id": "893293ea-8fe8-4875-a7b9-a0628e08e524",
   "metadata": {
    "tags": []
   },
   "outputs": [
    {
     "data": {
      "text/plain": [
       "('sudh', [1, 2, 3, 4, 5])"
      ]
     },
     "execution_count": 23,
     "metadata": {},
     "output_type": "execute_result"
    }
   ],
   "source": [
    "test6('sudh',[1,2,3,4,5])"
   ]
  },
  {
   "cell_type": "code",
   "execution_count": 24,
   "id": "12317cf7-9478-4369-81fa-88e04e5ebb70",
   "metadata": {
    "tags": []
   },
   "outputs": [],
   "source": [
    "def test7(a: int,b: int):\n",
    "    return a,b"
   ]
  },
  {
   "cell_type": "code",
   "execution_count": 25,
   "id": "205fbb9c-5ddc-48b0-ba7d-7aa76628fab7",
   "metadata": {
    "tags": []
   },
   "outputs": [
    {
     "data": {
      "text/plain": [
       "(4, 5)"
      ]
     },
     "execution_count": 25,
     "metadata": {},
     "output_type": "execute_result"
    }
   ],
   "source": [
    "test7(4,5)\n"
   ]
  },
  {
   "cell_type": "code",
   "execution_count": 26,
   "id": "9929b812-e273-4f55-89d9-742686bcaf10",
   "metadata": {
    "tags": []
   },
   "outputs": [
    {
     "data": {
      "text/plain": [
       "('sudh', [4, 5, 6, 7])"
      ]
     },
     "execution_count": 26,
     "metadata": {},
     "output_type": "execute_result"
    }
   ],
   "source": [
    "test7('sudh',[4,5,6,7])"
   ]
  },
  {
   "cell_type": "code",
   "execution_count": 27,
   "id": "343e0891-ce25-4f47-8ff9-892d73b3afc0",
   "metadata": {
    "tags": []
   },
   "outputs": [],
   "source": [
    "def test8(x:int,y:int):\n",
    "    return x/y"
   ]
  },
  {
   "cell_type": "code",
   "execution_count": 28,
   "id": "544a731d-b868-435a-86e8-1192f181c7ad",
   "metadata": {
    "tags": []
   },
   "outputs": [
    {
     "data": {
      "text/plain": [
       "0.8"
      ]
     },
     "execution_count": 28,
     "metadata": {},
     "output_type": "execute_result"
    }
   ],
   "source": [
    "test8(4,5)"
   ]
  },
  {
   "cell_type": "code",
   "execution_count": 29,
   "id": "2033b481-44e7-4908-99b7-0fce6a03beb0",
   "metadata": {
    "tags": []
   },
   "outputs": [
    {
     "ename": "TypeError",
     "evalue": "unsupported operand type(s) for /: 'str' and 'str'",
     "output_type": "error",
     "traceback": [
      "\u001b[1;31m---------------------------------------------------------------------------\u001b[0m",
      "\u001b[1;31mTypeError\u001b[0m                                 Traceback (most recent call last)",
      "Cell \u001b[1;32mIn[29], line 1\u001b[0m\n\u001b[1;32m----> 1\u001b[0m test8(\u001b[38;5;124m'\u001b[39m\u001b[38;5;124msudh\u001b[39m\u001b[38;5;124m'\u001b[39m,\u001b[38;5;124m'\u001b[39m\u001b[38;5;124mkumar\u001b[39m\u001b[38;5;124m'\u001b[39m)\n",
      "Cell \u001b[1;32mIn[27], line 2\u001b[0m, in \u001b[0;36mtest8\u001b[1;34m(x, y)\u001b[0m\n\u001b[0;32m      1\u001b[0m \u001b[38;5;28;01mdef\u001b[39;00m \u001b[38;5;21mtest8\u001b[39m(x:\u001b[38;5;28mint\u001b[39m,y:\u001b[38;5;28mint\u001b[39m):\n\u001b[1;32m----> 2\u001b[0m     \u001b[38;5;28;01mreturn\u001b[39;00m x\u001b[38;5;241m/\u001b[39my\n",
      "\u001b[1;31mTypeError\u001b[0m: unsupported operand type(s) for /: 'str' and 'str'"
     ]
    }
   ],
   "source": [
    "test8('sudh','kumar')"
   ]
  },
  {
   "cell_type": "code",
   "execution_count": 30,
   "id": "7352dec7-2832-4b5a-bcb0-1d4c42131717",
   "metadata": {
    "tags": []
   },
   "outputs": [],
   "source": [
    "# always have a docstring while creating a function\n",
    "# it will write its own reference while using this function (when we press shift + tab)\n",
    "\n",
    "def test9(c,d):\n",
    "    '''\n",
    "    this is my function which can take two input and return addition or concatenation\n",
    "    '''\n",
    "    return c+d"
   ]
  },
  {
   "cell_type": "code",
   "execution_count": 31,
   "id": "090a151c-7ed3-47ea-a484-5dcbcaf67d57",
   "metadata": {
    "tags": []
   },
   "outputs": [
    {
     "data": {
      "text/plain": [
       "9"
      ]
     },
     "execution_count": 31,
     "metadata": {},
     "output_type": "execute_result"
    }
   ],
   "source": [
    "test9(4,5)"
   ]
  },
  {
   "cell_type": "code",
   "execution_count": 32,
   "id": "83827cc3-9029-4bf6-9ea9-766632b2dceb",
   "metadata": {
    "tags": []
   },
   "outputs": [],
   "source": [
    "def test10(*args):\n",
    "    '''\n",
    "    only values\n",
    "    '''\n",
    "    return args"
   ]
  },
  {
   "cell_type": "code",
   "execution_count": 33,
   "id": "c6f3bc3d-5370-4033-909a-5890c764df41",
   "metadata": {
    "tags": []
   },
   "outputs": [
    {
     "data": {
      "text/plain": [
       "(2, 3, 4, 5, 6, 6)"
      ]
     },
     "execution_count": 33,
     "metadata": {},
     "output_type": "execute_result"
    }
   ],
   "source": [
    "test10(2,3,4,5,6,6)"
   ]
  },
  {
   "cell_type": "code",
   "execution_count": 34,
   "id": "1786ac70-9d08-48f2-aa26-debbed8fa2e0",
   "metadata": {
    "tags": []
   },
   "outputs": [],
   "source": [
    "# to want sum of all the args (considering all are int)\n",
    "\n",
    "def test10(*args):\n",
    "    '''\n",
    "    returning the sum of all the args\n",
    "    '''\n",
    "    total_sum = 0\n",
    "    for i in args:\n",
    "        total_sum += i\n",
    "    \n",
    "    return total_sum"
   ]
  },
  {
   "cell_type": "code",
   "execution_count": 35,
   "id": "4a612542-fef9-435d-b50d-f38eddcb694f",
   "metadata": {
    "tags": []
   },
   "outputs": [
    {
     "data": {
      "text/plain": [
       "26"
      ]
     },
     "execution_count": 35,
     "metadata": {},
     "output_type": "execute_result"
    }
   ],
   "source": [
    "test10(2,3,4,5,6,6)"
   ]
  },
  {
   "cell_type": "code",
   "execution_count": 36,
   "id": "88032686-9fae-4521-82aa-f3154fa85a44",
   "metadata": {
    "tags": []
   },
   "outputs": [],
   "source": [
    "# test10()"
   ]
  },
  {
   "cell_type": "code",
   "execution_count": 37,
   "id": "1a1a94a2-3354-4c8b-92c1-ebe44edd1ddb",
   "metadata": {
    "tags": []
   },
   "outputs": [
    {
     "data": {
      "text/plain": [
       "1"
      ]
     },
     "execution_count": 37,
     "metadata": {},
     "output_type": "execute_result"
    }
   ],
   "source": [
    "test10(1)"
   ]
  },
  {
   "cell_type": "code",
   "execution_count": 38,
   "id": "38392ff0-8b65-4db7-b3ac-59ee272073e6",
   "metadata": {
    "tags": []
   },
   "outputs": [],
   "source": [
    "# test10('sudh')"
   ]
  },
  {
   "cell_type": "code",
   "execution_count": 39,
   "id": "a2925ca9-6366-403a-a6c4-48623d336475",
   "metadata": {
    "tags": []
   },
   "outputs": [],
   "source": [
    "def test11(*sudh):\n",
    "    return sudh"
   ]
  },
  {
   "cell_type": "code",
   "execution_count": 40,
   "id": "ba7c0f2f-2a45-46fc-95a5-2dab562deaba",
   "metadata": {
    "tags": []
   },
   "outputs": [
    {
     "data": {
      "text/plain": [
       "(3, 4, 55, 6)"
      ]
     },
     "execution_count": 40,
     "metadata": {},
     "output_type": "execute_result"
    }
   ],
   "source": [
    "test11(3,4,55,6)"
   ]
  },
  {
   "cell_type": "code",
   "execution_count": 41,
   "id": "4be345d7-35ea-4cd4-b1bc-aa91bd8f800c",
   "metadata": {
    "tags": []
   },
   "outputs": [],
   "source": [
    "# this is always in the form of key value pairs (i.e dictionary)\n",
    "\n",
    "def test12(**kwargs):\n",
    "    '''\n",
    "    key value pair\n",
    "    '''\n",
    "    return kwargs"
   ]
  },
  {
   "cell_type": "code",
   "execution_count": 42,
   "id": "752efe01-dee7-4d25-9569-6417c0da7c15",
   "metadata": {
    "tags": []
   },
   "outputs": [
    {
     "ename": "TypeError",
     "evalue": "test12() takes 0 positional arguments but 3 were given",
     "output_type": "error",
     "traceback": [
      "\u001b[1;31m---------------------------------------------------------------------------\u001b[0m",
      "\u001b[1;31mTypeError\u001b[0m                                 Traceback (most recent call last)",
      "Cell \u001b[1;32mIn[42], line 1\u001b[0m\n\u001b[1;32m----> 1\u001b[0m test12(\u001b[38;5;241m4\u001b[39m,\u001b[38;5;241m5\u001b[39m,\u001b[38;5;241m6\u001b[39m)\n",
      "\u001b[1;31mTypeError\u001b[0m: test12() takes 0 positional arguments but 3 were given"
     ]
    }
   ],
   "source": [
    "test12(4,5,6)"
   ]
  },
  {
   "cell_type": "code",
   "execution_count": 43,
   "id": "e7015f3c-8511-4588-9a4c-190d4932991e",
   "metadata": {
    "tags": []
   },
   "outputs": [
    {
     "data": {
      "text/plain": [
       "{'a': 4, 'b': 5, 'c': 6}"
      ]
     },
     "execution_count": 43,
     "metadata": {},
     "output_type": "execute_result"
    }
   ],
   "source": [
    "test12(a = 4,b = 5,c = 6)"
   ]
  },
  {
   "cell_type": "code",
   "execution_count": 44,
   "id": "63e2567e-1363-4569-99bb-11b0c1a82770",
   "metadata": {
    "tags": []
   },
   "outputs": [
    {
     "data": {
      "text/plain": [
       "{'n': {'a': 4, 'b': 5, 'c': 6}}"
      ]
     },
     "execution_count": 44,
     "metadata": {},
     "output_type": "execute_result"
    }
   ],
   "source": [
    "test12(n = {'a': 4, 'b': 5, 'c': 6})"
   ]
  },
  {
   "cell_type": "code",
   "execution_count": 45,
   "id": "91131812-daf9-4480-bca8-b26499f4b0da",
   "metadata": {
    "tags": []
   },
   "outputs": [],
   "source": [
    "def test13(b, a = 10, c = 20):\n",
    "    '''\n",
    "    default arguments\n",
    "    '''\n",
    "    return a,b,c"
   ]
  },
  {
   "cell_type": "code",
   "execution_count": 46,
   "id": "0016a556-8df5-42e5-a46c-2fa71d5a390e",
   "metadata": {
    "tags": []
   },
   "outputs": [
    {
     "data": {
      "text/plain": [
       "(10, 45, 20)"
      ]
     },
     "execution_count": 46,
     "metadata": {},
     "output_type": "execute_result"
    }
   ],
   "source": [
    "test13(45)"
   ]
  },
  {
   "cell_type": "code",
   "execution_count": 47,
   "id": "541231fa-08f9-4831-9e68-db1567483804",
   "metadata": {
    "tags": []
   },
   "outputs": [
    {
     "data": {
      "text/plain": [
       "(45, 34, 20)"
      ]
     },
     "execution_count": 47,
     "metadata": {},
     "output_type": "execute_result"
    }
   ],
   "source": [
    "test13(34, a = 45)"
   ]
  },
  {
   "cell_type": "code",
   "execution_count": 48,
   "id": "3b935796-51bd-4a5b-82f4-330aa6b28951",
   "metadata": {},
   "outputs": [],
   "source": [
    "v = test13(4, 5, 67)"
   ]
  },
  {
   "cell_type": "code",
   "execution_count": 49,
   "id": "1bb3cfa4-89a1-4d11-a07d-03193c220267",
   "metadata": {
    "tags": []
   },
   "outputs": [
    {
     "data": {
      "text/plain": [
       "(5, 4, 67)"
      ]
     },
     "execution_count": 49,
     "metadata": {},
     "output_type": "execute_result"
    }
   ],
   "source": [
    "v"
   ]
  },
  {
   "cell_type": "code",
   "execution_count": 50,
   "id": "896fcbdd-d847-47de-a2e6-47b45a09acf0",
   "metadata": {
    "tags": []
   },
   "outputs": [],
   "source": [
    "def test14(a,b):\n",
    "    return a+b"
   ]
  },
  {
   "cell_type": "code",
   "execution_count": 51,
   "id": "a5925794-07d0-44c9-b206-fecb538b268a",
   "metadata": {
    "tags": []
   },
   "outputs": [
    {
     "data": {
      "text/plain": [
       "11"
      ]
     },
     "execution_count": 51,
     "metadata": {},
     "output_type": "execute_result"
    }
   ],
   "source": [
    "test14(5,6)"
   ]
  },
  {
   "cell_type": "code",
   "execution_count": 52,
   "id": "9d1d6a03-909f-461c-b69e-bb4a49089ff1",
   "metadata": {
    "tags": []
   },
   "outputs": [],
   "source": [
    "m = lambda a,b : a+b # anonyymous function"
   ]
  },
  {
   "cell_type": "code",
   "execution_count": 53,
   "id": "83422d06-3c52-4c9d-a8a5-2c5d3693cc68",
   "metadata": {
    "tags": []
   },
   "outputs": [
    {
     "data": {
      "text/plain": [
       "9"
      ]
     },
     "execution_count": 53,
     "metadata": {},
     "output_type": "execute_result"
    }
   ],
   "source": [
    "m(4,5)"
   ]
  },
  {
   "cell_type": "code",
   "execution_count": 54,
   "id": "9c00f0b1-7091-4241-89d0-c72ec9665dbb",
   "metadata": {
    "tags": []
   },
   "outputs": [
    {
     "data": {
      "text/plain": [
       "<function __main__.<lambda>(a, b)>"
      ]
     },
     "execution_count": 54,
     "metadata": {},
     "output_type": "execute_result"
    }
   ],
   "source": [
    "m"
   ]
  },
  {
   "cell_type": "code",
   "execution_count": 55,
   "id": "5c2f3305-236c-400e-a8da-6579fa8e3759",
   "metadata": {
    "tags": []
   },
   "outputs": [],
   "source": [
    "def check_even(n):\n",
    "    if n % 2 == 0:\n",
    "        return \"Given number is an even number\"\n",
    "    else:\n",
    "        return \"Given number is not an even number\""
   ]
  },
  {
   "cell_type": "code",
   "execution_count": 56,
   "id": "6072b3a3-a885-45d7-b781-6b64e2d8d6a8",
   "metadata": {
    "tags": []
   },
   "outputs": [
    {
     "data": {
      "text/plain": [
       "'Given number is an even number'"
      ]
     },
     "execution_count": 56,
     "metadata": {},
     "output_type": "execute_result"
    }
   ],
   "source": [
    "check_even(4)"
   ]
  },
  {
   "cell_type": "code",
   "execution_count": 57,
   "id": "b3b2578e-b250-4b9e-9a80-c3f3dbc279fe",
   "metadata": {
    "tags": []
   },
   "outputs": [
    {
     "data": {
      "text/plain": [
       "'Given number is not an even number'"
      ]
     },
     "execution_count": 57,
     "metadata": {},
     "output_type": "execute_result"
    }
   ],
   "source": [
    "check_even(7)"
   ]
  },
  {
   "cell_type": "code",
   "execution_count": 58,
   "id": "91c885d5-e51e-4b95-93f0-4ab1a54610b3",
   "metadata": {
    "tags": []
   },
   "outputs": [],
   "source": [
    "check_even = lambda x : \"even\" if x % 2 == 0 else \"odd\""
   ]
  },
  {
   "cell_type": "code",
   "execution_count": 59,
   "id": "c67d4f23-64b9-404a-996b-9d5364ac0553",
   "metadata": {
    "tags": []
   },
   "outputs": [
    {
     "data": {
      "text/plain": [
       "'even'"
      ]
     },
     "execution_count": 59,
     "metadata": {},
     "output_type": "execute_result"
    }
   ],
   "source": [
    "check_even(6)"
   ]
  },
  {
   "cell_type": "code",
   "execution_count": 60,
   "id": "647e064a-99d6-49ed-a6ea-8a16981df964",
   "metadata": {
    "tags": []
   },
   "outputs": [
    {
     "data": {
      "text/plain": [
       "'odd'"
      ]
     },
     "execution_count": 60,
     "metadata": {},
     "output_type": "execute_result"
    }
   ],
   "source": [
    "check_even(7)"
   ]
  },
  {
   "cell_type": "code",
   "execution_count": 61,
   "id": "c630bae8-e6df-45ca-8d61-d3abe309e7a9",
   "metadata": {
    "tags": []
   },
   "outputs": [],
   "source": [
    "l = [3,4,5,76,3,2,3,4,5]\n",
    "min_list = lambda li : min(li)"
   ]
  },
  {
   "cell_type": "code",
   "execution_count": 62,
   "id": "58799ff8-d1dc-4fdf-8e31-17c1ac7fc47d",
   "metadata": {
    "tags": []
   },
   "outputs": [
    {
     "data": {
      "text/plain": [
       "2"
      ]
     },
     "execution_count": 62,
     "metadata": {},
     "output_type": "execute_result"
    }
   ],
   "source": [
    "min_list(l)"
   ]
  },
  {
   "cell_type": "code",
   "execution_count": 63,
   "id": "0e3ebd06-3b53-4c44-b7df-ccc0e174834a",
   "metadata": {
    "tags": []
   },
   "outputs": [],
   "source": [
    "div = lambda a,b : a/b"
   ]
  },
  {
   "cell_type": "code",
   "execution_count": 64,
   "id": "e7a86a6a-0028-4150-9394-d126a1ec4309",
   "metadata": {
    "tags": []
   },
   "outputs": [
    {
     "data": {
      "text/plain": [
       "0.6666666666666666"
      ]
     },
     "execution_count": 64,
     "metadata": {},
     "output_type": "execute_result"
    }
   ],
   "source": [
    "div(4,6)"
   ]
  },
  {
   "cell_type": "code",
   "execution_count": 65,
   "id": "7e228917-6baa-43e4-9e48-6fdcafe9e55c",
   "metadata": {
    "tags": []
   },
   "outputs": [],
   "source": [
    "upper_case = lambda string : string.upper()"
   ]
  },
  {
   "cell_type": "code",
   "execution_count": 66,
   "id": "75fb5ba6-f509-4451-88af-278fe9e48ade",
   "metadata": {
    "tags": []
   },
   "outputs": [
    {
     "data": {
      "text/plain": [
       "'HELLO,WORLD!'"
      ]
     },
     "execution_count": 66,
     "metadata": {},
     "output_type": "execute_result"
    }
   ],
   "source": [
    "upper_case('hello,world!')"
   ]
  },
  {
   "cell_type": "code",
   "execution_count": 67,
   "id": "88158829-3eee-44a1-b2a1-fa15d01fe23b",
   "metadata": {
    "tags": []
   },
   "outputs": [],
   "source": [
    "l = [3,4,5,6,7,2,3,34,5,56]\n",
    "def sum_odd(li):\n",
    "    l1 = []\n",
    "    for i in li:\n",
    "        if i % 2 != 0:\n",
    "            l1.append(i)\n",
    "    return sum(l1)"
   ]
  },
  {
   "cell_type": "code",
   "execution_count": 68,
   "id": "d3eb1356-82dc-44ea-b0a2-c86dc0d553cd",
   "metadata": {
    "tags": []
   },
   "outputs": [
    {
     "data": {
      "text/plain": [
       "23"
      ]
     },
     "execution_count": 68,
     "metadata": {},
     "output_type": "execute_result"
    }
   ],
   "source": [
    "sum_odd(l)"
   ]
  },
  {
   "cell_type": "code",
   "execution_count": 69,
   "id": "e8eb82f5-24d1-43ad-8844-554db65c4609",
   "metadata": {
    "tags": []
   },
   "outputs": [
    {
     "data": {
      "text/plain": [
       "23"
      ]
     },
     "execution_count": 69,
     "metadata": {},
     "output_type": "execute_result"
    }
   ],
   "source": [
    "sum([i for i in l if i % 2 != 0]) # list comprehension"
   ]
  },
  {
   "cell_type": "code",
   "execution_count": 70,
   "id": "d9c7fe77-08c7-4ada-9e33-bed70d2f7d36",
   "metadata": {
    "tags": []
   },
   "outputs": [],
   "source": [
    "sum_off_lambda = lambda b : sum([i for i in b if i % 2 != 0])"
   ]
  },
  {
   "cell_type": "code",
   "execution_count": 71,
   "id": "56112183-2246-4e2a-8584-61610d0f3da0",
   "metadata": {
    "tags": []
   },
   "outputs": [
    {
     "data": {
      "text/plain": [
       "23"
      ]
     },
     "execution_count": 71,
     "metadata": {},
     "output_type": "execute_result"
    }
   ],
   "source": [
    "sum_off_lambda(l)"
   ]
  },
  {
   "cell_type": "code",
   "execution_count": 72,
   "id": "5dc34df4-5762-4c3f-a3f6-bb334c858759",
   "metadata": {
    "tags": []
   },
   "outputs": [],
   "source": [
    "def factorial_number(n):\n",
    "    if n == 0: return 1\n",
    "    else: return n * factorial_number(n-1)"
   ]
  },
  {
   "cell_type": "code",
   "execution_count": 73,
   "id": "c854ad15-4aae-422a-bf38-1933e0998afd",
   "metadata": {
    "tags": []
   },
   "outputs": [
    {
     "data": {
      "text/plain": [
       "120"
      ]
     },
     "execution_count": 73,
     "metadata": {},
     "output_type": "execute_result"
    }
   ],
   "source": [
    "factorial_number(5)"
   ]
  },
  {
   "cell_type": "code",
   "execution_count": 74,
   "id": "6362e54f-76df-456f-94c5-9e5d3dbb23da",
   "metadata": {
    "tags": []
   },
   "outputs": [],
   "source": [
    "factorial = lambda n : 1 if n == 0 else n * factorial (n - 1)"
   ]
  },
  {
   "cell_type": "code",
   "execution_count": 75,
   "id": "1c776387-8326-41f1-9b8a-8b5ba9a377c8",
   "metadata": {
    "tags": []
   },
   "outputs": [
    {
     "data": {
      "text/plain": [
       "120"
      ]
     },
     "execution_count": 75,
     "metadata": {},
     "output_type": "execute_result"
    }
   ],
   "source": [
    "factorial(5)"
   ]
  },
  {
   "cell_type": "code",
   "execution_count": 76,
   "id": "34e08c69-3cbf-441b-a730-902f950f1d39",
   "metadata": {
    "tags": []
   },
   "outputs": [],
   "source": [
    "def factorial_num(n):\n",
    "    a = 1\n",
    "    for i in range(1, n+1):\n",
    "        a = i * a\n",
    "    return a"
   ]
  },
  {
   "cell_type": "code",
   "execution_count": 77,
   "id": "dd0d3856-b3f4-4406-b835-43a08f03a08b",
   "metadata": {
    "tags": []
   },
   "outputs": [
    {
     "data": {
      "text/plain": [
       "120"
      ]
     },
     "execution_count": 77,
     "metadata": {},
     "output_type": "execute_result"
    }
   ],
   "source": [
    "factorial_num(5)"
   ]
  },
  {
   "cell_type": "code",
   "execution_count": 78,
   "id": "33d1565d-1c2a-4c2f-84c2-12f3256f9261",
   "metadata": {
    "tags": []
   },
   "outputs": [],
   "source": [
    "l = [5,6,7,8,89]\n",
    "mul_by_2 = [i * 2 for i in l]"
   ]
  },
  {
   "cell_type": "code",
   "execution_count": 79,
   "id": "f097aab5-c0c2-44eb-ba9a-eb40e7c3ce71",
   "metadata": {
    "tags": []
   },
   "outputs": [
    {
     "data": {
      "text/plain": [
       "[10, 12, 14, 16, 178]"
      ]
     },
     "execution_count": 79,
     "metadata": {},
     "output_type": "execute_result"
    }
   ],
   "source": [
    "mul_by_2"
   ]
  },
  {
   "cell_type": "code",
   "execution_count": 80,
   "id": "f8d484d0-e1e1-48d6-9c90-bbc4c1c858ee",
   "metadata": {
    "tags": []
   },
   "outputs": [],
   "source": [
    "mul_by_2 = lambda li : [i * 2 for i in li]"
   ]
  },
  {
   "cell_type": "code",
   "execution_count": 81,
   "id": "317fc199-e6b2-4607-a10a-5f4d0a62ed97",
   "metadata": {
    "tags": []
   },
   "outputs": [
    {
     "data": {
      "text/plain": [
       "[4, 6, 8, 10, 12, 14, 16, 18, 20]"
      ]
     },
     "execution_count": 81,
     "metadata": {},
     "output_type": "execute_result"
    }
   ],
   "source": [
    "mul_by_2([2,3,4,5,6,7,8,9,10])"
   ]
  },
  {
   "cell_type": "code",
   "execution_count": 82,
   "id": "53329c06-05f7-4ea5-9d1d-6d2d6de01d9d",
   "metadata": {
    "tags": []
   },
   "outputs": [],
   "source": [
    "v = map(lambda a: a + 2,l)"
   ]
  },
  {
   "cell_type": "code",
   "execution_count": 83,
   "id": "81dbb0dd-2dd7-4215-b22f-66d7d5a4a7ab",
   "metadata": {
    "tags": []
   },
   "outputs": [
    {
     "data": {
      "text/plain": [
       "[7, 8, 9, 10, 91]"
      ]
     },
     "execution_count": 83,
     "metadata": {},
     "output_type": "execute_result"
    }
   ],
   "source": [
    "list(v)"
   ]
  },
  {
   "cell_type": "code",
   "execution_count": 84,
   "id": "7f2664be-8723-4349-aecd-2e956bc700d3",
   "metadata": {
    "tags": []
   },
   "outputs": [],
   "source": [
    "l = ['sudh', 'kumar', 'pwskills']"
   ]
  },
  {
   "cell_type": "code",
   "execution_count": 85,
   "id": "121731a9-b1fd-4bdc-9b3e-ef5f14ab50d5",
   "metadata": {
    "tags": []
   },
   "outputs": [
    {
     "data": {
      "text/plain": [
       "['sudh', 'kumar', 'pwskills']"
      ]
     },
     "execution_count": 85,
     "metadata": {},
     "output_type": "execute_result"
    }
   ],
   "source": [
    "l"
   ]
  },
  {
   "cell_type": "code",
   "execution_count": 86,
   "id": "cd067a32-4955-480f-9bfa-cfe1d5e420fd",
   "metadata": {
    "tags": []
   },
   "outputs": [],
   "source": [
    "l1 = []\n",
    "for i in l:\n",
    "    l1.append(len(i))"
   ]
  },
  {
   "cell_type": "code",
   "execution_count": 87,
   "id": "96512b43-6cef-4604-96eb-ca3137e3e2ac",
   "metadata": {
    "tags": []
   },
   "outputs": [
    {
     "data": {
      "text/plain": [
       "[4, 5, 8]"
      ]
     },
     "execution_count": 87,
     "metadata": {},
     "output_type": "execute_result"
    }
   ],
   "source": [
    "l1"
   ]
  },
  {
   "cell_type": "code",
   "execution_count": 88,
   "id": "561f2e9b-48e7-4c5a-852f-796def266799",
   "metadata": {
    "tags": []
   },
   "outputs": [],
   "source": [
    "def test35(li : list):\n",
    "    l1 = []\n",
    "    for i in li:\n",
    "        l1.append(len(i))\n",
    "        \n",
    "    return l1"
   ]
  },
  {
   "cell_type": "code",
   "execution_count": 89,
   "id": "b2dfba77-a6d5-40ab-bd7e-b960383a8886",
   "metadata": {
    "tags": []
   },
   "outputs": [
    {
     "data": {
      "text/plain": [
       "[2, 7, 7]"
      ]
     },
     "execution_count": 89,
     "metadata": {},
     "output_type": "execute_result"
    }
   ],
   "source": [
    "test35(['hi','friends','welcome'])"
   ]
  },
  {
   "cell_type": "code",
   "execution_count": 90,
   "id": "2d0255f6-7674-4ce6-bfb5-49cb4399432c",
   "metadata": {
    "tags": []
   },
   "outputs": [
    {
     "data": {
      "text/plain": [
       "[4, 5, 8]"
      ]
     },
     "execution_count": 90,
     "metadata": {},
     "output_type": "execute_result"
    }
   ],
   "source": [
    "list(map(lambda c : len(c), l))"
   ]
  },
  {
   "cell_type": "code",
   "execution_count": 91,
   "id": "62012b34-096e-4abc-8823-8c3edf88b099",
   "metadata": {
    "tags": []
   },
   "outputs": [
    {
     "data": {
      "text/plain": [
       "['hdus', 'ramuk', 'sllikswp']"
      ]
     },
     "execution_count": 91,
     "metadata": {},
     "output_type": "execute_result"
    }
   ],
   "source": [
    "# Write a mapper to reverse all elements in list\n",
    "def reverse(c):\n",
    "    return c[::-1]\n",
    "list(map(reverse, l))"
   ]
  },
  {
   "cell_type": "code",
   "execution_count": 92,
   "id": "d9fa2751-b36b-474f-9bbd-06b7e7c1bfb8",
   "metadata": {
    "tags": []
   },
   "outputs": [],
   "source": [
    "l = [2, 3, 4, 5, 6, 6]\n",
    "\n",
    "# importing reduce function from functool package\n",
    "from functools import reduce"
   ]
  },
  {
   "cell_type": "code",
   "execution_count": 93,
   "id": "5adb6a6e-254f-4ee3-a681-06419b5d54d8",
   "metadata": {
    "tags": []
   },
   "outputs": [
    {
     "data": {
      "text/plain": [
       "4320"
      ]
     },
     "execution_count": 93,
     "metadata": {},
     "output_type": "execute_result"
    }
   ],
   "source": [
    "reduce(lambda a,b : a*b , l)"
   ]
  },
  {
   "cell_type": "code",
   "execution_count": 94,
   "id": "63d212b4-64fd-40f0-a927-8d99a5444527",
   "metadata": {},
   "outputs": [
    {
     "data": {
      "text/plain": [
       "26"
      ]
     },
     "execution_count": 94,
     "metadata": {},
     "output_type": "execute_result"
    }
   ],
   "source": [
    "# doing the sum of all the items in the list with the help of reduce function\n",
    "reduce(lambda a,b : a+b, l)"
   ]
  },
  {
   "cell_type": "code",
   "execution_count": 95,
   "id": "d631cdb3-094e-4182-8c12-4216002146cf",
   "metadata": {
    "tags": []
   },
   "outputs": [
    {
     "data": {
      "text/plain": [
       "[2, 3, 4, 5, 6, 6]"
      ]
     },
     "execution_count": 95,
     "metadata": {},
     "output_type": "execute_result"
    }
   ],
   "source": [
    "l"
   ]
  },
  {
   "cell_type": "code",
   "execution_count": 96,
   "id": "0289ac7e-d57e-4faf-9bbe-476ffb5dab5c",
   "metadata": {
    "tags": []
   },
   "outputs": [
    {
     "data": {
      "text/plain": [
       "6"
      ]
     },
     "execution_count": 96,
     "metadata": {},
     "output_type": "execute_result"
    }
   ],
   "source": [
    "# find out the maximum element in the list without using built in function\n",
    "\n",
    "reduce(lambda a, b : a if a > b else b, l)"
   ]
  },
  {
   "cell_type": "code",
   "execution_count": 97,
   "id": "f980e904-f5f5-4814-9cd8-3d953d7edfa4",
   "metadata": {
    "tags": []
   },
   "outputs": [
    {
     "data": {
      "text/plain": [
       "2"
      ]
     },
     "execution_count": 97,
     "metadata": {},
     "output_type": "execute_result"
    }
   ],
   "source": [
    "# find out the minimum element in the list without using the built in function\n",
    "\n",
    "reduce(lambda a, b : a if a < b else b, l)"
   ]
  },
  {
   "cell_type": "code",
   "execution_count": 98,
   "id": "ae71ed65-43fd-4971-90e6-3150c6e35b1c",
   "metadata": {
    "tags": []
   },
   "outputs": [],
   "source": [
    "def factorial(n):\n",
    "    if n == 0:\n",
    "        return 1\n",
    "    else:\n",
    "        return n * factorial(n - 1)"
   ]
  },
  {
   "cell_type": "code",
   "execution_count": 99,
   "id": "2e28f23f-e381-4e1f-818a-8fd8aa493e04",
   "metadata": {
    "tags": []
   },
   "outputs": [
    {
     "data": {
      "text/plain": [
       "120"
      ]
     },
     "execution_count": 99,
     "metadata": {},
     "output_type": "execute_result"
    }
   ],
   "source": [
    "factorial(5)"
   ]
  },
  {
   "cell_type": "code",
   "execution_count": 100,
   "id": "3e76621a-2cf7-4137-9143-00c8ddebc2c4",
   "metadata": {
    "tags": []
   },
   "outputs": [
    {
     "data": {
      "text/plain": [
       "24"
      ]
     },
     "execution_count": 100,
     "metadata": {},
     "output_type": "execute_result"
    }
   ],
   "source": [
    "# to find factorial of a number using reduce function\n",
    "n = 4\n",
    "reduce(lambda a, b : a * b, range(1, n + 1))"
   ]
  },
  {
   "cell_type": "code",
   "execution_count": 101,
   "id": "79368707-a07e-4651-8fb2-2a4a8111ca48",
   "metadata": {
    "tags": []
   },
   "outputs": [
    {
     "data": {
      "text/plain": [
       "[2, 3, 4, 5, 6, 6]"
      ]
     },
     "execution_count": 101,
     "metadata": {},
     "output_type": "execute_result"
    }
   ],
   "source": [
    "l"
   ]
  },
  {
   "cell_type": "code",
   "execution_count": 102,
   "id": "f925bee3-e4b4-44be-a5a5-2fa6b0088b34",
   "metadata": {
    "tags": []
   },
   "outputs": [
    {
     "data": {
      "text/plain": [
       "288"
      ]
     },
     "execution_count": 102,
     "metadata": {},
     "output_type": "execute_result"
    }
   ],
   "source": [
    "# to find product of all the even numbers in the list by using reduce function\n",
    "\n",
    "# TODO : use list comprehension\n",
    "\n",
    "reduce(lambda a, b: a * b, [i for i in l if i % 2 == 0])"
   ]
  },
  {
   "cell_type": "code",
   "execution_count": 103,
   "id": "3a1f71c3-c633-4164-baa2-05c39965d68e",
   "metadata": {
    "tags": []
   },
   "outputs": [],
   "source": [
    "l = [3, 4, 5, 6, 76, 3, 32, 2, 4, 5, 5, 5]"
   ]
  },
  {
   "cell_type": "code",
   "execution_count": 104,
   "id": "cc48da6d-090c-4b10-92df-e03d722eb6ac",
   "metadata": {
    "tags": []
   },
   "outputs": [
    {
     "data": {
      "text/plain": [
       "[4, 6, 76, 32, 2, 4]"
      ]
     },
     "execution_count": 104,
     "metadata": {},
     "output_type": "execute_result"
    }
   ],
   "source": [
    "list(filter(lambda a : a % 2 == 0, l))"
   ]
  },
  {
   "cell_type": "code",
   "execution_count": 105,
   "id": "7fe1ba4e-438f-4215-9342-c20564a04746",
   "metadata": {
    "tags": []
   },
   "outputs": [
    {
     "name": "stdout",
     "output_type": "stream",
     "text": [
      "w k i l l s "
     ]
    }
   ],
   "source": [
    "s = \"Pw Skills\"\n",
    "\n",
    "# TODO: filter those data which is available in lower case\n",
    "for i in s:\n",
    "    if i.islower() == True:\n",
    "        print(i, end = ' ')"
   ]
  },
  {
   "cell_type": "code",
   "execution_count": 106,
   "id": "8a5e89f9-f4f0-4851-9886-a7e36d2c093d",
   "metadata": {
    "tags": []
   },
   "outputs": [
    {
     "data": {
      "text/plain": [
       "['pw', 'sudh']"
      ]
     },
     "execution_count": 106,
     "metadata": {},
     "output_type": "execute_result"
    }
   ],
   "source": [
    "l = ['pw', 'pwskills', 'sudh', 'krish']\n",
    "\n",
    "# TODO: filter those records where length < 4\n",
    "list(filter(lambda a : len(a) <= 4, l))"
   ]
  },
  {
   "cell_type": "code",
   "execution_count": 107,
   "id": "0bbe2b63-7ff0-4de8-80c9-c1fb62b2cb6b",
   "metadata": {
    "tags": []
   },
   "outputs": [
    {
     "data": {
      "text/plain": [
       "['pw', 'pwskills']"
      ]
     },
     "execution_count": 107,
     "metadata": {},
     "output_type": "execute_result"
    }
   ],
   "source": [
    "# TODO : filter those records where first character starts with p\n",
    "list(filter(lambda a : a[0] == 'p', l))"
   ]
  },
  {
   "cell_type": "code",
   "execution_count": 108,
   "id": "ae9a4617-10d2-4f65-9ed1-33a7e5693b46",
   "metadata": {
    "tags": []
   },
   "outputs": [],
   "source": [
    "# Fibonacci series\n",
    "def generate_fibonacci(n):\n",
    "    '''\n",
    "    fibonacci series : 1 1 2 3 5 8 13 ... etc \n",
    "    Fibonacci sequence is a sequence in which each number is the sum of the two preceding ones.\n",
    "    \n",
    "    generates n sequence of fibonacci sequence\n",
    "    '''\n",
    "    if n <= 1:\n",
    "        return n\n",
    "    else:\n",
    "        return generate_fibonacci(n - 1) + generate_fibonacci(n - 2)"
   ]
  },
  {
   "cell_type": "code",
   "execution_count": 109,
   "id": "8907a9fb-3d87-4a18-89b6-af642bcd1374",
   "metadata": {
    "tags": []
   },
   "outputs": [
    {
     "data": {
      "text/plain": [
       "5"
      ]
     },
     "execution_count": 109,
     "metadata": {},
     "output_type": "execute_result"
    }
   ],
   "source": [
    "generate_fibonacci(5)"
   ]
  },
  {
   "cell_type": "code",
   "execution_count": 110,
   "id": "2b70d3e0-efd5-4315-9e70-2e2161a0b72f",
   "metadata": {
    "tags": []
   },
   "outputs": [
    {
     "data": {
      "text/plain": [
       "2"
      ]
     },
     "execution_count": 110,
     "metadata": {},
     "output_type": "execute_result"
    }
   ],
   "source": [
    "generate_fibonacci(3)"
   ]
  },
  {
   "cell_type": "code",
   "execution_count": 116,
   "id": "a0cd839d-b42d-4234-b532-2e7aed065341",
   "metadata": {
    "tags": []
   },
   "outputs": [],
   "source": [
    "def sum_till_n(n):\n",
    "    if n <= 1:\n",
    "        return n\n",
    "    else:\n",
    "        return n + sum_till_n(n - 1)"
   ]
  },
  {
   "cell_type": "code",
   "execution_count": 117,
   "id": "39b83a4e-fb81-4f4a-a724-494d90d28eba",
   "metadata": {
    "tags": []
   },
   "outputs": [
    {
     "data": {
      "text/plain": [
       "15"
      ]
     },
     "execution_count": 117,
     "metadata": {},
     "output_type": "execute_result"
    }
   ],
   "source": [
    "sum_till_n(5)"
   ]
  },
  {
   "cell_type": "code",
   "execution_count": null,
   "id": "a11dbeba-2926-4feb-bb1c-dc4d9cd3dff3",
   "metadata": {},
   "outputs": [],
   "source": []
  },
  {
   "cell_type": "code",
   "execution_count": null,
   "id": "d321e5d3-7e44-47c2-90a7-5b9b53a8c69f",
   "metadata": {},
   "outputs": [],
   "source": []
  },
  {
   "cell_type": "code",
   "execution_count": null,
   "id": "891033a1-d772-45d4-9b91-d751e846d27b",
   "metadata": {},
   "outputs": [],
   "source": []
  },
  {
   "cell_type": "code",
   "execution_count": null,
   "id": "b46ff992-a818-49a0-8ca0-9d11bfd0912b",
   "metadata": {},
   "outputs": [],
   "source": []
  },
  {
   "cell_type": "code",
   "execution_count": null,
   "id": "a1ff651c-d780-49ed-b292-f802f72bf8d5",
   "metadata": {},
   "outputs": [],
   "source": []
  },
  {
   "cell_type": "code",
   "execution_count": null,
   "id": "52075863-ae7c-44b6-a807-2a11ef2ec822",
   "metadata": {},
   "outputs": [],
   "source": []
  },
  {
   "cell_type": "code",
   "execution_count": null,
   "id": "9ebf5117-e1b4-4108-be82-16e305568f56",
   "metadata": {},
   "outputs": [],
   "source": []
  },
  {
   "cell_type": "code",
   "execution_count": null,
   "id": "b138a9bb-2d84-4783-8fb1-30baab2d8031",
   "metadata": {},
   "outputs": [],
   "source": []
  },
  {
   "cell_type": "code",
   "execution_count": null,
   "id": "edb5fba8-25ce-4837-addc-520a3023dd45",
   "metadata": {},
   "outputs": [],
   "source": []
  }
 ],
 "metadata": {
  "kernelspec": {
   "display_name": "Python 3 (ipykernel)",
   "language": "python",
   "name": "python3"
  },
  "language_info": {
   "codemirror_mode": {
    "name": "ipython",
    "version": 3
   },
   "file_extension": ".py",
   "mimetype": "text/x-python",
   "name": "python",
   "nbconvert_exporter": "python",
   "pygments_lexer": "ipython3",
   "version": "3.11.5"
  }
 },
 "nbformat": 4,
 "nbformat_minor": 5
}
