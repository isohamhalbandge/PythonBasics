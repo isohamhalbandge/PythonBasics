{
 "cells": [
  {
   "cell_type": "code",
   "execution_count": 1,
   "id": "1e3a9a4a-498e-4ee2-8440-83086eff6d52",
   "metadata": {
    "tags": []
   },
   "outputs": [],
   "source": [
    "# Infinite loop\n",
    "\n",
    "# while True:\n",
    "#     print(\"this is my first while loop\")"
   ]
  },
  {
   "cell_type": "code",
   "execution_count": 2,
   "id": "c274ca26-a4a7-45ae-a2a8-ad93c5d71a6b",
   "metadata": {
    "tags": []
   },
   "outputs": [
    {
     "name": "stdout",
     "output_type": "stream",
     "text": [
      "10\n",
      "9\n",
      "8\n",
      "7\n",
      "6\n",
      "5\n",
      "4\n",
      "3\n",
      "2\n",
      "1\n"
     ]
    }
   ],
   "source": [
    "# TODO : Print 100 to 1\n",
    "n = 10\n",
    "while n >= 1:\n",
    "    print(n)\n",
    "    n = n - 1"
   ]
  },
  {
   "cell_type": "code",
   "execution_count": 3,
   "id": "0503d06d-ff01-4f8f-a29f-a33690142964",
   "metadata": {
    "tags": []
   },
   "outputs": [
    {
     "name": "stdout",
     "output_type": "stream",
     "text": [
      "Sum =  55\n"
     ]
    }
   ],
   "source": [
    "# TODO : Sum of first 10 numbers\n",
    "n = 1\n",
    "sum = 0\n",
    "while n < 11:\n",
    "    sum = sum + n\n",
    "    n += 1\n",
    "\n",
    "print(\"Sum = \", sum)"
   ]
  },
  {
   "cell_type": "code",
   "execution_count": 4,
   "id": "dcc909c1-2e0a-433e-8f78-4a2225be30a8",
   "metadata": {
    "tags": []
   },
   "outputs": [
    {
     "name": "stdout",
     "output_type": "stream",
     "text": [
      "product =  120\n"
     ]
    }
   ],
   "source": [
    "# TODO : Multiplication of first 5 numbers\n",
    "\n",
    "n = 1\n",
    "end = 6\n",
    "product = 1\n",
    "while n < end:\n",
    "    product = product * n\n",
    "    n += 1\n",
    "    \n",
    "print(\"product = \", product)"
   ]
  },
  {
   "cell_type": "code",
   "execution_count": 5,
   "id": "8fa5d591-9d6f-4278-b683-b05d129db8cc",
   "metadata": {
    "tags": []
   },
   "outputs": [
    {
     "name": "stdin",
     "output_type": "stream",
     "text": [
      "Enter a number for which you are looking for multiplication table 14\n"
     ]
    },
    {
     "name": "stdout",
     "output_type": "stream",
     "text": [
      "14 * 1 =  14\n",
      "14 * 2 =  28\n",
      "14 * 3 =  42\n",
      "14 * 4 =  56\n",
      "14 * 5 =  70\n",
      "14 * 6 =  84\n",
      "14 * 7 =  98\n",
      "14 * 8 =  112\n",
      "14 * 9 =  126\n",
      "14 * 10 =  140\n"
     ]
    }
   ],
   "source": [
    "# TODO : Generate multiplication table\n",
    "\n",
    "n = int(input(\"Enter a number for which you are looking for multiplication table\"))\n",
    "i = 1\n",
    "product = 1\n",
    "while i <= 10:\n",
    "    product = n * i\n",
    "    print(f\"{n} * {i} = \", product)\n",
    "    i += 1"
   ]
  },
  {
   "cell_type": "code",
   "execution_count": 6,
   "id": "cfb4a72b-3c4c-405a-aa82-3aec2ab756cd",
   "metadata": {
    "tags": []
   },
   "outputs": [
    {
     "name": "stdout",
     "output_type": "stream",
     "text": [
      "5\n",
      "4\n",
      "3\n",
      "2\n",
      "1\n",
      "Break time is over\n"
     ]
    }
   ],
   "source": [
    "# Creating counter\n",
    "\n",
    "# Importing time \n",
    "import time\n",
    "s = 5\n",
    "while s > 0:\n",
    "    print(s)\n",
    "    time.sleep(1) # creating delay for 1 sec\n",
    "    s = s - 1\n",
    "print(\"Break time is over\")"
   ]
  },
  {
   "cell_type": "code",
   "execution_count": 7,
   "id": "82362b95-80ef-4108-9adb-6ab6737e3660",
   "metadata": {
    "tags": []
   },
   "outputs": [
    {
     "name": "stdout",
     "output_type": "stream",
     "text": [
      "20\n"
     ]
    },
    {
     "name": "stdin",
     "output_type": "stream",
     "text": [
      "Enter your choice (1. Biscuit     2. Chips     3. Redbull    4. Coke) 3\n"
     ]
    },
    {
     "name": "stdout",
     "output_type": "stream",
     "text": [
      "Take you redbull \n",
      "\n",
      "10\n"
     ]
    },
    {
     "name": "stdin",
     "output_type": "stream",
     "text": [
      "Enter your choice (1. Biscuit     2. Chips     3. Redbull    4. Coke) 3\n"
     ]
    },
    {
     "name": "stdout",
     "output_type": "stream",
     "text": [
      "Take you redbull \n",
      "\n",
      "You dont have enough balance in the wallet\n"
     ]
    }
   ],
   "source": [
    "### TODO: Creating vending machine\n",
    "\n",
    "money_in_hand = 20\n",
    "minimum_price = 5\n",
    "while money_in_hand >= minimum_price:\n",
    "    print(money_in_hand)\n",
    "    choice = int(input(\"Enter your choice (1. Biscuit     2. Chips     3. Redbull    4. Coke)\"))\n",
    "    if choice == 1:\n",
    "        print(\"Take your biscuit \\n\")\n",
    "        money_in_hand = money_in_hand - 4\n",
    "    elif choice == 2:\n",
    "        print(\"Take your chips \\n\")\n",
    "        money_in_hand = money_in_hand - 5\n",
    "    elif choice == 3:\n",
    "        print(\"Take you redbull \\n\")\n",
    "        money_in_hand = money_in_hand - 10\n",
    "    elif choice == 4:\n",
    "        print(\"Take your coke \\n\")\n",
    "        money_in_hand = money_in_hand - 8\n",
    "    else:\n",
    "        print(\"You have not entered the correct choice \\n\")\n",
    "print(\"You dont have enough balance in the wallet\")"
   ]
  },
  {
   "cell_type": "code",
   "execution_count": 8,
   "id": "d4fda57c-370f-419a-86e5-5179fb844b11",
   "metadata": {
    "tags": []
   },
   "outputs": [
    {
     "name": "stdout",
     "output_type": "stream",
     "text": [
      "Enter s to stop the time\n"
     ]
    },
    {
     "name": "stdin",
     "output_type": "stream",
     "text": [
      "Enter s for stop s\n"
     ]
    },
    {
     "name": "stdout",
     "output_type": "stream",
     "text": [
      "Start the class break is over\n"
     ]
    }
   ],
   "source": [
    "# adding break implementation to the counter\n",
    "\n",
    "import time\n",
    "stop = False\n",
    "sleep = 5\n",
    "while not stop:\n",
    "    print(\"Enter s to stop the time\")\n",
    "    time.sleep(1)\n",
    "    press_stop = input(\"Enter s for stop\")\n",
    "    sleep = sleep - 1\n",
    "\n",
    "    if press_stop.lower() == 's' : stop = True\n",
    "    \n",
    "print(\"Start the class break is over\")"
   ]
  },
  {
   "cell_type": "code",
   "execution_count": 16,
   "id": "2f26772c-d2e4-4ce7-870e-b8be2744372c",
   "metadata": {
    "tags": []
   },
   "outputs": [
    {
     "name": "stdin",
     "output_type": "stream",
     "text": [
      "Enter your username :  1\n",
      "Enter your username :  1\n",
      "Enter your username :  sudh\n",
      "Enter your password :  ll\n",
      "Enter your password :  l\n",
      "Enter your password :  sudh@123\n"
     ]
    },
    {
     "name": "stdout",
     "output_type": "stream",
     "text": [
      "You have logged in successfully\n"
     ]
    }
   ],
   "source": [
    "# TODO : Freeze if user enter wrong input for more than 3 times\n",
    "\n",
    "user_name = 'sudh'\n",
    "pass_word = 'sudh@123'\n",
    "user_counter = 0\n",
    "pass_counter = 0\n",
    "inner_flag = False\n",
    "outer_flag = False\n",
    "\n",
    "while not outer_flag:\n",
    "    if input(\"Enter your username : \") == user_name: \n",
    "        while not inner_flag:\n",
    "            if input(\"Enter your password : \") == pass_word:\n",
    "                print(\"You have logged in successfully\")\n",
    "                outer_flag = True\n",
    "                break\n",
    "            else:\n",
    "                pass_counter += 1\n",
    "                if pass_counter != 3: continue \n",
    "                else:\n",
    "                    print(\"You have been blocked! Wait for 30 seconds\")\n",
    "                    break\n",
    "    else:\n",
    "        user_counter += 1\n",
    "        if user_counter != 3: continue\n",
    "        else:\n",
    "            print(\"You have been blocked! Wait for 30 seconds\")\n",
    "            break"
   ]
  },
  {
   "cell_type": "code",
   "execution_count": 19,
   "id": "784c183d-930f-4ec7-bf0d-d17272ae3ab8",
   "metadata": {
    "tags": []
   },
   "outputs": [
    {
     "name": "stdin",
     "output_type": "stream",
     "text": [
      "Enter your task eat\n",
      "Enter 'n' if you want to add in todo list or enter 'y' if you dont want to add n\n",
      "Enter your task code\n",
      "Enter 'n' if you want to add in todo list or enter 'y' if you dont want to add y\n"
     ]
    },
    {
     "name": "stdout",
     "output_type": "stream",
     "text": [
      "my todo list is  ['eat', 'code']\n"
     ]
    }
   ],
   "source": [
    "# TODO : create todo list\n",
    "todo_list = []\n",
    "end_of_todo = 'n'\n",
    "while end_of_todo != 'y':\n",
    "    todo_item = input(\"Enter your task\")\n",
    "    todo_list.append(todo_item)\n",
    "    end_of_todo = input(\"Enter 'n' if you want to add in todo list or enter 'y' if you dont want to add\")\n",
    "print(\"my todo list is \", todo_list)"
   ]
  },
  {
   "cell_type": "code",
   "execution_count": 30,
   "id": "71ff4c46-979f-4629-b97d-435bc15d344a",
   "metadata": {
    "tags": []
   },
   "outputs": [],
   "source": [
    "# factorial -> recursive call\n",
    "\n",
    "def factorial(n):\n",
    "    if n == 1: return 1\n",
    "    else:\n",
    "        return n * factorial(n - 1)"
   ]
  },
  {
   "cell_type": "code",
   "execution_count": 31,
   "id": "9069f6fc-f4f8-4212-9ab0-ee205ba41a82",
   "metadata": {
    "tags": []
   },
   "outputs": [
    {
     "data": {
      "text/plain": [
       "120"
      ]
     },
     "execution_count": 31,
     "metadata": {},
     "output_type": "execute_result"
    }
   ],
   "source": [
    "factorial(5)"
   ]
  },
  {
   "cell_type": "code",
   "execution_count": null,
   "id": "cbac0c70-86e8-4504-8478-c5280fe82eae",
   "metadata": {},
   "outputs": [],
   "source": []
  }
 ],
 "metadata": {
  "kernelspec": {
   "display_name": "Python 3 (ipykernel)",
   "language": "python",
   "name": "python3"
  },
  "language_info": {
   "codemirror_mode": {
    "name": "ipython",
    "version": 3
   },
   "file_extension": ".py",
   "mimetype": "text/x-python",
   "name": "python",
   "nbconvert_exporter": "python",
   "pygments_lexer": "ipython3",
   "version": "3.11.5"
  }
 },
 "nbformat": 4,
 "nbformat_minor": 5
}
