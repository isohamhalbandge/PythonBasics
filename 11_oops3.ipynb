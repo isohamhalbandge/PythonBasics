{
 "cells": [
  {
   "cell_type": "code",
   "execution_count": 1,
   "id": "17df4b01-bf4b-45dc-a536-43e3d44b5cf5",
   "metadata": {},
   "outputs": [],
   "source": [
    "class Pwskills:\n",
    "    def __init__(self, mentor):\n",
    "        self.mentor = mentor\n",
    "\n",
    "    def mentor_name(self):\n",
    "        print(self.mentor)\n",
    "\n",
    "class DataScience(Pwskills):\n",
    "    def __init__(self, mentor, mentor_mail_id):\n",
    "        self.mentor = mentor\n",
    "        self.mentor_mail_id = mentor_mail_id\n",
    "\n",
    "    def show_info(self):\n",
    "        print(self.mentor, self.mentor_mail_id)"
   ]
  },
  {
   "cell_type": "code",
   "execution_count": 2,
   "id": "e6ca280d-e19c-4911-b312-560845426b75",
   "metadata": {},
   "outputs": [],
   "source": [
    "python_basic = DataScience('sudh', 'sudh123@mail.com')"
   ]
  },
  {
   "cell_type": "code",
   "execution_count": 3,
   "id": "969a8803-458c-4dc9-95d3-40968c2dc0f3",
   "metadata": {},
   "outputs": [
    {
     "name": "stdout",
     "output_type": "stream",
     "text": [
      "sudh sudh123@mail.com\n"
     ]
    }
   ],
   "source": [
    "python_basic.show_info()"
   ]
  },
  {
   "cell_type": "code",
   "execution_count": 4,
   "id": "1978966e-b6fe-4f6d-9414-bf086e4713d8",
   "metadata": {},
   "outputs": [
    {
     "name": "stdout",
     "output_type": "stream",
     "text": [
      "sudh\n"
     ]
    }
   ],
   "source": [
    "python_basic.mentor_name()"
   ]
  },
  {
   "cell_type": "code",
   "execution_count": 5,
   "id": "8d8cb83f-33b3-496c-8ff9-69b46071fa2a",
   "metadata": {},
   "outputs": [],
   "source": [
    "class Pwskills:\n",
    "    def __init__(self, mentor):\n",
    "        self.mentor = mentor\n",
    "\n",
    "    def mentor_name(self):\n",
    "        print(self.mentor)\n",
    "\n",
    "class DataScience(Pwskills):\n",
    "    def __init__(self, mentor, mentor_mail_id):\n",
    "        super().__init__(mentor)\n",
    "        # self.mentor = mentor\n",
    "        self.mentor_mail_id = mentor_mail_id\n",
    "\n",
    "    def show_info(self):\n",
    "        print(self.mentor, self.mentor_mail_id)"
   ]
  },
  {
   "cell_type": "code",
   "execution_count": 6,
   "id": "490406cd-03eb-4de2-a67c-4de9823d6894",
   "metadata": {},
   "outputs": [],
   "source": [
    "python_basic = DataScience('sudh', 'sudh123@mail.com')"
   ]
  },
  {
   "cell_type": "code",
   "execution_count": 7,
   "id": "938d633d-49d5-4d6b-b3c3-4fdd1a533611",
   "metadata": {},
   "outputs": [
    {
     "name": "stdout",
     "output_type": "stream",
     "text": [
      "sudh sudh123@mail.com\n"
     ]
    }
   ],
   "source": [
    "python_basic.show_info()"
   ]
  },
  {
   "cell_type": "code",
   "execution_count": 8,
   "id": "43dee41a-01d3-41da-a59b-e0509ef5ce61",
   "metadata": {},
   "outputs": [
    {
     "name": "stdout",
     "output_type": "stream",
     "text": [
      "sudh\n"
     ]
    }
   ],
   "source": [
    "python_basic.mentor_name()"
   ]
  },
  {
   "cell_type": "code",
   "execution_count": null,
   "id": "c41b37fe-a7f2-4a7e-9c76-734eef962c58",
   "metadata": {},
   "outputs": [],
   "source": []
  }
 ],
 "metadata": {
  "kernelspec": {
   "display_name": "Python 3 (ipykernel)",
   "language": "python",
   "name": "python3"
  },
  "language_info": {
   "codemirror_mode": {
    "name": "ipython",
    "version": 3
   },
   "file_extension": ".py",
   "mimetype": "text/x-python",
   "name": "python",
   "nbconvert_exporter": "python",
   "pygments_lexer": "ipython3",
   "version": "3.8.18"
  }
 },
 "nbformat": 4,
 "nbformat_minor": 5
}
