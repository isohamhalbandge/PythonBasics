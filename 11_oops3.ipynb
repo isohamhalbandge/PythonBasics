{
 "cells": [
  {
   "cell_type": "code",
   "execution_count": 1,
   "id": "17df4b01-bf4b-45dc-a536-43e3d44b5cf5",
   "metadata": {},
   "outputs": [],
   "source": [
    "class Pwskills:\n",
    "    def __init__(self, mentor):\n",
    "        self.mentor = mentor\n",
    "\n",
    "    def mentor_name(self):\n",
    "        print(self.mentor)\n",
    "\n",
    "class DataScience(Pwskills):\n",
    "    def __init__(self, mentor, mentor_mail_id):\n",
    "        self.mentor = mentor\n",
    "        self.mentor_mail_id = mentor_mail_id\n",
    "\n",
    "    def show_info(self):\n",
    "        print(self.mentor, self.mentor_mail_id)"
   ]
  },
  {
   "cell_type": "code",
   "execution_count": 2,
   "id": "e6ca280d-e19c-4911-b312-560845426b75",
   "metadata": {},
   "outputs": [],
   "source": [
    "python_basic = DataScience('sudh', 'sudh123@mail.com')"
   ]
  },
  {
   "cell_type": "code",
   "execution_count": 3,
   "id": "969a8803-458c-4dc9-95d3-40968c2dc0f3",
   "metadata": {},
   "outputs": [
    {
     "name": "stdout",
     "output_type": "stream",
     "text": [
      "sudh sudh123@mail.com\n"
     ]
    }
   ],
   "source": [
    "python_basic.show_info()"
   ]
  },
  {
   "cell_type": "code",
   "execution_count": 4,
   "id": "1978966e-b6fe-4f6d-9414-bf086e4713d8",
   "metadata": {},
   "outputs": [
    {
     "name": "stdout",
     "output_type": "stream",
     "text": [
      "sudh\n"
     ]
    }
   ],
   "source": [
    "python_basic.mentor_name()"
   ]
  },
  {
   "cell_type": "code",
   "execution_count": 5,
   "id": "8d8cb83f-33b3-496c-8ff9-69b46071fa2a",
   "metadata": {},
   "outputs": [],
   "source": [
    "class Pwskills:\n",
    "    def __init__(self, mentor):\n",
    "        self.mentor = mentor\n",
    "\n",
    "    def mentor_name(self):\n",
    "        print(self.mentor)\n",
    "\n",
    "class DataScience(Pwskills):\n",
    "    def __init__(self, mentor, mentor_mail_id):\n",
    "        super().__init__(mentor) # this will call self.mentor from pwskills class so that we dont have to write \n",
    "        # or assign it back again\n",
    "\n",
    "        # self.mentor = mentor\n",
    "        self.mentor_mail_id = mentor_mail_id\n",
    "\n",
    "    def show_info(self):\n",
    "        print(self.mentor, self.mentor_mail_id)"
   ]
  },
  {
   "cell_type": "code",
   "execution_count": 6,
   "id": "490406cd-03eb-4de2-a67c-4de9823d6894",
   "metadata": {},
   "outputs": [],
   "source": [
    "python_basic = DataScience('sudh', 'sudh123@mail.com')"
   ]
  },
  {
   "cell_type": "code",
   "execution_count": 7,
   "id": "938d633d-49d5-4d6b-b3c3-4fdd1a533611",
   "metadata": {},
   "outputs": [
    {
     "name": "stdout",
     "output_type": "stream",
     "text": [
      "sudh sudh123@mail.com\n"
     ]
    }
   ],
   "source": [
    "python_basic.show_info()"
   ]
  },
  {
   "cell_type": "code",
   "execution_count": 8,
   "id": "43dee41a-01d3-41da-a59b-e0509ef5ce61",
   "metadata": {},
   "outputs": [
    {
     "name": "stdout",
     "output_type": "stream",
     "text": [
      "sudh\n"
     ]
    }
   ],
   "source": [
    "python_basic.mentor_name()"
   ]
  },
  {
   "cell_type": "code",
   "execution_count": 1,
   "id": "c41b37fe-a7f2-4a7e-9c76-734eef962c58",
   "metadata": {},
   "outputs": [],
   "source": [
    "class Pwskills:\n",
    "    def __init__(self, mentor):\n",
    "        self.mentor = mentor\n",
    "\n",
    "    def mentor_name(self):\n",
    "        print(self.mentor)\n",
    "\n",
    "class DataScience(Pwskills):\n",
    "    def __init__(self, mentor, mentor_mail_id):\n",
    "        super().__init__(mentor) # this will call self.mentor from pwskills class so that we dont have to write \n",
    "        # or assign it back again\n",
    "\n",
    "        # self.mentor = mentor\n",
    "        self.mentor_mail_id = mentor_mail_id\n",
    "\n",
    "    def show_info(self):\n",
    "        mentor_name()\n",
    "        print(self.mentor, self.mentor_mail_id)"
   ]
  },
  {
   "cell_type": "code",
   "execution_count": 2,
   "id": "962c1d04-100f-4ad5-b446-3fb44c109854",
   "metadata": {},
   "outputs": [],
   "source": [
    "python_basic = DataScience('sudh', 'sudh123@mail.com')"
   ]
  },
  {
   "cell_type": "code",
   "execution_count": 3,
   "id": "15998763-afae-4c72-9f0d-712190bef3c3",
   "metadata": {},
   "outputs": [
    {
     "ename": "NameError",
     "evalue": "name 'mentor_name' is not defined",
     "output_type": "error",
     "traceback": [
      "\u001b[0;31m---------------------------------------------------------------------------\u001b[0m",
      "\u001b[0;31mNameError\u001b[0m                                 Traceback (most recent call last)",
      "Cell \u001b[0;32mIn[3], line 1\u001b[0m\n\u001b[0;32m----> 1\u001b[0m \u001b[43mpython_basic\u001b[49m\u001b[38;5;241;43m.\u001b[39;49m\u001b[43mshow_info\u001b[49m\u001b[43m(\u001b[49m\u001b[43m)\u001b[49m\n",
      "Cell \u001b[0;32mIn[1], line 17\u001b[0m, in \u001b[0;36mDataScience.show_info\u001b[0;34m(self)\u001b[0m\n\u001b[1;32m     16\u001b[0m \u001b[38;5;28;01mdef\u001b[39;00m \u001b[38;5;21mshow_info\u001b[39m(\u001b[38;5;28mself\u001b[39m):\n\u001b[0;32m---> 17\u001b[0m     \u001b[43mmentor_name\u001b[49m()\n\u001b[1;32m     18\u001b[0m     \u001b[38;5;28mprint\u001b[39m(\u001b[38;5;28mself\u001b[39m\u001b[38;5;241m.\u001b[39mmentor, \u001b[38;5;28mself\u001b[39m\u001b[38;5;241m.\u001b[39mmentor_mail_id)\n",
      "\u001b[0;31mNameError\u001b[0m: name 'mentor_name' is not defined"
     ]
    }
   ],
   "source": [
    "python_basic.show_info()"
   ]
  },
  {
   "cell_type": "code",
   "execution_count": 4,
   "id": "a02e5ddd-395e-4ff5-9f14-0f0c730d335c",
   "metadata": {},
   "outputs": [
    {
     "name": "stdout",
     "output_type": "stream",
     "text": [
      "sudh\n"
     ]
    }
   ],
   "source": [
    "python_basic.mentor_name()"
   ]
  },
  {
   "cell_type": "code",
   "execution_count": 5,
   "id": "cc936443-b8f3-4ae9-8437-1c1c14901273",
   "metadata": {},
   "outputs": [],
   "source": [
    "class Pwskills:\n",
    "    def __init__(self, mentor):\n",
    "        self.mentor = mentor\n",
    "\n",
    "    def mentor_name(self):\n",
    "        print(self.mentor)\n",
    "\n",
    "class DataScience(Pwskills):\n",
    "    def __init__(self, mentor, mentor_mail_id):\n",
    "        super().__init__(mentor) # this will call self.mentor from pwskills class so that we dont have to write \n",
    "        # or assign it back again\n",
    "\n",
    "        # self.mentor = mentor\n",
    "        self.mentor_mail_id = mentor_mail_id\n",
    "\n",
    "    def show_info(self):\n",
    "        super().mentor_name()\n",
    "        # even self.mentor_name() will also work\n",
    "        print(self.mentor, self.mentor_mail_id)"
   ]
  },
  {
   "cell_type": "code",
   "execution_count": 6,
   "id": "e2da223c-ae02-48e6-b411-aa31b4275f5c",
   "metadata": {},
   "outputs": [],
   "source": [
    "python_basic = DataScience('sudh', 'sudh123@mail.com')"
   ]
  },
  {
   "cell_type": "code",
   "execution_count": 7,
   "id": "5b24f052-8bf0-4bd5-9eed-df3e5c01e3ec",
   "metadata": {},
   "outputs": [
    {
     "name": "stdout",
     "output_type": "stream",
     "text": [
      "sudh\n",
      "sudh sudh123@mail.com\n"
     ]
    }
   ],
   "source": [
    "python_basic.show_info()"
   ]
  },
  {
   "cell_type": "code",
   "execution_count": 8,
   "id": "79deea7c-e63e-4cb8-8ccb-3ea09bc80802",
   "metadata": {},
   "outputs": [
    {
     "name": "stdout",
     "output_type": "stream",
     "text": [
      "sudh\n"
     ]
    }
   ],
   "source": [
    "python_basic.mentor_name()"
   ]
  },
  {
   "cell_type": "code",
   "execution_count": 10,
   "id": "d513e8a2-9847-4231-98b8-601f8fb43aba",
   "metadata": {},
   "outputs": [],
   "source": [
    "class Human:\n",
    "    def __init__(self):\n",
    "        pass\n",
    "\n",
    "    def eat(self):\n",
    "        pass"
   ]
  },
  {
   "cell_type": "code",
   "execution_count": 11,
   "id": "55d53d0f-75da-4852-b07a-f34ad571aaf1",
   "metadata": {},
   "outputs": [],
   "source": [
    "class Male(Human):\n",
    "    def __init__(self, name):\n",
    "        self.name = name\n",
    "\n",
    "    def eat(self):\n",
    "        print(self.name)"
   ]
  },
  {
   "cell_type": "code",
   "execution_count": 14,
   "id": "af003a37-9822-4633-832b-b73898b75474",
   "metadata": {},
   "outputs": [],
   "source": [
    "sudh = Male(\"sudhanshu\")"
   ]
  },
  {
   "cell_type": "code",
   "execution_count": 15,
   "id": "bed0d5e4-9a33-4e95-ab3a-d0f001f3af57",
   "metadata": {},
   "outputs": [
    {
     "name": "stdout",
     "output_type": "stream",
     "text": [
      "sudhanshu\n"
     ]
    }
   ],
   "source": [
    "sudh.eat()"
   ]
  },
  {
   "cell_type": "code",
   "execution_count": 6,
   "id": "e8ab6c80-0940-45f3-8129-266a6d910ecd",
   "metadata": {},
   "outputs": [],
   "source": [
    "class Human:\n",
    "    def __init__(self):\n",
    "        pass\n",
    "\n",
    "    def eat(self):\n",
    "        print(\"printing the eat method from human\")"
   ]
  },
  {
   "cell_type": "code",
   "execution_count": 7,
   "id": "89426de5-3e93-430a-934e-9a709f7fb493",
   "metadata": {},
   "outputs": [],
   "source": [
    "class Male(Human):\n",
    "    def __init__(self, name):\n",
    "        self.name = name\n",
    "\n",
    "    def eat(self):\n",
    "        super().eat() # will call the eat function from parent class over here parent class is \"Human\"\n",
    "        # print(self.name)"
   ]
  },
  {
   "cell_type": "code",
   "execution_count": 8,
   "id": "628c06eb-f214-4204-a79e-bb1ddb425202",
   "metadata": {},
   "outputs": [],
   "source": [
    "sudh1 = Male(\"sudhanshu\")"
   ]
  },
  {
   "cell_type": "code",
   "execution_count": 9,
   "id": "46badba8-33f7-44ea-b3a6-072c059d938c",
   "metadata": {},
   "outputs": [
    {
     "name": "stdout",
     "output_type": "stream",
     "text": [
      "printing the eat method from human\n"
     ]
    }
   ],
   "source": [
    "sudh1.eat()"
   ]
  },
  {
   "cell_type": "code",
   "execution_count": 16,
   "id": "f7cb1927-4d2e-45bb-b7b4-a121f8eb9652",
   "metadata": {},
   "outputs": [],
   "source": [
    "class FileOpener:\n",
    "    def __init__(self, filename):\n",
    "        self.filename = filename\n",
    "\n",
    "    def open_file(self):\n",
    "        print(\"this will open the file \", self.filename)\n",
    "\n",
    "    def __del__(self): # destructor\n",
    "        print(\"close my file\")\n",
    "        self.filename\n",
    "\n",
    "    # __del__ and __init__ will be called regardless if we have written it or not"
   ]
  },
  {
   "cell_type": "code",
   "execution_count": 17,
   "id": "3ebb89d3-c41c-43a8-a254-1a90952dda85",
   "metadata": {},
   "outputs": [
    {
     "name": "stdout",
     "output_type": "stream",
     "text": [
      "close my file\n"
     ]
    }
   ],
   "source": [
    "f1 = FileOpener(\"f1.txt\")"
   ]
  },
  {
   "cell_type": "code",
   "execution_count": 18,
   "id": "818204f5-2143-4f7b-98a9-ca157ce973f2",
   "metadata": {},
   "outputs": [
    {
     "name": "stdout",
     "output_type": "stream",
     "text": [
      "this will open the file  f1.txt\n"
     ]
    }
   ],
   "source": [
    "f1.open_file()"
   ]
  },
  {
   "cell_type": "code",
   "execution_count": 32,
   "id": "e70b7800-38d4-4675-abd4-72eaa3cdb229",
   "metadata": {},
   "outputs": [],
   "source": [
    "import time\n",
    "class Timer:\n",
    "    def __init__(self):\n",
    "        self.start_time = time.time()\n",
    "\n",
    "    def task(self):\n",
    "        time_spent = time.time() - self.start_time\n",
    "        print(time_spent)\n",
    "\n",
    "    def __del__(self):\n",
    "        print(\"\")"
   ]
  },
  {
   "cell_type": "code",
   "execution_count": 33,
   "id": "55da9d80-7a18-4d06-aa35-b4fb903c0333",
   "metadata": {},
   "outputs": [
    {
     "name": "stdout",
     "output_type": "stream",
     "text": [
      "\n"
     ]
    }
   ],
   "source": [
    "t1 = Timer()"
   ]
  },
  {
   "cell_type": "code",
   "execution_count": 34,
   "id": "2bd506a6-e646-4d30-88e1-89317dbe708b",
   "metadata": {},
   "outputs": [
    {
     "name": "stdout",
     "output_type": "stream",
     "text": [
      "9.573470115661621\n"
     ]
    }
   ],
   "source": [
    "t1.task()"
   ]
  },
  {
   "cell_type": "code",
   "execution_count": 35,
   "id": "04aa27e6-cbd3-4dda-9a2f-67c48bb4594c",
   "metadata": {},
   "outputs": [],
   "source": [
    "import time\n",
    "class Timer:\n",
    "    def __init__(self):\n",
    "        self.start_time = time.time()\n",
    "\n",
    "    def task(self):\n",
    "        time_spent = time.time() - self.start_time\n",
    "        print(time_spent)\n",
    "\n",
    "    def __del__(self):\n",
    "        print(\"\")\n",
    "\n",
    "    def __str__(self):\n",
    "        return \"this is my class time\""
   ]
  },
  {
   "cell_type": "code",
   "execution_count": 36,
   "id": "4eac08b8-5e17-4af6-9391-1c120a79ab6c",
   "metadata": {},
   "outputs": [
    {
     "name": "stdout",
     "output_type": "stream",
     "text": [
      "\n"
     ]
    }
   ],
   "source": [
    "t1 = Timer()"
   ]
  },
  {
   "cell_type": "code",
   "execution_count": 37,
   "id": "3e52fbf2-91fb-47d0-84fa-a4e2689329da",
   "metadata": {},
   "outputs": [
    {
     "name": "stdout",
     "output_type": "stream",
     "text": [
      "3.3615338802337646\n"
     ]
    }
   ],
   "source": [
    "t1.task()"
   ]
  },
  {
   "cell_type": "code",
   "execution_count": 39,
   "id": "0d06e480-d09f-42d9-b7bb-cc68b4d5bf1c",
   "metadata": {},
   "outputs": [
    {
     "name": "stdout",
     "output_type": "stream",
     "text": [
      "this is my class time\n"
     ]
    }
   ],
   "source": [
    "print(t1) # str was not called it was called by default"
   ]
  },
  {
   "cell_type": "code",
   "execution_count": 40,
   "id": "dd755a22-2124-4308-88bf-06168366b181",
   "metadata": {},
   "outputs": [],
   "source": [
    "import time\n",
    "class Timer:\n",
    "    def __init__(self):\n",
    "        self.start_time = time.time()\n",
    "\n",
    "    def task(self):\n",
    "        time_spent = time.time() - self.start_time\n",
    "        print(time_spent)\n",
    "\n",
    "    def __del__(self):\n",
    "        print(\"\")\n",
    "\n",
    "    # def __str__(self):\n",
    "    #     return \"this is my class time\""
   ]
  },
  {
   "cell_type": "code",
   "execution_count": 41,
   "id": "56cd5863-d1f6-47b9-9b8b-960e302ab1cb",
   "metadata": {},
   "outputs": [
    {
     "name": "stdout",
     "output_type": "stream",
     "text": [
      "\n"
     ]
    }
   ],
   "source": [
    "t1 = Timer()"
   ]
  },
  {
   "cell_type": "code",
   "execution_count": 42,
   "id": "2c37fe22-a580-481d-9b83-332c41c4cd69",
   "metadata": {},
   "outputs": [
    {
     "name": "stdout",
     "output_type": "stream",
     "text": [
      "5.060518980026245\n"
     ]
    }
   ],
   "source": [
    "t1.task()"
   ]
  },
  {
   "cell_type": "code",
   "execution_count": 43,
   "id": "890271ce-eecb-4ef7-9ba0-32483e17905f",
   "metadata": {},
   "outputs": [
    {
     "name": "stdout",
     "output_type": "stream",
     "text": [
      "<__main__.Timer object at 0x107e1d400>\n"
     ]
    }
   ],
   "source": [
    "print(t1)"
   ]
  },
  {
   "cell_type": "markdown",
   "id": "f7159c8f-5ce6-402e-bbdd-ef8db7813940",
   "metadata": {},
   "source": [
    "### Decorator"
   ]
  },
  {
   "cell_type": "code",
   "execution_count": 51,
   "id": "e89669c8-dad5-44f8-9577-ad2673907065",
   "metadata": {},
   "outputs": [],
   "source": [
    "def test(func):\n",
    "    def inner_test():\n",
    "        print(\"this is start of my inner test\")\n",
    "        func()\n",
    "        print(\"this is end of my inner test\")\n",
    "\n",
    "    return inner_test\n",
    "\n",
    "def test1():\n",
    "    print(\"this is my test1\")"
   ]
  },
  {
   "cell_type": "code",
   "execution_count": 52,
   "id": "24124da7-1ae0-457f-80b0-86500680b5b7",
   "metadata": {},
   "outputs": [
    {
     "name": "stdout",
     "output_type": "stream",
     "text": [
      "this is my test1\n"
     ]
    }
   ],
   "source": [
    "test1()"
   ]
  },
  {
   "cell_type": "code",
   "execution_count": 53,
   "id": "a045b228-472d-40cc-9916-1670360cff74",
   "metadata": {},
   "outputs": [],
   "source": [
    "def test(func):\n",
    "    def inner_test():\n",
    "        print(\"this is start of my inner test\")\n",
    "        func()\n",
    "        print(\"this is end of my inner test\")\n",
    "\n",
    "    return inner_test\n",
    "\n",
    "@test\n",
    "def test1():\n",
    "    print(\"this is my test1\")"
   ]
  },
  {
   "cell_type": "code",
   "execution_count": 55,
   "id": "ff96f609-ac1b-4b49-9600-d1aaa4333897",
   "metadata": {},
   "outputs": [
    {
     "name": "stdout",
     "output_type": "stream",
     "text": [
      "this is start of my inner test\n",
      "this is my test1\n",
      "this is end of my inner test\n"
     ]
    }
   ],
   "source": [
    "test1()\n",
    "\n",
    "# it is called like this\n",
    "# test(test1):"
   ]
  },
  {
   "cell_type": "code",
   "execution_count": 56,
   "id": "175802d0-60c8-4f91-9a74-e46f4a0ec578",
   "metadata": {},
   "outputs": [],
   "source": [
    "def print_list(l):\n",
    "    for i in l:\n",
    "        print(i)"
   ]
  },
  {
   "cell_type": "code",
   "execution_count": 57,
   "id": "4c89ade8-72f9-4ffe-a4d1-314c52cd7472",
   "metadata": {},
   "outputs": [],
   "source": [
    "def print_key(d):\n",
    "    print(d.keys())"
   ]
  },
  {
   "cell_type": "code",
   "execution_count": 59,
   "id": "e1f36ddd-8a60-43ee-a2e7-71dbb6932a99",
   "metadata": {},
   "outputs": [],
   "source": [
    "import time \n",
    "def print_list(l):\n",
    "    start_time = time.time()\n",
    "    for i in l:\n",
    "        print(i)\n",
    "    end_time = time.time()\n",
    "    total_time = end_time - start_time\n",
    "    print(total_time)"
   ]
  },
  {
   "cell_type": "code",
   "execution_count": 64,
   "id": "7bb78f6b-c129-4130-a1b0-2ff643ff5562",
   "metadata": {},
   "outputs": [],
   "source": [
    "import time\n",
    "def time_calculator(func):\n",
    "    def calculateTime():\n",
    "        start_time = time.time()\n",
    "        print(f\"Start time = {start_time}\")\n",
    "        func()\n",
    "        end_time = time.time()\n",
    "        total_time = start_time - end_time\n",
    "        print(f\"Total time = {total_time}\")\n",
    "\n",
    "    return calculateTime"
   ]
  },
  {
   "cell_type": "code",
   "execution_count": 67,
   "id": "952c7538-5997-43d1-86ff-8346f161c670",
   "metadata": {},
   "outputs": [],
   "source": [
    "@time_calculator\n",
    "def print_key(d):\n",
    "    for i in d.keys:\n",
    "        print(i)\n",
    "\n",
    "# time_calculator(print_key(d))"
   ]
  },
  {
   "cell_type": "code",
   "execution_count": 68,
   "id": "c8988167-d447-4ee6-8232-dec5dc6674e5",
   "metadata": {},
   "outputs": [
    {
     "ename": "TypeError",
     "evalue": "calculateTime() takes 0 positional arguments but 1 was given",
     "output_type": "error",
     "traceback": [
      "\u001b[0;31m---------------------------------------------------------------------------\u001b[0m",
      "\u001b[0;31mTypeError\u001b[0m                                 Traceback (most recent call last)",
      "Cell \u001b[0;32mIn[68], line 1\u001b[0m\n\u001b[0;32m----> 1\u001b[0m \u001b[43mprint_key\u001b[49m\u001b[43m(\u001b[49m\u001b[43m{\u001b[49m\u001b[38;5;124;43m'\u001b[39;49m\u001b[38;5;124;43mname\u001b[39;49m\u001b[38;5;124;43m'\u001b[39;49m\u001b[43m:\u001b[49m\u001b[38;5;124;43m'\u001b[39;49m\u001b[38;5;124;43msudh\u001b[39;49m\u001b[38;5;124;43m'\u001b[39;49m\u001b[43m,\u001b[49m\u001b[38;5;124;43m'\u001b[39;49m\u001b[38;5;124;43mcourse\u001b[39;49m\u001b[38;5;124;43m'\u001b[39;49m\u001b[43m:\u001b[49m\u001b[38;5;124;43m'\u001b[39;49m\u001b[38;5;124;43mdsa\u001b[39;49m\u001b[38;5;124;43m'\u001b[39;49m\u001b[43m,\u001b[49m\u001b[38;5;124;43m'\u001b[39;49m\u001b[38;5;124;43mkey\u001b[39;49m\u001b[38;5;124;43m'\u001b[39;49m\u001b[43m:\u001b[49m\u001b[38;5;124;43m'\u001b[39;49m\u001b[38;5;124;43mvalue\u001b[39;49m\u001b[38;5;124;43m'\u001b[39;49m\u001b[43m}\u001b[49m\u001b[43m)\u001b[49m\n",
      "\u001b[0;31mTypeError\u001b[0m: calculateTime() takes 0 positional arguments but 1 was given"
     ]
    }
   ],
   "source": [
    "print_key({'name':'sudh','course':'dsa','key':'value'})"
   ]
  },
  {
   "cell_type": "code",
   "execution_count": 76,
   "id": "e52e438a-d443-4c90-aa5b-66c3f30df3f1",
   "metadata": {},
   "outputs": [],
   "source": [
    "import time\n",
    "def time_calculator(func):\n",
    "    def calculateTime(*args):\n",
    "        start_time = time.time()\n",
    "        print(f\"Start time = {start_time}\")\n",
    "        func(*args)\n",
    "        end_time = time.time()\n",
    "        total_time = end_time - start_time\n",
    "        print(f\"Total time = {total_time}\")\n",
    "\n",
    "    return calculateTime"
   ]
  },
  {
   "cell_type": "code",
   "execution_count": 77,
   "id": "0350b217-6bdf-4d06-ab45-875f53672d8f",
   "metadata": {},
   "outputs": [],
   "source": [
    "@time_calculator\n",
    "def print_key(d): print(d.keys())\n",
    "\n",
    "# time_calculator(print_key(d))"
   ]
  },
  {
   "cell_type": "code",
   "execution_count": 78,
   "id": "b6f36171-d9b1-4428-8062-af5ceb4b6d55",
   "metadata": {},
   "outputs": [
    {
     "name": "stdout",
     "output_type": "stream",
     "text": [
      "Start time = 1702862191.08594\n",
      "dict_keys(['name', 'course', 'key'])\n",
      "Total time = 3.62396240234375e-05\n"
     ]
    }
   ],
   "source": [
    "print_key({'name':'sudh','course':'dsa','key':'value'})"
   ]
  },
  {
   "cell_type": "code",
   "execution_count": 79,
   "id": "6380b408-44f6-4f4e-8e37-7f41fcbc65fd",
   "metadata": {},
   "outputs": [],
   "source": [
    "@time_calculator\n",
    "def print_list(l: list): \n",
    "    for i in l:\n",
    "        print(i)"
   ]
  },
  {
   "cell_type": "code",
   "execution_count": 80,
   "id": "0e19b8d2-025f-488b-bcb1-043f3294c360",
   "metadata": {},
   "outputs": [
    {
     "name": "stdout",
     "output_type": "stream",
     "text": [
      "Start time = 1702862191.4209092\n",
      "1\n",
      "2\n",
      "3\n",
      "4\n",
      "5\n",
      "6\n",
      "7\n",
      "8\n",
      "9\n",
      "10\n",
      "Total time = 8.392333984375e-05\n"
     ]
    }
   ],
   "source": [
    "print_list([1,2,3,4,5,6,7,8,9,10])"
   ]
  },
  {
   "cell_type": "code",
   "execution_count": null,
   "id": "58cb4bcd-3984-4cbb-b63c-3a03e28ebe2a",
   "metadata": {},
   "outputs": [],
   "source": []
  }
 ],
 "metadata": {
  "kernelspec": {
   "display_name": "Python 3 (ipykernel)",
   "language": "python",
   "name": "python3"
  },
  "language_info": {
   "codemirror_mode": {
    "name": "ipython",
    "version": 3
   },
   "file_extension": ".py",
   "mimetype": "text/x-python",
   "name": "python",
   "nbconvert_exporter": "python",
   "pygments_lexer": "ipython3",
   "version": "3.8.18"
  }
 },
 "nbformat": 4,
 "nbformat_minor": 5
}
