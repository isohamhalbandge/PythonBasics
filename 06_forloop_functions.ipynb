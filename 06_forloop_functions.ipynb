{
 "cells": [
  {
   "cell_type": "code",
   "execution_count": 1,
   "id": "5cf7f1f2-49e2-4148-873a-ecec2fd18285",
   "metadata": {},
   "outputs": [
    {
     "data": {
      "text/plain": [
       "9"
      ]
     },
     "execution_count": 1,
     "metadata": {},
     "output_type": "execute_result"
    }
   ],
   "source": [
    "s = 'sudhanshu'\n",
    "# finding the length of the string\n",
    "len(s)"
   ]
  },
  {
   "cell_type": "code",
   "execution_count": 6,
   "id": "ec5e7e0a-3c2f-43d4-84cb-8cc0b53aecb5",
   "metadata": {},
   "outputs": [],
   "source": [
    "# finding the length of the string - using recursion\n",
    "def find_len(string):\n",
    "    if string == '': return 0\n",
    "    else: return 1 + find_len(string[1:])"
   ]
  },
  {
   "cell_type": "code",
   "execution_count": 7,
   "id": "27367bd5-e82e-466f-8dae-a93961430db2",
   "metadata": {},
   "outputs": [
    {
     "data": {
      "text/plain": [
       "9"
      ]
     },
     "execution_count": 7,
     "metadata": {},
     "output_type": "execute_result"
    }
   ],
   "source": [
    "find_len('sudhanshu')"
   ]
  },
  {
   "cell_type": "code",
   "execution_count": 8,
   "id": "3fe3b49b-2c35-43a7-9c0e-83775eebdd7c",
   "metadata": {},
   "outputs": [
    {
     "data": {
      "text/plain": [
       "11"
      ]
     },
     "execution_count": 8,
     "metadata": {},
     "output_type": "execute_result"
    }
   ],
   "source": [
    "find_len(\"hello world\")"
   ]
  },
  {
   "cell_type": "code",
   "execution_count": 9,
   "id": "93dc7995-797a-4ec3-ad41-b2848a422429",
   "metadata": {},
   "outputs": [
    {
     "data": {
      "text/plain": [
       "'uhsnahdus'"
      ]
     },
     "execution_count": 9,
     "metadata": {},
     "output_type": "execute_result"
    }
   ],
   "source": [
    "# Doing the reverse of a string\n",
    "s[::-1]"
   ]
  },
  {
   "cell_type": "code",
   "execution_count": 12,
   "id": "bc273f56-cd5e-4206-ba53-e3ce6ba1cd42",
   "metadata": {},
   "outputs": [],
   "source": [
    "# Reversing string - using recursion\n",
    "def reverse_string(string):\n",
    "    if string == '': return ''\n",
    "    else: return reverse_string(string[1:]) + string[0]"
   ]
  },
  {
   "cell_type": "code",
   "execution_count": 13,
   "id": "f471e98a-f067-4297-98a2-dc2e32530c99",
   "metadata": {},
   "outputs": [
    {
     "data": {
      "text/plain": [
       "'gnirts'"
      ]
     },
     "execution_count": 13,
     "metadata": {},
     "output_type": "execute_result"
    }
   ],
   "source": [
    "reverse_string('string')"
   ]
  },
  {
   "cell_type": "code",
   "execution_count": 14,
   "id": "ef4806ff-d5ef-4009-af83-de631af68e4b",
   "metadata": {},
   "outputs": [
    {
     "data": {
      "text/plain": [
       "4"
      ]
     },
     "execution_count": 14,
     "metadata": {},
     "output_type": "execute_result"
    }
   ],
   "source": [
    "# number of occurence of character in particular string\n",
    "s = 'sfafafdaaf'\n",
    "s.count('a')"
   ]
  },
  {
   "cell_type": "code",
   "execution_count": 19,
   "id": "a92e2e00-8cce-406d-936c-c2db12fe9ced",
   "metadata": {},
   "outputs": [],
   "source": [
    "def find_occurence(s: str, c: str):\n",
    "    if s == \"\": return 0\n",
    "    elif s[0] == c: return 1 + find_occurence(s[1:], c)\n",
    "    else: return find_occurence(s[1:], c)"
   ]
  },
  {
   "cell_type": "code",
   "execution_count": 20,
   "id": "cbc042fe-dcf1-4ac4-845d-f2a27a21ae40",
   "metadata": {},
   "outputs": [
    {
     "data": {
      "text/plain": [
       "4"
      ]
     },
     "execution_count": 20,
     "metadata": {},
     "output_type": "execute_result"
    }
   ],
   "source": [
    "find_occurence('sfafafdaaf', 'a')"
   ]
  },
  {
   "cell_type": "code",
   "execution_count": 23,
   "id": "2d467991-4390-4423-865c-10904d109b45",
   "metadata": {},
   "outputs": [],
   "source": [
    "l = [4,5,6,3,4,5,6,6,7]"
   ]
  },
  {
   "cell_type": "code",
   "execution_count": 26,
   "id": "2d6cfa5e-d595-4953-9218-7bec89355f9c",
   "metadata": {},
   "outputs": [],
   "source": [
    "# TODO : if the list is sorted or not sorted\n",
    "def check_sort(arr: list):\n",
    "    if len(arr) <= 1: \n",
    "        return True\n",
    "    elif arr[0] > arr[1]: \n",
    "        return False\n",
    "    else:\n",
    "        return check_sort(arr[1:])"
   ]
  },
  {
   "cell_type": "code",
   "execution_count": 27,
   "id": "24ea80fd-fb90-4c34-8751-b97b5cb49be7",
   "metadata": {},
   "outputs": [
    {
     "data": {
      "text/plain": [
       "False"
      ]
     },
     "execution_count": 27,
     "metadata": {},
     "output_type": "execute_result"
    }
   ],
   "source": [
    "check_sort(l)"
   ]
  },
  {
   "cell_type": "code",
   "execution_count": 28,
   "id": "aae30e57-7335-4f91-a236-ae90a21ef0b7",
   "metadata": {},
   "outputs": [],
   "source": [
    "l1 = [1,2,3,4,5]"
   ]
  },
  {
   "cell_type": "code",
   "execution_count": 30,
   "id": "d4526232-811e-4d2c-86f2-38a1821e6783",
   "metadata": {},
   "outputs": [
    {
     "data": {
      "text/plain": [
       "True"
      ]
     },
     "execution_count": 30,
     "metadata": {},
     "output_type": "execute_result"
    }
   ],
   "source": [
    "check_sort(l1)"
   ]
  },
  {
   "cell_type": "code",
   "execution_count": 32,
   "id": "1344e539-4566-45b6-a489-ffa7c904be6d",
   "metadata": {},
   "outputs": [],
   "source": [
    "# TODO : Check if the given number is perfect square or not\n",
    "def check_perfect_square(n: int, start = 1):\n",
    "    if n == start ** 2:\n",
    "        return True\n",
    "    elif n < start ** 2: \n",
    "        return False\n",
    "    else:\n",
    "        return check_perfect_square(n, start + 1)"
   ]
  },
  {
   "cell_type": "code",
   "execution_count": 33,
   "id": "d7aeb50b-987b-4f20-ac25-11bf131cc520",
   "metadata": {},
   "outputs": [
    {
     "data": {
      "text/plain": [
       "True"
      ]
     },
     "execution_count": 33,
     "metadata": {},
     "output_type": "execute_result"
    }
   ],
   "source": [
    "check_perfect_square(64)"
   ]
  },
  {
   "cell_type": "code",
   "execution_count": 35,
   "id": "6ae38ca5-bf83-401d-acf5-03c20bdcda4d",
   "metadata": {},
   "outputs": [
    {
     "data": {
      "text/plain": [
       "False"
      ]
     },
     "execution_count": 35,
     "metadata": {},
     "output_type": "execute_result"
    }
   ],
   "source": [
    "check_perfect_square(3)"
   ]
  },
  {
   "cell_type": "code",
   "execution_count": null,
   "id": "3ef4af0e-9dbf-42cd-b55b-b4f672ea08a4",
   "metadata": {},
   "outputs": [],
   "source": []
  }
 ],
 "metadata": {
  "kernelspec": {
   "display_name": "Python 3 (ipykernel)",
   "language": "python",
   "name": "python3"
  },
  "language_info": {
   "codemirror_mode": {
    "name": "ipython",
    "version": 3
   },
   "file_extension": ".py",
   "mimetype": "text/x-python",
   "name": "python",
   "nbconvert_exporter": "python",
   "pygments_lexer": "ipython3",
   "version": "3.8.18"
  }
 },
 "nbformat": 4,
 "nbformat_minor": 5
}
