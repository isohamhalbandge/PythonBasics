{
 "cells": [
  {
   "cell_type": "code",
   "execution_count": 1,
   "id": "b924496f-b8ec-4df9-93b2-bcf9cff5a066",
   "metadata": {},
   "outputs": [],
   "source": [
    "a = 10\n",
    "b = 5"
   ]
  },
  {
   "cell_type": "code",
   "execution_count": 2,
   "id": "3205ccf4-7546-46d2-905f-e26f4b919988",
   "metadata": {},
   "outputs": [
    {
     "data": {
      "text/plain": [
       "50"
      ]
     },
     "execution_count": 2,
     "metadata": {},
     "output_type": "execute_result"
    }
   ],
   "source": [
    "a * b"
   ]
  },
  {
   "cell_type": "code",
   "execution_count": 3,
   "id": "d40bf808-2c3e-4af9-b20e-58e30bd99511",
   "metadata": {},
   "outputs": [
    {
     "data": {
      "text/plain": [
       "2.0"
      ]
     },
     "execution_count": 3,
     "metadata": {},
     "output_type": "execute_result"
    }
   ],
   "source": [
    "a / b"
   ]
  },
  {
   "cell_type": "code",
   "execution_count": 8,
   "id": "bfc5ee94-1d8b-4cf0-9254-431420c6a822",
   "metadata": {},
   "outputs": [
    {
     "name": "stdin",
     "output_type": "stream",
     "text": [
      "Enter the value for A:  9\n",
      "Enter the value for B:  0\n"
     ]
    }
   ],
   "source": [
    "a = int(input(\"Enter the value for A: \"))\n",
    "b = int(input(\"Enter the value for B: \"))"
   ]
  },
  {
   "cell_type": "code",
   "execution_count": 11,
   "id": "283f36bf-bf19-4fdd-99f2-465c91c01c9b",
   "metadata": {},
   "outputs": [
    {
     "ename": "ZeroDivisionError",
     "evalue": "division by zero",
     "output_type": "error",
     "traceback": [
      "\u001b[0;31m---------------------------------------------------------------------------\u001b[0m",
      "\u001b[0;31mZeroDivisionError\u001b[0m                         Traceback (most recent call last)",
      "Cell \u001b[0;32mIn[11], line 1\u001b[0m\n\u001b[0;32m----> 1\u001b[0m \u001b[43ma\u001b[49m\u001b[43m \u001b[49m\u001b[38;5;241;43m/\u001b[39;49m\u001b[43m \u001b[49m\u001b[43mb\u001b[49m\n\u001b[1;32m      2\u001b[0m \u001b[38;5;28mprint\u001b[39m(\u001b[38;5;124m\"\u001b[39m\u001b[38;5;124mprint something\u001b[39m\u001b[38;5;124m\"\u001b[39m)\n",
      "\u001b[0;31mZeroDivisionError\u001b[0m: division by zero"
     ]
    }
   ],
   "source": [
    "a / b\n",
    "print(\"print something\")"
   ]
  },
  {
   "cell_type": "code",
   "execution_count": 10,
   "id": "01c238c0-db06-4321-a155-cb7268295e86",
   "metadata": {},
   "outputs": [
    {
     "data": {
      "text/plain": [
       "9"
      ]
     },
     "execution_count": 10,
     "metadata": {},
     "output_type": "execute_result"
    }
   ],
   "source": [
    "a + b"
   ]
  },
  {
   "cell_type": "code",
   "execution_count": 12,
   "id": "561fef5c-a8ab-4b0c-b023-b1096e45fab0",
   "metadata": {},
   "outputs": [],
   "source": [
    "l = [4,5,6,7,8,9,0]\n",
    "l1 = []\n",
    "def even_parser(l: list):\n",
    "    for i in l:\n",
    "        if i % 2 == 0:\n",
    "            l1.append(i)\n",
    "    return l1"
   ]
  },
  {
   "cell_type": "code",
   "execution_count": 13,
   "id": "fd176470-fc4d-4ab6-a200-c003f9e9a9e2",
   "metadata": {},
   "outputs": [
    {
     "data": {
      "text/plain": [
       "[4, 6, 8, 0]"
      ]
     },
     "execution_count": 13,
     "metadata": {},
     "output_type": "execute_result"
    }
   ],
   "source": [
    "even_parser(l)"
   ]
  },
  {
   "cell_type": "code",
   "execution_count": 14,
   "id": "d8d5d7cd-277b-4041-8ae2-01e7c438213f",
   "metadata": {},
   "outputs": [
    {
     "ename": "TypeError",
     "evalue": "not all arguments converted during string formatting",
     "output_type": "error",
     "traceback": [
      "\u001b[0;31m---------------------------------------------------------------------------\u001b[0m",
      "\u001b[0;31mTypeError\u001b[0m                                 Traceback (most recent call last)",
      "Cell \u001b[0;32mIn[14], line 1\u001b[0m\n\u001b[0;32m----> 1\u001b[0m \u001b[43meven_parser\u001b[49m\u001b[43m(\u001b[49m\u001b[38;5;124;43m\"\u001b[39;49m\u001b[38;5;124;43msudh\u001b[39;49m\u001b[38;5;124;43m\"\u001b[39;49m\u001b[43m)\u001b[49m\n",
      "Cell \u001b[0;32mIn[12], line 5\u001b[0m, in \u001b[0;36meven_parser\u001b[0;34m(l)\u001b[0m\n\u001b[1;32m      3\u001b[0m \u001b[38;5;28;01mdef\u001b[39;00m \u001b[38;5;21meven_parser\u001b[39m(l: \u001b[38;5;28mlist\u001b[39m):\n\u001b[1;32m      4\u001b[0m     \u001b[38;5;28;01mfor\u001b[39;00m i \u001b[38;5;129;01min\u001b[39;00m l:\n\u001b[0;32m----> 5\u001b[0m         \u001b[38;5;28;01mif\u001b[39;00m \u001b[43mi\u001b[49m\u001b[43m \u001b[49m\u001b[38;5;241;43m%\u001b[39;49m\u001b[43m \u001b[49m\u001b[38;5;241;43m2\u001b[39;49m \u001b[38;5;241m==\u001b[39m \u001b[38;5;241m0\u001b[39m:\n\u001b[1;32m      6\u001b[0m             l1\u001b[38;5;241m.\u001b[39mappend(i)\n\u001b[1;32m      7\u001b[0m     \u001b[38;5;28;01mreturn\u001b[39;00m l1\n",
      "\u001b[0;31mTypeError\u001b[0m: not all arguments converted during string formatting"
     ]
    }
   ],
   "source": [
    "even_parser(\"sudh\")"
   ]
  },
  {
   "cell_type": "code",
   "execution_count": 16,
   "id": "1708c609-6f3f-4625-a019-2c1f5fecd6b1",
   "metadata": {},
   "outputs": [
    {
     "ename": "TypeError",
     "evalue": "'int' object is not iterable",
     "output_type": "error",
     "traceback": [
      "\u001b[0;31m---------------------------------------------------------------------------\u001b[0m",
      "\u001b[0;31mTypeError\u001b[0m                                 Traceback (most recent call last)",
      "Cell \u001b[0;32mIn[16], line 1\u001b[0m\n\u001b[0;32m----> 1\u001b[0m \u001b[43meven_parser\u001b[49m\u001b[43m(\u001b[49m\u001b[38;5;241;43m6\u001b[39;49m\u001b[43m)\u001b[49m\n\u001b[1;32m      2\u001b[0m \u001b[38;5;28mprint\u001b[39m(\u001b[38;5;124m\"\u001b[39m\u001b[38;5;124mprinting something\u001b[39m\u001b[38;5;124m\"\u001b[39m)\n",
      "Cell \u001b[0;32mIn[12], line 4\u001b[0m, in \u001b[0;36meven_parser\u001b[0;34m(l)\u001b[0m\n\u001b[1;32m      3\u001b[0m \u001b[38;5;28;01mdef\u001b[39;00m \u001b[38;5;21meven_parser\u001b[39m(l: \u001b[38;5;28mlist\u001b[39m):\n\u001b[0;32m----> 4\u001b[0m     \u001b[38;5;28;01mfor\u001b[39;00m i \u001b[38;5;129;01min\u001b[39;00m l:\n\u001b[1;32m      5\u001b[0m         \u001b[38;5;28;01mif\u001b[39;00m i \u001b[38;5;241m%\u001b[39m \u001b[38;5;241m2\u001b[39m \u001b[38;5;241m==\u001b[39m \u001b[38;5;241m0\u001b[39m:\n\u001b[1;32m      6\u001b[0m             l1\u001b[38;5;241m.\u001b[39mappend(i)\n",
      "\u001b[0;31mTypeError\u001b[0m: 'int' object is not iterable"
     ]
    }
   ],
   "source": [
    "even_parser(6)\n",
    "print(\"printing something\")"
   ]
  },
  {
   "cell_type": "code",
   "execution_count": 20,
   "id": "5c6923a5-4d15-4938-9d74-567ee2717ba9",
   "metadata": {},
   "outputs": [
    {
     "name": "stdin",
     "output_type": "stream",
     "text": [
      "Enter a value for A:  4\n",
      "Enter a value for B:  2\n"
     ]
    },
    {
     "name": "stdout",
     "output_type": "stream",
     "text": [
      "2.0\n"
     ]
    }
   ],
   "source": [
    "try:\n",
    "    a = int(input(\"Enter a value for A: \"))\n",
    "    b = int(input(\"Enter a value for B: \"))\n",
    "    c = a / b\n",
    "    print(c)\n",
    "except:\n",
    "    pass"
   ]
  },
  {
   "cell_type": "code",
   "execution_count": 22,
   "id": "8c14dfbf-cd7f-4a7e-980c-ad197295923a",
   "metadata": {},
   "outputs": [
    {
     "name": "stdin",
     "output_type": "stream",
     "text": [
      "Enter a value for A:  4\n",
      "Enter a value for B:  0\n"
     ]
    },
    {
     "name": "stdout",
     "output_type": "stream",
     "text": [
      "print something\n"
     ]
    }
   ],
   "source": [
    "try:\n",
    "    a = int(input(\"Enter a value for A: \"))\n",
    "    b = int(input(\"Enter a value for B: \"))\n",
    "    c = a / b\n",
    "    print(c)\n",
    "except:\n",
    "    pass\n",
    "print(\"print something\")"
   ]
  },
  {
   "cell_type": "code",
   "execution_count": 23,
   "id": "82aa2e1a-4282-4698-a9ee-7aac3552d819",
   "metadata": {},
   "outputs": [
    {
     "name": "stdin",
     "output_type": "stream",
     "text": [
      "Enter a value for A:  sudh\n"
     ]
    },
    {
     "name": "stdout",
     "output_type": "stream",
     "text": [
      "print something\n"
     ]
    }
   ],
   "source": [
    "try:\n",
    "    a = int(input(\"Enter a value for A: \"))\n",
    "    b = int(input(\"Enter a value for B: \"))\n",
    "    c = a / b\n",
    "    print(c)\n",
    "except:\n",
    "    pass\n",
    "print(\"print something\")"
   ]
  },
  {
   "cell_type": "code",
   "execution_count": 27,
   "id": "2ecce34f-1fa5-4ad5-84b0-e65c0cb1b9a2",
   "metadata": {},
   "outputs": [],
   "source": [
    "l = [4,5,6,7,8,9,0]\n",
    "l1 = []\n",
    "def even_parser(l: list):\n",
    "    try:\n",
    "        for i in l:\n",
    "            if i % 2 == 0:\n",
    "                l1.append(i)\n",
    "        return l1\n",
    "    except:\n",
    "        pass"
   ]
  },
  {
   "cell_type": "code",
   "execution_count": 28,
   "id": "bc34cc4f-246a-47a9-a9df-9cd7c3a46b4b",
   "metadata": {},
   "outputs": [
    {
     "data": {
      "text/plain": [
       "[4, 6, 8, 0]"
      ]
     },
     "execution_count": 28,
     "metadata": {},
     "output_type": "execute_result"
    }
   ],
   "source": [
    "even_parser(l)"
   ]
  },
  {
   "cell_type": "code",
   "execution_count": 29,
   "id": "a368d88f-9bd6-476d-9b8d-4a37e45feea0",
   "metadata": {},
   "outputs": [],
   "source": [
    "even_parser(\"sudh\")"
   ]
  },
  {
   "cell_type": "code",
   "execution_count": 30,
   "id": "4c34c074-e66d-4ce0-afc8-e9c74e311008",
   "metadata": {},
   "outputs": [],
   "source": [
    "even_parser(5)"
   ]
  },
  {
   "cell_type": "code",
   "execution_count": 31,
   "id": "e5ce34b9-8bb5-485f-8b13-2e769e987078",
   "metadata": {},
   "outputs": [
    {
     "name": "stdout",
     "output_type": "stream",
     "text": [
      "printing after possible error\n"
     ]
    }
   ],
   "source": [
    "even_parser(100)\n",
    "print(\"printing after possible error\")"
   ]
  },
  {
   "cell_type": "code",
   "execution_count": 37,
   "id": "2abe4d92-e7ea-42ef-b912-6312892c2b4c",
   "metadata": {},
   "outputs": [
    {
     "name": "stdin",
     "output_type": "stream",
     "text": [
      " 1\n",
      " 2\n"
     ]
    },
    {
     "name": "stdout",
     "output_type": "stream",
     "text": [
      "division by zero\n"
     ]
    }
   ],
   "source": [
    "try:\n",
    "    a = int(input())\n",
    "    b = int(input())\n",
    "    c = 6 / 0\n",
    "except Exception as e:\n",
    "    print(e)"
   ]
  },
  {
   "cell_type": "code",
   "execution_count": 34,
   "id": "668427ff-a908-455a-9176-28607994eab3",
   "metadata": {},
   "outputs": [
    {
     "ename": "ZeroDivisionError",
     "evalue": "division by zero",
     "output_type": "error",
     "traceback": [
      "\u001b[0;31m---------------------------------------------------------------------------\u001b[0m",
      "\u001b[0;31mZeroDivisionError\u001b[0m                         Traceback (most recent call last)",
      "Cell \u001b[0;32mIn[34], line 1\u001b[0m\n\u001b[0;32m----> 1\u001b[0m c \u001b[38;5;241m=\u001b[39m \u001b[38;5;241;43m6\u001b[39;49m\u001b[43m \u001b[49m\u001b[38;5;241;43m/\u001b[39;49m\u001b[43m \u001b[49m\u001b[38;5;241;43m0\u001b[39;49m\n",
      "\u001b[0;31mZeroDivisionError\u001b[0m: division by zero"
     ]
    }
   ],
   "source": [
    "c = 6 / 0"
   ]
  },
  {
   "cell_type": "code",
   "execution_count": 42,
   "id": "f924ae0f-a0e9-47fb-8175-9e86e2da9144",
   "metadata": {},
   "outputs": [
    {
     "name": "stdin",
     "output_type": "stream",
     "text": [
      " sudh\n"
     ]
    },
    {
     "name": "stdout",
     "output_type": "stream",
     "text": [
      "invalid literal for int() with base 10: 'sudh'\n"
     ]
    }
   ],
   "source": [
    "try:\n",
    "    a = int(input())\n",
    "    b = int(input())\n",
    "    c = 6 / 0\n",
    "except TypeError as t:\n",
    "    print(t)\n",
    "except ZeroDivisionError as z:\n",
    "    print(z)\n",
    "except ValueError as v:\n",
    "    print(v)"
   ]
  },
  {
   "cell_type": "code",
   "execution_count": 44,
   "id": "85b0be8c-3d6c-46e4-acde-f4b75d74310a",
   "metadata": {},
   "outputs": [
    {
     "name": "stdout",
     "output_type": "stream",
     "text": [
      "division by zero\n",
      "invalid literal for int() with base 10: 'sudh'\n"
     ]
    }
   ],
   "source": [
    "try:\n",
    "    x = 5 / 0\n",
    "except ZeroDivisionError as z:\n",
    "    print(z)\n",
    "    try:\n",
    "        y = int('sudh')\n",
    "    except ValueError as v:\n",
    "        print(v)"
   ]
  },
  {
   "cell_type": "code",
   "execution_count": 45,
   "id": "0c69f55c-24c8-4cdd-b0b2-4b2e5e4c5d41",
   "metadata": {},
   "outputs": [
    {
     "name": "stdout",
     "output_type": "stream",
     "text": [
      "division by zero\n"
     ]
    }
   ],
   "source": [
    "try:\n",
    "    x = 5 / 0\n",
    "except ZeroDivisionError as z:\n",
    "    print(z)\n",
    "else:\n",
    "    print(\"this will execute itself once try will execute without an error\")"
   ]
  },
  {
   "cell_type": "code",
   "execution_count": 46,
   "id": "eac02555-847e-4f7e-a77a-0bb81c808330",
   "metadata": {},
   "outputs": [
    {
     "name": "stdout",
     "output_type": "stream",
     "text": [
      "this will execute itself once try will execute without an error\n"
     ]
    }
   ],
   "source": [
    "try:\n",
    "    x = 5 / 1\n",
    "except ZeroDivisionError as z:\n",
    "    print(z)\n",
    "else:\n",
    "    print(\"this will execute itself once try will execute without an error\")"
   ]
  },
  {
   "cell_type": "code",
   "execution_count": 47,
   "id": "7ec00f50-c099-4145-9da7-924404603acc",
   "metadata": {},
   "outputs": [
    {
     "name": "stdout",
     "output_type": "stream",
     "text": [
      "this will execute itself once try will execute without an error\n",
      "this will be executed always\n"
     ]
    }
   ],
   "source": [
    "try:\n",
    "    x = 5 / 1\n",
    "except ZeroDivisionError as z:\n",
    "    print(z)\n",
    "else:\n",
    "    print(\"this will execute itself once try will execute without an error\")\n",
    "finally:\n",
    "    print(\"this will be executed always\")"
   ]
  },
  {
   "cell_type": "code",
   "execution_count": 48,
   "id": "8307d8ab-88ae-4a69-933b-c99deaa87f94",
   "metadata": {},
   "outputs": [
    {
     "name": "stdout",
     "output_type": "stream",
     "text": [
      "division by zero\n",
      "this will be executed always\n"
     ]
    }
   ],
   "source": [
    "try:\n",
    "    x = 5 / 0\n",
    "except ZeroDivisionError as z:\n",
    "    print(z)\n",
    "else:\n",
    "    print(\"this will execute itself once try will execute without an error\")\n",
    "finally:\n",
    "    print(\"this will be executed always\")"
   ]
  },
  {
   "cell_type": "code",
   "execution_count": 49,
   "id": "2293a2c1-e897-4bae-b93f-4f93f668c378",
   "metadata": {},
   "outputs": [
    {
     "ename": "KeyError",
     "evalue": "'course'",
     "output_type": "error",
     "traceback": [
      "\u001b[0;31m---------------------------------------------------------------------------\u001b[0m",
      "\u001b[0;31mKeyError\u001b[0m                                  Traceback (most recent call last)",
      "Cell \u001b[0;32mIn[49], line 2\u001b[0m\n\u001b[1;32m      1\u001b[0m d \u001b[38;5;241m=\u001b[39m {\u001b[38;5;124m'\u001b[39m\u001b[38;5;124mname\u001b[39m\u001b[38;5;124m'\u001b[39m : \u001b[38;5;124m'\u001b[39m\u001b[38;5;124msudh\u001b[39m\u001b[38;5;124m'\u001b[39m, \u001b[38;5;124m'\u001b[39m\u001b[38;5;124mmobile_no\u001b[39m\u001b[38;5;124m'\u001b[39m : \u001b[38;5;241m23432\u001b[39m, \u001b[38;5;124m'\u001b[39m\u001b[38;5;124memail_id\u001b[39m\u001b[38;5;124m'\u001b[39m : \u001b[38;5;124m'\u001b[39m\u001b[38;5;124msudh@gmail.com\u001b[39m\u001b[38;5;124m'\u001b[39m}\n\u001b[0;32m----> 2\u001b[0m \u001b[43md\u001b[49m\u001b[43m[\u001b[49m\u001b[38;5;124;43m'\u001b[39;49m\u001b[38;5;124;43mcourse\u001b[39;49m\u001b[38;5;124;43m'\u001b[39;49m\u001b[43m]\u001b[49m\n",
      "\u001b[0;31mKeyError\u001b[0m: 'course'"
     ]
    }
   ],
   "source": [
    "d = {'name' : 'sudh', 'mobile_no' : 23432, 'email_id' : 'sudh@gmail.com'}\n",
    "d['course']"
   ]
  },
  {
   "cell_type": "code",
   "execution_count": 50,
   "id": "be535d31-db31-4691-afcb-d89bb1c36e08",
   "metadata": {},
   "outputs": [
    {
     "data": {
      "text/plain": [
       "{'name': 'sudh', 'mobile_no': 23432, 'email_id': 'sudh@gmail.com'}"
      ]
     },
     "execution_count": 50,
     "metadata": {},
     "output_type": "execute_result"
    }
   ],
   "source": [
    "d"
   ]
  },
  {
   "cell_type": "code",
   "execution_count": 52,
   "id": "6e0e4b42-1518-4ff7-9028-2685f3b8d69e",
   "metadata": {},
   "outputs": [
    {
     "name": "stdout",
     "output_type": "stream",
     "text": [
      "This is a KeyError\n"
     ]
    }
   ],
   "source": [
    "try:\n",
    "    d = {'name' : 'sudh', 'mobile_no' : 23432, 'email_id' : 'sudh@gmail.com'}\n",
    "    d['course']\n",
    "except Exception as e:\n",
    "    print('This is a KeyError')"
   ]
  },
  {
   "cell_type": "code",
   "execution_count": 54,
   "id": "78ebba1d-352e-4625-a55a-d64fcd49ec37",
   "metadata": {},
   "outputs": [
    {
     "name": "stdout",
     "output_type": "stream",
     "text": [
      "list index out of range\n"
     ]
    }
   ],
   "source": [
    "try:\n",
    "    l = [4, 5, 6, 7, 7, 8]\n",
    "    l[10]\n",
    "except Exception as e:\n",
    "    print(e)"
   ]
  },
  {
   "cell_type": "code",
   "execution_count": 56,
   "id": "491de863-41cb-43a9-b80d-27ca71390b23",
   "metadata": {},
   "outputs": [
    {
     "name": "stdout",
     "output_type": "stream",
     "text": [
      "invalid literal for int() with base 10: 'sudh'\n"
     ]
    }
   ],
   "source": [
    "try:\n",
    "    a = 'sudh'\n",
    "    int(a)\n",
    "except Exception as e:\n",
    "    print(e)"
   ]
  },
  {
   "cell_type": "code",
   "execution_count": 61,
   "id": "4969b7cd-6b00-4574-99e1-52a7fdf08481",
   "metadata": {},
   "outputs": [
    {
     "data": {
      "text/plain": [
       "'/Users/batman/Desktop/PythonBasics'"
      ]
     },
     "execution_count": 61,
     "metadata": {},
     "output_type": "execute_result"
    }
   ],
   "source": [
    "pwd"
   ]
  },
  {
   "cell_type": "code",
   "execution_count": 65,
   "id": "b9172d22-80c2-4d82-9300-2b9847807b53",
   "metadata": {},
   "outputs": [
    {
     "data": {
      "text/plain": [
       "'This is temp file2 (.txt) file.'"
      ]
     },
     "execution_count": 65,
     "metadata": {},
     "output_type": "execute_result"
    }
   ],
   "source": [
    "file_name = './static_files/test2.txt'\n",
    "f = open(file_name)\n",
    "f.read()"
   ]
  },
  {
   "cell_type": "code",
   "execution_count": 69,
   "id": "7ac0ff6b-8f76-44e7-bf94-d8e8ecad44c2",
   "metadata": {},
   "outputs": [
    {
     "name": "stdin",
     "output_type": "stream",
     "text": [
      "enter a number fasdsdfsd\n"
     ]
    },
    {
     "name": "stdout",
     "output_type": "stream",
     "text": [
      "user has entered valid input\n"
     ]
    }
   ],
   "source": [
    "try:\n",
    "    n = int(input(\"enter a number\"))\n",
    "    div = 342 / n\n",
    "    print(div)\n",
    "except ValueError:\n",
    "    print(\"user has entered valid input\")\n",
    "except ZeroDivisionError:\n",
    "    print(\"user has entered 0\")"
   ]
  },
  {
   "cell_type": "code",
   "execution_count": 74,
   "id": "7a65175d-4422-4ced-a515-48350add1e84",
   "metadata": {},
   "outputs": [
    {
     "name": "stdin",
     "output_type": "stream",
     "text": [
      "Enter a number:  asd\n"
     ]
    },
    {
     "name": "stdout",
     "output_type": "stream",
     "text": [
      "User has entered invalid input\n"
     ]
    }
   ],
   "source": [
    "try:\n",
    "    try:\n",
    "        n = int(input(\"Enter a number: \"))\n",
    "        div = 342 / n\n",
    "        print(div)\n",
    "    except ZeroDivisionError:\n",
    "        print(\"User has entered zero\")\n",
    "except ValueError:\n",
    "    print(\"User has entered invalid input\")"
   ]
  },
  {
   "cell_type": "code",
   "execution_count": 81,
   "id": "3a8eb39c-e328-4e54-b899-3c1b442d3db8",
   "metadata": {},
   "outputs": [
    {
     "ename": "UnsupportedOperation",
     "evalue": "not writable",
     "output_type": "error",
     "traceback": [
      "\u001b[0;31m---------------------------------------------------------------------------\u001b[0m",
      "\u001b[0;31mUnsupportedOperation\u001b[0m                      Traceback (most recent call last)",
      "Cell \u001b[0;32mIn[81], line 2\u001b[0m\n\u001b[1;32m      1\u001b[0m f \u001b[38;5;241m=\u001b[39m \u001b[38;5;28mopen\u001b[39m(\u001b[38;5;124m'\u001b[39m\u001b[38;5;124m./static_files/test2.txt\u001b[39m\u001b[38;5;124m'\u001b[39m)\n\u001b[0;32m----> 2\u001b[0m \u001b[43mf\u001b[49m\u001b[38;5;241;43m.\u001b[39;49m\u001b[43mwrite\u001b[49m\u001b[43m(\u001b[49m\u001b[38;5;124;43m'\u001b[39;49m\u001b[38;5;124;43mfasfasfdsDSSD\u001b[39;49m\u001b[38;5;124;43m'\u001b[39;49m\u001b[43m)\u001b[49m\n\u001b[1;32m      3\u001b[0m f\u001b[38;5;241m.\u001b[39mclose()\n",
      "\u001b[0;31mUnsupportedOperation\u001b[0m: not writable"
     ]
    }
   ],
   "source": [
    "f = open('./static_files/test2.txt')\n",
    "f.write('fasfasfdsDSSD')\n",
    "f.close()"
   ]
  },
  {
   "cell_type": "code",
   "execution_count": 83,
   "id": "1e05319f-65f5-429e-aaa2-750d008d8b1b",
   "metadata": {},
   "outputs": [
    {
     "name": "stdout",
     "output_type": "stream",
     "text": [
      "there is some issue\n",
      "File closed\n"
     ]
    }
   ],
   "source": [
    "try:\n",
    "    f = open('./static_files/test2.txt')\n",
    "    f.write('fasfasfdsDSSD')\n",
    "except Exception:\n",
    "    print(\"there is some issue\")\n",
    "finally:\n",
    "    f.close()\n",
    "    print(\"File closed\")"
   ]
  },
  {
   "cell_type": "code",
   "execution_count": 84,
   "id": "13501417-19ae-41bb-afa7-66c357f5b4ba",
   "metadata": {},
   "outputs": [
    {
     "name": "stdout",
     "output_type": "stream",
     "text": [
      "This is temp file2 (.txt) file.\n",
      "File closed\n"
     ]
    }
   ],
   "source": [
    "try:\n",
    "    f = open('./static_files/test2.txt')\n",
    "    data = f.read()\n",
    "except Exception:\n",
    "    print(\"there is some issue\")\n",
    "else:\n",
    "    print(data)\n",
    "finally:\n",
    "    f.close()\n",
    "    print(\"File closed\")"
   ]
  },
  {
   "cell_type": "code",
   "execution_count": 87,
   "id": "67cf815a-53e3-4bf9-a9c0-d0c7242c8930",
   "metadata": {},
   "outputs": [],
   "source": [
    "# try:\n",
    "#     f = open('./static_files/test2.txt')\n",
    "#     data = f.read()\n",
    "# except Exception:\n",
    "#     print(\"there is some issue\")\n",
    "# else:\n",
    "#     print(data)\n",
    "# finally:\n",
    "#     try:\n",
    "#         print(data)\n",
    "#     except Exception:\n",
    "#         pass\n",
    "#     f.close()\n",
    "#     print(\"File closed\")"
   ]
  },
  {
   "cell_type": "code",
   "execution_count": 89,
   "id": "e94b9309-ae18-4220-bf86-9425fd448db6",
   "metadata": {},
   "outputs": [
    {
     "name": "stdin",
     "output_type": "stream",
     "text": [
      "Enter the height of the wall:  -234\n"
     ]
    }
   ],
   "source": [
    "a = int(input(\"Enter the height of the wall: \"))"
   ]
  },
  {
   "cell_type": "code",
   "execution_count": 90,
   "id": "9b59bb60-9840-4e31-b474-3c9d1e3722ec",
   "metadata": {},
   "outputs": [
    {
     "name": "stdin",
     "output_type": "stream",
     "text": [
      "Enter the height of the wall:  -23\n"
     ]
    },
    {
     "name": "stdout",
     "output_type": "stream",
     "text": [
      "Enter the height is negative\n"
     ]
    }
   ],
   "source": [
    "try:\n",
    "    a = int(input(\"Enter the height of the wall: \"))\n",
    "    if a < 0:\n",
    "        raise ValueError(\"Enter the height is negative\")\n",
    "except ValueError as v:\n",
    "    print(v)"
   ]
  },
  {
   "cell_type": "code",
   "execution_count": 95,
   "id": "01705c02-c029-4253-ac58-41ef3341b4aa",
   "metadata": {},
   "outputs": [
    {
     "name": "stdin",
     "output_type": "stream",
     "text": [
      "Enter your age:  -2\n"
     ]
    },
    {
     "name": "stdout",
     "output_type": "stream",
     "text": [
      "User has entered a negative age which is not valid\n"
     ]
    }
   ],
   "source": [
    "try:\n",
    "    age = int(input(\"Enter your age: \"))\n",
    "    if age < 0:\n",
    "        raise ValueError(\"User has entered a negative age which is not valid\")\n",
    "    elif age < 18:\n",
    "        raise ValueError(\"User is underage\")\n",
    "    else:\n",
    "        print(\"Valid User\")\n",
    "except Exception as e:\n",
    "    print(e)"
   ]
  }
 ],
 "metadata": {
  "kernelspec": {
   "display_name": "Python 3 (ipykernel)",
   "language": "python",
   "name": "python3"
  },
  "language_info": {
   "codemirror_mode": {
    "name": "ipython",
    "version": 3
   },
   "file_extension": ".py",
   "mimetype": "text/x-python",
   "name": "python",
   "nbconvert_exporter": "python",
   "pygments_lexer": "ipython3",
   "version": "3.8.18"
  }
 },
 "nbformat": 4,
 "nbformat_minor": 5
}
